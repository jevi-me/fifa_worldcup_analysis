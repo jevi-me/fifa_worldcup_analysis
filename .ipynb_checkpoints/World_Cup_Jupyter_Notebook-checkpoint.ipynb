{
 "cells": [
  {
   "cell_type": "markdown",
   "metadata": {
    "colab_type": "text",
    "id": "VdBm4FTKA5fw"
   },
   "source": [
    "<h1 style='color:gray'> SCS 3250-029 Foundations of Data Science</h1>\n",
    "## Term Project - FIFA World Cup Analysis"
   ]
  },
  {
   "cell_type": "code",
   "execution_count": 42,
   "metadata": {
    "colab": {
     "autoexec": {
      "startup": false,
      "wait_interval": 0
     }
    },
    "colab_type": "code",
    "id": "8XMrRHIMA5fy"
   },
   "outputs": [],
   "source": [
    "#Libraries\n",
    "import pandas as pd\n",
    "import numpy as np\n",
    "import matplotlib.pyplot as plt\n",
    "from matplotlib.ticker import MultipleLocator, FormatStrFormatter\n",
    "\n",
    "import scipy as sp\n",
    "from scipy.stats import poisson\n",
    "\n",
    "import warnings\n",
    "warnings.filterwarnings(\"ignore\")\n",
    "\n",
    "plt.rc('figure', figsize=(10, 6))\n",
    "np.set_printoptions(precision=4)\n",
    "\n",
    "#Set as default behaviour. May be overwritten in code below\n",
    "pd.options.display.max_rows = 10  \n"
   ]
  },
  {
   "cell_type": "markdown",
   "metadata": {
    "colab_type": "text",
    "id": "FwcxFctiA5f1"
   },
   "source": [
    "<h1 style='color:green'> Data Collection</h1>\n",
    "<h3 style='color:black'>Description</h3>\n",
    "\n",
    "<b>Source</b>: https://www.kaggle.com/abecklas/fifa-world-cup <br>\n",
    "<b>Context</b>: The FIFA World Cup is a global football competition contested by the senior men's national teams from the 208 Member Associations of FIFA. The competition is held every four years since the inaugural tournament in 1930, with two exceptions. It is the most prestigious and important trophy in the sport of football.\n",
    "***"
   ]
  },
  {
   "cell_type": "code",
   "execution_count": 43,
   "metadata": {
    "colab": {
     "autoexec": {
      "startup": false,
      "wait_interval": 0
     }
    },
    "colab_type": "code",
    "id": "aeiTM1RaA5f1"
   },
   "outputs": [],
   "source": [
    "world_cup         = pd.read_csv(\"WorldCups.csv\")\n",
    "world_cup_matches = pd.read_csv(\"WorldCupMatches.csv\")\n",
    "world_cup_players = pd.read_csv(\"WorldCupPlayers.csv\")"
   ]
  },
  {
   "cell_type": "markdown",
   "metadata": {
    "colab_type": "text",
    "id": "cHilVF2WSLSn"
   },
   "source": [
    "***\n",
    "<h1 style='color:green'> Data Preparation</h1>\n",
    "<h3 style='color:black'>Description</h3>\n",
    "\n",
    "<b>A. Completeness of the Data</b>\n",
    "1. Treatment of Null Rows / Cells  <br>\n",
    "2. Treatment of Duplicate Rows<br> \n",
    "3. 'Missing Data'  vs 'Not Applicable'\n",
    "\n",
    "<b>B. Anomalies</b>\n",
    "1. Wrong Data Type\n",
    "2. Inconsistency in Names/Spellings and Mojibake\n",
    "3. Foreign Language Characters\n",
    "\n",
    "<b> C. Data Tidiness </b>\n",
    "\n",
    "<b>D. Data Integrity </b>\n",
    "1. Basic Trends and Coorelation\n",
    "2. Outlier Identification\n",
    "***"
   ]
  },
  {
   "cell_type": "markdown",
   "metadata": {
    "colab_type": "text",
    "id": "zcQQKIsVA5f5"
   },
   "source": [
    "<h4 style='color:orange'>A. Completeness of the Data</h4>\n",
    "\n",
    "##### 1/2. Treatment of Null and Duplicate Rows"
   ]
  },
  {
   "cell_type": "code",
   "execution_count": 44,
   "metadata": {
    "colab": {
     "autoexec": {
      "startup": false,
      "wait_interval": 0
     }
    },
    "colab_type": "code",
    "id": "1IvJDlVkA5f8"
   },
   "outputs": [
    {
     "name": "stdout",
     "output_type": "stream",
     "text": [
      "_____Info_____\n",
      "<class 'pandas.core.frame.DataFrame'>\n",
      "RangeIndex: 20 entries, 0 to 19\n",
      "Data columns (total 10 columns):\n",
      "Year              20 non-null int64\n",
      "Country           20 non-null object\n",
      "Winner            20 non-null object\n",
      "Runners-Up        20 non-null object\n",
      "Third             20 non-null object\n",
      "Fourth            20 non-null object\n",
      "GoalsScored       20 non-null int64\n",
      "QualifiedTeams    20 non-null int64\n",
      "MatchesPlayed     20 non-null int64\n",
      "Attendance        20 non-null object\n",
      "dtypes: int64(4), object(6)\n",
      "memory usage: 1.6+ KB\n"
     ]
    },
    {
     "data": {
      "text/plain": [
       "None"
      ]
     },
     "metadata": {},
     "output_type": "display_data"
    },
    {
     "name": "stdout",
     "output_type": "stream",
     "text": [
      "_____Check for Nulls_____\n"
     ]
    },
    {
     "data": {
      "text/plain": [
       "Year              0\n",
       "Country           0\n",
       "Winner            0\n",
       "Runners-Up        0\n",
       "Third             0\n",
       "Fourth            0\n",
       "GoalsScored       0\n",
       "QualifiedTeams    0\n",
       "MatchesPlayed     0\n",
       "Attendance        0\n",
       "dtype: int64"
      ]
     },
     "metadata": {},
     "output_type": "display_data"
    },
    {
     "name": "stdout",
     "output_type": "stream",
     "text": [
      "_____Check for Duplicates_____\n"
     ]
    },
    {
     "data": {
      "text/plain": [
       "0"
      ]
     },
     "metadata": {},
     "output_type": "display_data"
    }
   ],
   "source": [
    "#World Cups Files\n",
    "with pd.option_context('display.max_rows', None, 'display.max_columns', None):\n",
    "    print(\"_____Info_____\")\n",
    "    display(world_cup.info())\n",
    "    print(\"_____Check for Nulls_____\")\n",
    "    display(world_cup.isnull().sum())\n",
    "    print(\"_____Check for Duplicates_____\")\n",
    "    display(world_cup.duplicated().sum()) "
   ]
  },
  {
   "cell_type": "code",
   "execution_count": 45,
   "metadata": {
    "colab": {
     "autoexec": {
      "startup": false,
      "wait_interval": 0
     }
    },
    "colab_type": "code",
    "id": "rbuj72bmSLSt"
   },
   "outputs": [
    {
     "name": "stdout",
     "output_type": "stream",
     "text": [
      "_____Info_____\n",
      "<class 'pandas.core.frame.DataFrame'>\n",
      "RangeIndex: 37784 entries, 0 to 37783\n",
      "Data columns (total 9 columns):\n",
      "RoundID          37784 non-null int64\n",
      "MatchID          37784 non-null int64\n",
      "Team Initials    37784 non-null object\n",
      "Coach Name       37784 non-null object\n",
      "Line-up          37784 non-null object\n",
      "Shirt Number     37784 non-null int64\n",
      "Player Name      37784 non-null object\n",
      "Position         4143 non-null object\n",
      "Event            9069 non-null object\n",
      "dtypes: int64(3), object(6)\n",
      "memory usage: 2.6+ MB\n"
     ]
    },
    {
     "data": {
      "text/plain": [
       "None"
      ]
     },
     "metadata": {},
     "output_type": "display_data"
    },
    {
     "name": "stdout",
     "output_type": "stream",
     "text": [
      "_____Check for Nulls_____\n"
     ]
    },
    {
     "data": {
      "text/plain": [
       "RoundID              0\n",
       "MatchID              0\n",
       "Team Initials        0\n",
       "Coach Name           0\n",
       "Line-up              0\n",
       "Shirt Number         0\n",
       "Player Name          0\n",
       "Position         33641\n",
       "Event            28715\n",
       "dtype: int64"
      ]
     },
     "metadata": {},
     "output_type": "display_data"
    },
    {
     "name": "stdout",
     "output_type": "stream",
     "text": [
      "_____Check for Duplicates_____\n"
     ]
    },
    {
     "data": {
      "text/plain": [
       "736"
      ]
     },
     "metadata": {},
     "output_type": "display_data"
    }
   ],
   "source": [
    "#World Cup Players File\n",
    "with pd.option_context('display.max_rows', None, 'display.max_columns', None):\n",
    "    print(\"_____Info_____\")\n",
    "    display(world_cup_players.info())\n",
    "    print(\"_____Check for Nulls_____\")\n",
    "    display(world_cup_players.isnull().sum())\n",
    "    print(\"_____Check for Duplicates_____\")\n",
    "    display(world_cup_players.duplicated().sum())"
   ]
  },
  {
   "cell_type": "code",
   "execution_count": 46,
   "metadata": {
    "colab": {
     "autoexec": {
      "startup": false,
      "wait_interval": 0
     }
    },
    "colab_type": "code",
    "id": "TsP0nOSGSLSx"
   },
   "outputs": [
    {
     "name": "stdout",
     "output_type": "stream",
     "text": [
      "_____Check for Nulls_____\n"
     ]
    },
    {
     "data": {
      "text/plain": [
       "RoundID              0\n",
       "MatchID              0\n",
       "Team Initials        0\n",
       "Coach Name           0\n",
       "Line-up              0\n",
       "Shirt Number         0\n",
       "Player Name          0\n",
       "Position         33030\n",
       "Event            28225\n",
       "dtype: int64"
      ]
     },
     "metadata": {},
     "output_type": "display_data"
    },
    {
     "name": "stdout",
     "output_type": "stream",
     "text": [
      "_____Check for Duplicates_____\n"
     ]
    },
    {
     "data": {
      "text/plain": [
       "0"
      ]
     },
     "metadata": {},
     "output_type": "display_data"
    }
   ],
   "source": [
    "# In World Cup Players File, drop rows are all-null and drop duplicates, check again.\n",
    "world_cup_players.dropna(axis=0, how='all', inplace=True)\n",
    "world_cup_players.drop_duplicates(inplace=True)\n",
    "\n",
    "with pd.option_context('display.max_rows', None, 'display.max_columns', None):\n",
    "    print(\"_____Check for Nulls_____\")\n",
    "    display(world_cup_players.isnull().sum())\n",
    "    print(\"_____Check for Duplicates_____\")\n",
    "    display(world_cup_players.duplicated().sum())"
   ]
  },
  {
   "cell_type": "code",
   "execution_count": 47,
   "metadata": {
    "colab": {
     "autoexec": {
      "startup": false,
      "wait_interval": 0
     }
    },
    "colab_type": "code",
    "id": "d9Ru5IfDA5gI"
   },
   "outputs": [
    {
     "name": "stdout",
     "output_type": "stream",
     "text": [
      "_____Info_____\n",
      "<class 'pandas.core.frame.DataFrame'>\n",
      "RangeIndex: 4572 entries, 0 to 4571\n",
      "Data columns (total 20 columns):\n",
      "Year                    852 non-null float64\n",
      "Datetime                852 non-null object\n",
      "Stage                   852 non-null object\n",
      "Stadium                 852 non-null object\n",
      "City                    852 non-null object\n",
      "Home Team Name          852 non-null object\n",
      "Home Team Goals         852 non-null float64\n",
      "Away Team Goals         852 non-null float64\n",
      "Away Team Name          852 non-null object\n",
      "Win conditions          852 non-null object\n",
      "Attendance              850 non-null float64\n",
      "Half-time Home Goals    852 non-null float64\n",
      "Half-time Away Goals    852 non-null float64\n",
      "Referee                 852 non-null object\n",
      "Assistant 1             852 non-null object\n",
      "Assistant 2             852 non-null object\n",
      "RoundID                 852 non-null float64\n",
      "MatchID                 852 non-null float64\n",
      "Home Team Initials      852 non-null object\n",
      "Away Team Initials      852 non-null object\n",
      "dtypes: float64(8), object(12)\n",
      "memory usage: 714.5+ KB\n"
     ]
    },
    {
     "data": {
      "text/plain": [
       "None"
      ]
     },
     "metadata": {},
     "output_type": "display_data"
    },
    {
     "name": "stdout",
     "output_type": "stream",
     "text": [
      "_____Check for Nulls_____\n"
     ]
    },
    {
     "data": {
      "text/plain": [
       "Year                    3720\n",
       "Datetime                3720\n",
       "Stage                   3720\n",
       "Stadium                 3720\n",
       "City                    3720\n",
       "Home Team Name          3720\n",
       "Home Team Goals         3720\n",
       "Away Team Goals         3720\n",
       "Away Team Name          3720\n",
       "Win conditions          3720\n",
       "Attendance              3722\n",
       "Half-time Home Goals    3720\n",
       "Half-time Away Goals    3720\n",
       "Referee                 3720\n",
       "Assistant 1             3720\n",
       "Assistant 2             3720\n",
       "RoundID                 3720\n",
       "MatchID                 3720\n",
       "Home Team Initials      3720\n",
       "Away Team Initials      3720\n",
       "dtype: int64"
      ]
     },
     "metadata": {},
     "output_type": "display_data"
    },
    {
     "name": "stdout",
     "output_type": "stream",
     "text": [
      "_____Check for Duplicates_____\n"
     ]
    },
    {
     "data": {
      "text/plain": [
       "3735"
      ]
     },
     "metadata": {},
     "output_type": "display_data"
    }
   ],
   "source": [
    "#World Cup Matches File\n",
    "with pd.option_context('display.max_rows', None, 'display.max_columns', None):\n",
    "    print(\"_____Info_____\")\n",
    "    display(world_cup_matches.info())\n",
    "    print(\"_____Check for Nulls_____\")\n",
    "    display(world_cup_matches.isnull().sum())\n",
    "    print(\"_____Check for Duplicates_____\")\n",
    "    display(world_cup_matches.duplicated().sum()) "
   ]
  },
  {
   "cell_type": "code",
   "execution_count": 48,
   "metadata": {
    "colab": {
     "autoexec": {
      "startup": false,
      "wait_interval": 0
     }
    },
    "colab_type": "code",
    "id": "Mwey9cK4A5gQ"
   },
   "outputs": [
    {
     "name": "stdout",
     "output_type": "stream",
     "text": [
      "_____Check for Nulls_____\n"
     ]
    },
    {
     "data": {
      "text/plain": [
       "Year                    0\n",
       "Datetime                0\n",
       "Stage                   0\n",
       "Stadium                 0\n",
       "City                    0\n",
       "Home Team Name          0\n",
       "Home Team Goals         0\n",
       "Away Team Goals         0\n",
       "Away Team Name          0\n",
       "Win conditions          0\n",
       "Attendance              1\n",
       "Half-time Home Goals    0\n",
       "Half-time Away Goals    0\n",
       "Referee                 0\n",
       "Assistant 1             0\n",
       "Assistant 2             0\n",
       "RoundID                 0\n",
       "MatchID                 0\n",
       "Home Team Initials      0\n",
       "Away Team Initials      0\n",
       "dtype: int64"
      ]
     },
     "metadata": {},
     "output_type": "display_data"
    },
    {
     "name": "stdout",
     "output_type": "stream",
     "text": [
      "_____Check for Duplicates_____\n"
     ]
    },
    {
     "data": {
      "text/plain": [
       "0"
      ]
     },
     "metadata": {},
     "output_type": "display_data"
    }
   ],
   "source": [
    "# In World Cup Matches File, drop rows are all-null and drop duplicates, check again.\n",
    "world_cup_matches.dropna(axis=0, how='all', inplace=True)\n",
    "world_cup_matches.drop_duplicates(inplace=True)\n",
    "\n",
    "with pd.option_context('display.max_rows', None, 'display.max_columns', None):\n",
    "    print(\"_____Check for Nulls_____\")\n",
    "    display(world_cup_matches.isnull().sum())\n",
    "    print(\"_____Check for Duplicates_____\")\n",
    "    display(world_cup_matches.duplicated().sum())"
   ]
  },
  {
   "cell_type": "markdown",
   "metadata": {
    "colab_type": "text",
    "id": "vaLGyNslSLS7"
   },
   "source": [
    "Entries are missing the audience data"
   ]
  },
  {
   "cell_type": "code",
   "execution_count": 49,
   "metadata": {
    "colab": {
     "autoexec": {
      "startup": false,
      "wait_interval": 0
     }
    },
    "colab_type": "code",
    "id": "NU4xpgefSLS8"
   },
   "outputs": [
    {
     "data": {
      "text/html": [
       "<div>\n",
       "<style scoped>\n",
       "    .dataframe tbody tr th:only-of-type {\n",
       "        vertical-align: middle;\n",
       "    }\n",
       "\n",
       "    .dataframe tbody tr th {\n",
       "        vertical-align: top;\n",
       "    }\n",
       "\n",
       "    .dataframe thead th {\n",
       "        text-align: right;\n",
       "    }\n",
       "</style>\n",
       "<table border=\"1\" class=\"dataframe\">\n",
       "  <thead>\n",
       "    <tr style=\"text-align: right;\">\n",
       "      <th></th>\n",
       "      <th>Year</th>\n",
       "      <th>Datetime</th>\n",
       "      <th>Stage</th>\n",
       "      <th>Stadium</th>\n",
       "      <th>City</th>\n",
       "      <th>Home Team Name</th>\n",
       "      <th>Home Team Goals</th>\n",
       "      <th>Away Team Goals</th>\n",
       "      <th>Away Team Name</th>\n",
       "      <th>Win conditions</th>\n",
       "      <th>Attendance</th>\n",
       "      <th>Half-time Home Goals</th>\n",
       "      <th>Half-time Away Goals</th>\n",
       "      <th>Referee</th>\n",
       "      <th>Assistant 1</th>\n",
       "      <th>Assistant 2</th>\n",
       "      <th>RoundID</th>\n",
       "      <th>MatchID</th>\n",
       "      <th>Home Team Initials</th>\n",
       "      <th>Away Team Initials</th>\n",
       "    </tr>\n",
       "  </thead>\n",
       "  <tbody>\n",
       "    <tr>\n",
       "      <th>823</th>\n",
       "      <td>2014.0</td>\n",
       "      <td>30 Jun 2014 - 17:00</td>\n",
       "      <td>Round of 16</td>\n",
       "      <td>Estadio Beira-Rio</td>\n",
       "      <td>Porto Alegre</td>\n",
       "      <td>Germany</td>\n",
       "      <td>2.0</td>\n",
       "      <td>1.0</td>\n",
       "      <td>Algeria</td>\n",
       "      <td>Germany win after extra time</td>\n",
       "      <td>NaN</td>\n",
       "      <td>0.0</td>\n",
       "      <td>0.0</td>\n",
       "      <td>RICCI Sandro (BRA)</td>\n",
       "      <td>DE CARVALHO Emerson (BRA)</td>\n",
       "      <td>VAN GASSE Marcelo (BRA)</td>\n",
       "      <td>255951.0</td>\n",
       "      <td>300186460.0</td>\n",
       "      <td>GER</td>\n",
       "      <td>ALG</td>\n",
       "    </tr>\n",
       "  </tbody>\n",
       "</table>\n",
       "</div>"
      ],
      "text/plain": [
       "       Year              Datetime        Stage            Stadium  \\\n",
       "823  2014.0  30 Jun 2014 - 17:00   Round of 16  Estadio Beira-Rio   \n",
       "\n",
       "              City Home Team Name  Home Team Goals  Away Team Goals  \\\n",
       "823  Porto Alegre         Germany              2.0              1.0   \n",
       "\n",
       "    Away Team Name                 Win conditions  Attendance  \\\n",
       "823        Algeria  Germany win after extra time          NaN   \n",
       "\n",
       "     Half-time Home Goals  Half-time Away Goals             Referee  \\\n",
       "823                   0.0                   0.0  RICCI Sandro (BRA)   \n",
       "\n",
       "                   Assistant 1              Assistant 2   RoundID  \\\n",
       "823  DE CARVALHO Emerson (BRA)  VAN GASSE Marcelo (BRA)  255951.0   \n",
       "\n",
       "         MatchID Home Team Initials Away Team Initials  \n",
       "823  300186460.0                GER                ALG  "
      ]
     },
     "metadata": {},
     "output_type": "display_data"
    }
   ],
   "source": [
    "display(world_cup_matches[world_cup_matches.isnull().any(axis=1)])"
   ]
  },
  {
   "cell_type": "markdown",
   "metadata": {
    "colab_type": "text",
    "id": "sJ4j87xOA5ga"
   },
   "source": [
    "##### 3. 'Missing Data' vs 'Not Applicable'? "
   ]
  },
  {
   "cell_type": "markdown",
   "metadata": {
    "colab_type": "text",
    "id": "LQaHV9WaSLTA"
   },
   "source": [
    "<b>For World Cup Players File</b><br>\n",
    "The following columns contain blank entries that could be better labelled as 'Not Applicable'<br>\n",
    "\n",
    "<i>Position:</i><br>\n",
    "C=Captain, GK=Goalkeeper\n",
    "\n",
    "<i>Event:</i><br>\n",
    "G=Goal, OG=Own Goal, Y=Yellow Card, R=Red Card, SY = Red Card by second yellow, P=Penalty, MP=Missed Penalty, I = Substitution In, O=Substitute Out"
   ]
  },
  {
   "cell_type": "code",
   "execution_count": 50,
   "metadata": {
    "colab": {
     "autoexec": {
      "startup": false,
      "wait_interval": 0
     }
    },
    "colab_type": "code",
    "id": "9vh8H8xHA5gb"
   },
   "outputs": [],
   "source": [
    "world_cup_players['Event'] = world_cup_players['Event'].fillna('Not Applicable')\n",
    "world_cup_players['Position'] = world_cup_players['Position'].fillna('Not Applicable')"
   ]
  },
  {
   "cell_type": "markdown",
   "metadata": {
    "colab": {
     "autoexec": {
      "startup": false,
      "wait_interval": 0
     }
    },
    "colab_type": "code",
    "id": "3fMZhy99A5gf"
   },
   "source": [
    "<b>For World Cup Matches File</b>\n",
    "\n",
    "For match 300186460, attendance should be: 43,063<br>\n",
    "Source: https://www.fifa.com/worldcup/matches/round=255951/match=300186460/index.html#lineups#nosticky"
   ]
  },
  {
   "cell_type": "code",
   "execution_count": 51,
   "metadata": {
    "colab": {
     "autoexec": {
      "startup": false,
      "wait_interval": 0
     }
    },
    "colab_type": "code",
    "id": "oTefwZQzSLTG"
   },
   "outputs": [
    {
     "data": {
      "text/plain": [
       "nan"
      ]
     },
     "metadata": {},
     "output_type": "display_data"
    },
    {
     "data": {
      "text/plain": [
       "43063.0"
      ]
     },
     "metadata": {},
     "output_type": "display_data"
    }
   ],
   "source": [
    "display(world_cup_matches.at[823,'Attendance'])\n",
    "world_cup_matches.at[823,'Attendance'] = 43063\n",
    "display(world_cup_matches.at[823,'Attendance'])"
   ]
  },
  {
   "cell_type": "markdown",
   "metadata": {
    "colab_type": "text",
    "id": "avhFa864A5gh"
   },
   "source": [
    "<h4 style='color:orange'> B. Data Anomalies</h4>\n",
    "The following anomalies were found as part of data preparation and were corrected."
   ]
  },
  {
   "cell_type": "markdown",
   "metadata": {
    "colab_type": "text",
    "id": "iM4NZn-oA5gi"
   },
   "source": [
    "##### Anomaly # 1 - Wrong Data Type\n",
    "\n",
    "'Attendance' columns were imported as 'object', but is better suited as an 'integer'. <br>\n",
    "Columns with year, goals counts, and IDs are also better suited as 'integers'<br>\n",
    "'Datetime' columns were imported 'object', but is better suited as an 'datetime'. "
   ]
  },
  {
   "cell_type": "code",
   "execution_count": 52,
   "metadata": {
    "colab": {
     "autoexec": {
      "startup": false,
      "wait_interval": 0
     }
    },
    "colab_type": "code",
    "id": "YFqnPP3YA5gl"
   },
   "outputs": [],
   "source": [
    "# Change the type of Attendance to Integer\n",
    "world_cup['Attendance'] = world_cup['Attendance'].str.replace('.', '').astype('int64')\n",
    "world_cup_matches['Attendance'] = world_cup_matches['Attendance'].astype('int64') \n",
    "\n",
    "#Columns with year, goals counts, and ids to Integer\n",
    "world_cup_matches['Year'] = world_cup_matches['Year'].astype('int64') \n",
    "world_cup_matches['Home Team Goals'] = world_cup_matches['Home Team Goals'].astype('int64') \n",
    "world_cup_matches['Away Team Goals'] = world_cup_matches['Away Team Goals'].astype('int64') \n",
    "world_cup_matches['Half-time Home Goals'] = world_cup_matches['Half-time Home Goals'].astype('int64') \n",
    "world_cup_matches['Half-time Away Goals'] = world_cup_matches['Half-time Away Goals'].astype('int64') \n",
    "world_cup_matches['RoundID'] = world_cup_matches['RoundID'].astype('int64') \n",
    "world_cup_matches['MatchID'] = world_cup_matches['MatchID'].astype('int64') \n",
    "\n",
    "# Change the type of Datetime to datetime64\n",
    "world_cup_matches['Datetime'] = world_cup_matches['Datetime'].replace('.', '').astype('datetime64')\n",
    "\n"
   ]
  },
  {
   "cell_type": "code",
   "execution_count": 53,
   "metadata": {
    "colab": {
     "autoexec": {
      "startup": false,
      "wait_interval": 0
     }
    },
    "colab_type": "code",
    "id": "0icK8NdVA5gm"
   },
   "outputs": [
    {
     "name": "stdout",
     "output_type": "stream",
     "text": [
      "<class 'pandas.core.frame.DataFrame'>\n",
      "Int64Index: 836 entries, 0 to 835\n",
      "Data columns (total 20 columns):\n",
      "Year                    836 non-null int64\n",
      "Datetime                836 non-null datetime64[ns]\n",
      "Stage                   836 non-null object\n",
      "Stadium                 836 non-null object\n",
      "City                    836 non-null object\n",
      "Home Team Name          836 non-null object\n",
      "Home Team Goals         836 non-null int64\n",
      "Away Team Goals         836 non-null int64\n",
      "Away Team Name          836 non-null object\n",
      "Win conditions          836 non-null object\n",
      "Attendance              836 non-null int64\n",
      "Half-time Home Goals    836 non-null int64\n",
      "Half-time Away Goals    836 non-null int64\n",
      "Referee                 836 non-null object\n",
      "Assistant 1             836 non-null object\n",
      "Assistant 2             836 non-null object\n",
      "RoundID                 836 non-null int64\n",
      "MatchID                 836 non-null int64\n",
      "Home Team Initials      836 non-null object\n",
      "Away Team Initials      836 non-null object\n",
      "dtypes: datetime64[ns](1), int64(8), object(11)\n",
      "memory usage: 177.2+ KB\n"
     ]
    },
    {
     "data": {
      "text/plain": [
       "None"
      ]
     },
     "metadata": {},
     "output_type": "display_data"
    },
    {
     "name": "stdout",
     "output_type": "stream",
     "text": [
      "<class 'pandas.core.frame.DataFrame'>\n",
      "Int64Index: 37048 entries, 0 to 37047\n",
      "Data columns (total 9 columns):\n",
      "RoundID          37048 non-null int64\n",
      "MatchID          37048 non-null int64\n",
      "Team Initials    37048 non-null object\n",
      "Coach Name       37048 non-null object\n",
      "Line-up          37048 non-null object\n",
      "Shirt Number     37048 non-null int64\n",
      "Player Name      37048 non-null object\n",
      "Position         37048 non-null object\n",
      "Event            37048 non-null object\n",
      "dtypes: int64(3), object(6)\n",
      "memory usage: 2.8+ MB\n"
     ]
    },
    {
     "data": {
      "text/plain": [
       "None"
      ]
     },
     "metadata": {},
     "output_type": "display_data"
    },
    {
     "name": "stdout",
     "output_type": "stream",
     "text": [
      "<class 'pandas.core.frame.DataFrame'>\n",
      "RangeIndex: 20 entries, 0 to 19\n",
      "Data columns (total 10 columns):\n",
      "Year              20 non-null int64\n",
      "Country           20 non-null object\n",
      "Winner            20 non-null object\n",
      "Runners-Up        20 non-null object\n",
      "Third             20 non-null object\n",
      "Fourth            20 non-null object\n",
      "GoalsScored       20 non-null int64\n",
      "QualifiedTeams    20 non-null int64\n",
      "MatchesPlayed     20 non-null int64\n",
      "Attendance        20 non-null int64\n",
      "dtypes: int64(5), object(5)\n",
      "memory usage: 1.6+ KB\n"
     ]
    },
    {
     "data": {
      "text/plain": [
       "None"
      ]
     },
     "metadata": {},
     "output_type": "display_data"
    }
   ],
   "source": [
    "# Check the column data types\n",
    "display(world_cup_matches.info())\n",
    "display(world_cup_players.info())\n",
    "display(world_cup.info())"
   ]
  },
  {
   "cell_type": "markdown",
   "metadata": {
    "colab_type": "text",
    "id": "oP3-O_O4A5g1"
   },
   "source": [
    "##### Anomaly # 2 - Inconsistency in Names/Spellings and Mojibake\n",
    "Tables were parsed and reviewed for inconsistency in names and spellings or mojibake (garbled text) e.g. Under the 'Winner' column, there are two different names for Germany: 'Germany FR' and 'Germany'."
   ]
  },
  {
   "cell_type": "markdown",
   "metadata": {
    "colab_type": "text",
    "id": "C2vNWW2OSLTS"
   },
   "source": [
    "World Cup Table"
   ]
  },
  {
   "cell_type": "code",
   "execution_count": 54,
   "metadata": {
    "colab": {
     "autoexec": {
      "startup": false,
      "wait_interval": 0
     }
    },
    "colab_type": "code",
    "id": "aMh85MKMA5g1"
   },
   "outputs": [],
   "source": [
    "world_cup = world_cup.replace('Germany FR', 'Germany')"
   ]
  },
  {
   "cell_type": "code",
   "execution_count": 55,
   "metadata": {
    "colab": {
     "autoexec": {
      "startup": false,
      "wait_interval": 0
     }
    },
    "colab_type": "code",
    "id": "ZfRgNBoXA5g6"
   },
   "outputs": [
    {
     "data": {
      "text/html": [
       "<div>\n",
       "<style scoped>\n",
       "    .dataframe tbody tr th:only-of-type {\n",
       "        vertical-align: middle;\n",
       "    }\n",
       "\n",
       "    .dataframe tbody tr th {\n",
       "        vertical-align: top;\n",
       "    }\n",
       "\n",
       "    .dataframe thead th {\n",
       "        text-align: right;\n",
       "    }\n",
       "</style>\n",
       "<table border=\"1\" class=\"dataframe\">\n",
       "  <thead>\n",
       "    <tr style=\"text-align: right;\">\n",
       "      <th></th>\n",
       "      <th>Attendance</th>\n",
       "      <th>Away Team Goals</th>\n",
       "      <th>Half-time Away Goals</th>\n",
       "      <th>Half-time Home Goals</th>\n",
       "      <th>Home Team Goals</th>\n",
       "      <th>MatchID</th>\n",
       "      <th>RoundID</th>\n",
       "      <th>Year</th>\n",
       "    </tr>\n",
       "    <tr>\n",
       "      <th>Home Team Name</th>\n",
       "      <th></th>\n",
       "      <th></th>\n",
       "      <th></th>\n",
       "      <th></th>\n",
       "      <th></th>\n",
       "      <th></th>\n",
       "      <th></th>\n",
       "      <th></th>\n",
       "    </tr>\n",
       "  </thead>\n",
       "  <tbody>\n",
       "    <tr>\n",
       "      <th>Algeria</th>\n",
       "      <td>153616</td>\n",
       "      <td>10</td>\n",
       "      <td>3</td>\n",
       "      <td>3</td>\n",
       "      <td>5</td>\n",
       "      <td>600250207</td>\n",
       "      <td>506855</td>\n",
       "      <td>11960</td>\n",
       "    </tr>\n",
       "    <tr>\n",
       "      <th>Angola</th>\n",
       "      <td>45000</td>\n",
       "      <td>1</td>\n",
       "      <td>1</td>\n",
       "      <td>0</td>\n",
       "      <td>0</td>\n",
       "      <td>97410008</td>\n",
       "      <td>97410100</td>\n",
       "      <td>2006</td>\n",
       "    </tr>\n",
       "    <tr>\n",
       "      <th>Argentina</th>\n",
       "      <td>2783221</td>\n",
       "      <td>44</td>\n",
       "      <td>14</td>\n",
       "      <td>47</td>\n",
       "      <td>109</td>\n",
       "      <td>2781204251</td>\n",
       "      <td>382174070</td>\n",
       "      <td>103200</td>\n",
       "    </tr>\n",
       "    <tr>\n",
       "      <th>Australia</th>\n",
       "      <td>236788</td>\n",
       "      <td>11</td>\n",
       "      <td>5</td>\n",
       "      <td>1</td>\n",
       "      <td>7</td>\n",
       "      <td>997848331</td>\n",
       "      <td>98172208</td>\n",
       "      <td>11992</td>\n",
       "    </tr>\n",
       "    <tr>\n",
       "      <th>Austria</th>\n",
       "      <td>408402</td>\n",
       "      <td>17</td>\n",
       "      <td>10</td>\n",
       "      <td>14</td>\n",
       "      <td>31</td>\n",
       "      <td>15446</td>\n",
       "      <td>6808</td>\n",
       "      <td>25562</td>\n",
       "    </tr>\n",
       "    <tr>\n",
       "      <th>Belgium</th>\n",
       "      <td>884055</td>\n",
       "      <td>15</td>\n",
       "      <td>7</td>\n",
       "      <td>10</td>\n",
       "      <td>25</td>\n",
       "      <td>944540913</td>\n",
       "      <td>44723356</td>\n",
       "      <td>33894</td>\n",
       "    </tr>\n",
       "    <tr>\n",
       "      <th>Bolivia</th>\n",
       "      <td>63089</td>\n",
       "      <td>3</td>\n",
       "      <td>1</td>\n",
       "      <td>0</td>\n",
       "      <td>1</td>\n",
       "      <td>3075</td>\n",
       "      <td>337</td>\n",
       "      <td>1994</td>\n",
       "    </tr>\n",
       "    <tr>\n",
       "      <th>Brazil</th>\n",
       "      <td>4295738</td>\n",
       "      <td>66</td>\n",
       "      <td>33</td>\n",
       "      <td>65</td>\n",
       "      <td>176</td>\n",
       "      <td>3266879882</td>\n",
       "      <td>567765244</td>\n",
       "      <td>154424</td>\n",
       "    </tr>\n",
       "    <tr>\n",
       "      <th>Bulgaria</th>\n",
       "      <td>384269</td>\n",
       "      <td>10</td>\n",
       "      <td>5</td>\n",
       "      <td>3</td>\n",
       "      <td>11</td>\n",
       "      <td>15492</td>\n",
       "      <td>5676</td>\n",
       "      <td>13886</td>\n",
       "    </tr>\n",
       "    <tr>\n",
       "      <th>Cameroon</th>\n",
       "      <td>562388</td>\n",
       "      <td>23</td>\n",
       "      <td>8</td>\n",
       "      <td>3</td>\n",
       "      <td>11</td>\n",
       "      <td>1288408031</td>\n",
       "      <td>88913824</td>\n",
       "      <td>22014</td>\n",
       "    </tr>\n",
       "    <tr>\n",
       "      <th>Canada</th>\n",
       "      <td>65500</td>\n",
       "      <td>1</td>\n",
       "      <td>0</td>\n",
       "      <td>0</td>\n",
       "      <td>0</td>\n",
       "      <td>468</td>\n",
       "      <td>308</td>\n",
       "      <td>1986</td>\n",
       "    </tr>\n",
       "    <tr>\n",
       "      <th>Chile</th>\n",
       "      <td>468783</td>\n",
       "      <td>11</td>\n",
       "      <td>6</td>\n",
       "      <td>9</td>\n",
       "      <td>25</td>\n",
       "      <td>900339005</td>\n",
       "      <td>762743</td>\n",
       "      <td>27644</td>\n",
       "    </tr>\n",
       "    <tr>\n",
       "      <th>China PR</th>\n",
       "      <td>27217</td>\n",
       "      <td>2</td>\n",
       "      <td>0</td>\n",
       "      <td>0</td>\n",
       "      <td>0</td>\n",
       "      <td>43950012</td>\n",
       "      <td>43950100</td>\n",
       "      <td>2002</td>\n",
       "    </tr>\n",
       "    <tr>\n",
       "      <th>Colombia</th>\n",
       "      <td>359482</td>\n",
       "      <td>6</td>\n",
       "      <td>4</td>\n",
       "      <td>3</td>\n",
       "      <td>9</td>\n",
       "      <td>900580008</td>\n",
       "      <td>770178</td>\n",
       "      <td>12032</td>\n",
       "    </tr>\n",
       "    <tr>\n",
       "      <th>Costa Rica</th>\n",
       "      <td>253755</td>\n",
       "      <td>9</td>\n",
       "      <td>4</td>\n",
       "      <td>2</td>\n",
       "      <td>6</td>\n",
       "      <td>785683173</td>\n",
       "      <td>185822504</td>\n",
       "      <td>12028</td>\n",
       "    </tr>\n",
       "    <tr>\n",
       "      <th>Croatia</th>\n",
       "      <td>125451</td>\n",
       "      <td>6</td>\n",
       "      <td>1</td>\n",
       "      <td>1</td>\n",
       "      <td>3</td>\n",
       "      <td>441546505</td>\n",
       "      <td>141616131</td>\n",
       "      <td>6022</td>\n",
       "    </tr>\n",
       "    <tr>\n",
       "      <th>Cuba</th>\n",
       "      <td>15000</td>\n",
       "      <td>4</td>\n",
       "      <td>1</td>\n",
       "      <td>0</td>\n",
       "      <td>5</td>\n",
       "      <td>2313</td>\n",
       "      <td>412</td>\n",
       "      <td>3876</td>\n",
       "    </tr>\n",
       "    <tr>\n",
       "      <th>Czech Republic</th>\n",
       "      <td>95000</td>\n",
       "      <td>4</td>\n",
       "      <td>2</td>\n",
       "      <td>0</td>\n",
       "      <td>0</td>\n",
       "      <td>194820067</td>\n",
       "      <td>194820200</td>\n",
       "      <td>4012</td>\n",
       "    </tr>\n",
       "    <tr>\n",
       "      <th>Czechoslovakia</th>\n",
       "      <td>166371</td>\n",
       "      <td>8</td>\n",
       "      <td>2</td>\n",
       "      <td>8</td>\n",
       "      <td>27</td>\n",
       "      <td>11634</td>\n",
       "      <td>6133</td>\n",
       "      <td>19556</td>\n",
       "    </tr>\n",
       "    <tr>\n",
       "      <th>C�te d'Ivoire</th>\n",
       "      <td>143301</td>\n",
       "      <td>3</td>\n",
       "      <td>3</td>\n",
       "      <td>1</td>\n",
       "      <td>5</td>\n",
       "      <td>697658034</td>\n",
       "      <td>97915753</td>\n",
       "      <td>6030</td>\n",
       "    </tr>\n",
       "    <tr>\n",
       "      <th>Denmark</th>\n",
       "      <td>261149</td>\n",
       "      <td>13</td>\n",
       "      <td>7</td>\n",
       "      <td>6</td>\n",
       "      <td>13</td>\n",
       "      <td>431913122</td>\n",
       "      <td>132101047</td>\n",
       "      <td>13974</td>\n",
       "    </tr>\n",
       "    <tr>\n",
       "      <th>Ecuador</th>\n",
       "      <td>261611</td>\n",
       "      <td>3</td>\n",
       "      <td>2</td>\n",
       "      <td>1</td>\n",
       "      <td>4</td>\n",
       "      <td>538956610</td>\n",
       "      <td>239026231</td>\n",
       "      <td>8028</td>\n",
       "    </tr>\n",
       "    <tr>\n",
       "      <th>England</th>\n",
       "      <td>1730925</td>\n",
       "      <td>20</td>\n",
       "      <td>5</td>\n",
       "      <td>20</td>\n",
       "      <td>54</td>\n",
       "      <td>1377884569</td>\n",
       "      <td>478308112</td>\n",
       "      <td>69390</td>\n",
       "    </tr>\n",
       "    <tr>\n",
       "      <th>France</th>\n",
       "      <td>1155869</td>\n",
       "      <td>30</td>\n",
       "      <td>11</td>\n",
       "      <td>25</td>\n",
       "      <td>66</td>\n",
       "      <td>1783463572</td>\n",
       "      <td>284006174</td>\n",
       "      <td>57570</td>\n",
       "    </tr>\n",
       "    <tr>\n",
       "      <th>German DR</th>\n",
       "      <td>145548</td>\n",
       "      <td>2</td>\n",
       "      <td>1</td>\n",
       "      <td>0</td>\n",
       "      <td>3</td>\n",
       "      <td>6084</td>\n",
       "      <td>787</td>\n",
       "      <td>5922</td>\n",
       "    </tr>\n",
       "    <tr>\n",
       "      <th>Germany</th>\n",
       "      <td>1532571</td>\n",
       "      <td>31</td>\n",
       "      <td>10</td>\n",
       "      <td>28</td>\n",
       "      <td>66</td>\n",
       "      <td>3249311061</td>\n",
       "      <td>850196505</td>\n",
       "      <td>63912</td>\n",
       "    </tr>\n",
       "    <tr>\n",
       "      <th>Germany FR</th>\n",
       "      <td>2146670</td>\n",
       "      <td>36</td>\n",
       "      <td>14</td>\n",
       "      <td>38</td>\n",
       "      <td>99</td>\n",
       "      <td>55403</td>\n",
       "      <td>25568</td>\n",
       "      <td>84842</td>\n",
       "    </tr>\n",
       "    <tr>\n",
       "      <th>Ghana</th>\n",
       "      <td>198963</td>\n",
       "      <td>5</td>\n",
       "      <td>3</td>\n",
       "      <td>3</td>\n",
       "      <td>4</td>\n",
       "      <td>997719491</td>\n",
       "      <td>98165475</td>\n",
       "      <td>8040</td>\n",
       "    </tr>\n",
       "    <tr>\n",
       "      <th>Greece</th>\n",
       "      <td>182580</td>\n",
       "      <td>6</td>\n",
       "      <td>2</td>\n",
       "      <td>2</td>\n",
       "      <td>4</td>\n",
       "      <td>900312450</td>\n",
       "      <td>755712</td>\n",
       "      <td>8028</td>\n",
       "    </tr>\n",
       "    <tr>\n",
       "      <th>Haiti</th>\n",
       "      <td>25300</td>\n",
       "      <td>7</td>\n",
       "      <td>5</td>\n",
       "      <td>0</td>\n",
       "      <td>0</td>\n",
       "      <td>2085</td>\n",
       "      <td>262</td>\n",
       "      <td>1974</td>\n",
       "    </tr>\n",
       "    <tr>\n",
       "      <th>Honduras</th>\n",
       "      <td>152210</td>\n",
       "      <td>8</td>\n",
       "      <td>5</td>\n",
       "      <td>1</td>\n",
       "      <td>2</td>\n",
       "      <td>900436361</td>\n",
       "      <td>762170</td>\n",
       "      <td>10002</td>\n",
       "    </tr>\n",
       "    <tr>\n",
       "      <th>Hungary</th>\n",
       "      <td>402704</td>\n",
       "      <td>19</td>\n",
       "      <td>9</td>\n",
       "      <td>33</td>\n",
       "      <td>73</td>\n",
       "      <td>22112</td>\n",
       "      <td>7942</td>\n",
       "      <td>35252</td>\n",
       "    </tr>\n",
       "    <tr>\n",
       "      <th>IR Iran</th>\n",
       "      <td>39081</td>\n",
       "      <td>0</td>\n",
       "      <td>0</td>\n",
       "      <td>0</td>\n",
       "      <td>0</td>\n",
       "      <td>300186505</td>\n",
       "      <td>255931</td>\n",
       "      <td>2014</td>\n",
       "    </tr>\n",
       "    <tr>\n",
       "      <th>Iran</th>\n",
       "      <td>38000</td>\n",
       "      <td>1</td>\n",
       "      <td>0</td>\n",
       "      <td>0</td>\n",
       "      <td>1</td>\n",
       "      <td>97410040</td>\n",
       "      <td>97410100</td>\n",
       "      <td>2006</td>\n",
       "    </tr>\n",
       "    <tr>\n",
       "      <th>Iraq</th>\n",
       "      <td>123763</td>\n",
       "      <td>3</td>\n",
       "      <td>2</td>\n",
       "      <td>0</td>\n",
       "      <td>1</td>\n",
       "      <td>1054</td>\n",
       "      <td>616</td>\n",
       "      <td>3972</td>\n",
       "    </tr>\n",
       "    <tr>\n",
       "      <th>Italy</th>\n",
       "      <td>2765402</td>\n",
       "      <td>41</td>\n",
       "      <td>13</td>\n",
       "      <td>36</td>\n",
       "      <td>99</td>\n",
       "      <td>1775544374</td>\n",
       "      <td>576003446</td>\n",
       "      <td>112862</td>\n",
       "    </tr>\n",
       "    <tr>\n",
       "      <th>Jamaica</th>\n",
       "      <td>38100</td>\n",
       "      <td>3</td>\n",
       "      <td>1</td>\n",
       "      <td>1</td>\n",
       "      <td>1</td>\n",
       "      <td>8736</td>\n",
       "      <td>1014</td>\n",
       "      <td>1998</td>\n",
       "    </tr>\n",
       "    <tr>\n",
       "      <th>Japan</th>\n",
       "      <td>458075</td>\n",
       "      <td>14</td>\n",
       "      <td>4</td>\n",
       "      <td>3</td>\n",
       "      <td>7</td>\n",
       "      <td>1227122078</td>\n",
       "      <td>327434212</td>\n",
       "      <td>20052</td>\n",
       "    </tr>\n",
       "    <tr>\n",
       "      <th>Korea DPR</th>\n",
       "      <td>66384</td>\n",
       "      <td>4</td>\n",
       "      <td>3</td>\n",
       "      <td>1</td>\n",
       "      <td>2</td>\n",
       "      <td>300064774</td>\n",
       "      <td>250198</td>\n",
       "      <td>5942</td>\n",
       "    </tr>\n",
       "    <tr>\n",
       "      <th>Korea Republic</th>\n",
       "      <td>615576</td>\n",
       "      <td>22</td>\n",
       "      <td>11</td>\n",
       "      <td>5</td>\n",
       "      <td>18</td>\n",
       "      <td>1173657976</td>\n",
       "      <td>273975195</td>\n",
       "      <td>27996</td>\n",
       "    </tr>\n",
       "    <tr>\n",
       "      <th>Mexico</th>\n",
       "      <td>983130</td>\n",
       "      <td>11</td>\n",
       "      <td>6</td>\n",
       "      <td>10</td>\n",
       "      <td>22</td>\n",
       "      <td>926933832</td>\n",
       "      <td>327178746</td>\n",
       "      <td>31832</td>\n",
       "    </tr>\n",
       "    <tr>\n",
       "      <th>Morocco</th>\n",
       "      <td>130078</td>\n",
       "      <td>5</td>\n",
       "      <td>2</td>\n",
       "      <td>1</td>\n",
       "      <td>3</td>\n",
       "      <td>13054</td>\n",
       "      <td>1968</td>\n",
       "      <td>7964</td>\n",
       "    </tr>\n",
       "    <tr>\n",
       "      <th>Netherlands</th>\n",
       "      <td>1569837</td>\n",
       "      <td>20</td>\n",
       "      <td>9</td>\n",
       "      <td>19</td>\n",
       "      <td>49</td>\n",
       "      <td>2896052216</td>\n",
       "      <td>197103009</td>\n",
       "      <td>57886</td>\n",
       "    </tr>\n",
       "    <tr>\n",
       "      <th>New Zealand</th>\n",
       "      <td>23871</td>\n",
       "      <td>1</td>\n",
       "      <td>0</td>\n",
       "      <td>0</td>\n",
       "      <td>1</td>\n",
       "      <td>300061483</td>\n",
       "      <td>249722</td>\n",
       "      <td>2010</td>\n",
       "    </tr>\n",
       "    <tr>\n",
       "      <th>Nigeria</th>\n",
       "      <td>445021</td>\n",
       "      <td>14</td>\n",
       "      <td>6</td>\n",
       "      <td>7</td>\n",
       "      <td>12</td>\n",
       "      <td>944466559</td>\n",
       "      <td>44715411</td>\n",
       "      <td>18022</td>\n",
       "    </tr>\n",
       "    <tr>\n",
       "      <th>Northern Ireland</th>\n",
       "      <td>145405</td>\n",
       "      <td>6</td>\n",
       "      <td>4</td>\n",
       "      <td>1</td>\n",
       "      <td>5</td>\n",
       "      <td>4737</td>\n",
       "      <td>1349</td>\n",
       "      <td>9870</td>\n",
       "    </tr>\n",
       "    <tr>\n",
       "      <th>Norway</th>\n",
       "      <td>52395</td>\n",
       "      <td>0</td>\n",
       "      <td>0</td>\n",
       "      <td>0</td>\n",
       "      <td>1</td>\n",
       "      <td>3055</td>\n",
       "      <td>337</td>\n",
       "      <td>1994</td>\n",
       "    </tr>\n",
       "    <tr>\n",
       "      <th>Paraguay</th>\n",
       "      <td>304705</td>\n",
       "      <td>10</td>\n",
       "      <td>4</td>\n",
       "      <td>7</td>\n",
       "      <td>14</td>\n",
       "      <td>1041558247</td>\n",
       "      <td>142111628</td>\n",
       "      <td>21854</td>\n",
       "    </tr>\n",
       "    <tr>\n",
       "      <th>Peru</th>\n",
       "      <td>97491</td>\n",
       "      <td>4</td>\n",
       "      <td>3</td>\n",
       "      <td>4</td>\n",
       "      <td>13</td>\n",
       "      <td>9362</td>\n",
       "      <td>1349</td>\n",
       "      <td>9878</td>\n",
       "    </tr>\n",
       "    <tr>\n",
       "      <th>Poland</th>\n",
       "      <td>640760</td>\n",
       "      <td>14</td>\n",
       "      <td>4</td>\n",
       "      <td>13</td>\n",
       "      <td>27</td>\n",
       "      <td>141382047</td>\n",
       "      <td>141364538</td>\n",
       "      <td>31716</td>\n",
       "    </tr>\n",
       "    <tr>\n",
       "      <th>Portugal</th>\n",
       "      <td>774882</td>\n",
       "      <td>13</td>\n",
       "      <td>8</td>\n",
       "      <td>14</td>\n",
       "      <td>36</td>\n",
       "      <td>1377908829</td>\n",
       "      <td>478301423</td>\n",
       "      <td>31864</td>\n",
       "    </tr>\n",
       "    <tr>\n",
       "      <th>Romania</th>\n",
       "      <td>476164</td>\n",
       "      <td>13</td>\n",
       "      <td>5</td>\n",
       "      <td>5</td>\n",
       "      <td>15</td>\n",
       "      <td>47306</td>\n",
       "      <td>5988</td>\n",
       "      <td>17874</td>\n",
       "    </tr>\n",
       "    <tr>\n",
       "      <th>Russia</th>\n",
       "      <td>143474</td>\n",
       "      <td>2</td>\n",
       "      <td>0</td>\n",
       "      <td>3</td>\n",
       "      <td>9</td>\n",
       "      <td>344139593</td>\n",
       "      <td>44206368</td>\n",
       "      <td>6010</td>\n",
       "    </tr>\n",
       "    <tr>\n",
       "      <th>Saudi Arabia</th>\n",
       "      <td>336019</td>\n",
       "      <td>13</td>\n",
       "      <td>6</td>\n",
       "      <td>2</td>\n",
       "      <td>3</td>\n",
       "      <td>238785001</td>\n",
       "      <td>238771989</td>\n",
       "      <td>12000</td>\n",
       "    </tr>\n",
       "    <tr>\n",
       "      <th>Scotland</th>\n",
       "      <td>297468</td>\n",
       "      <td>11</td>\n",
       "      <td>2</td>\n",
       "      <td>5</td>\n",
       "      <td>11</td>\n",
       "      <td>28742</td>\n",
       "      <td>4017</td>\n",
       "      <td>17854</td>\n",
       "    </tr>\n",
       "    <tr>\n",
       "      <th>Senegal</th>\n",
       "      <td>77914</td>\n",
       "      <td>4</td>\n",
       "      <td>0</td>\n",
       "      <td>3</td>\n",
       "      <td>3</td>\n",
       "      <td>87900094</td>\n",
       "      <td>87900400</td>\n",
       "      <td>4004</td>\n",
       "    </tr>\n",
       "    <tr>\n",
       "      <th>Serbia</th>\n",
       "      <td>38833</td>\n",
       "      <td>1</td>\n",
       "      <td>0</td>\n",
       "      <td>0</td>\n",
       "      <td>0</td>\n",
       "      <td>300061471</td>\n",
       "      <td>249722</td>\n",
       "      <td>2010</td>\n",
       "    </tr>\n",
       "    <tr>\n",
       "      <th>Slovakia</th>\n",
       "      <td>80055</td>\n",
       "      <td>4</td>\n",
       "      <td>1</td>\n",
       "      <td>1</td>\n",
       "      <td>3</td>\n",
       "      <td>600122961</td>\n",
       "      <td>499444</td>\n",
       "      <td>4020</td>\n",
       "    </tr>\n",
       "    <tr>\n",
       "      <th>Slovenia</th>\n",
       "      <td>112642</td>\n",
       "      <td>6</td>\n",
       "      <td>1</td>\n",
       "      <td>3</td>\n",
       "      <td>3</td>\n",
       "      <td>644072965</td>\n",
       "      <td>44449544</td>\n",
       "      <td>6022</td>\n",
       "    </tr>\n",
       "    <tr>\n",
       "      <th>South Africa</th>\n",
       "      <td>270698</td>\n",
       "      <td>10</td>\n",
       "      <td>5</td>\n",
       "      <td>3</td>\n",
       "      <td>7</td>\n",
       "      <td>688040479</td>\n",
       "      <td>88401672</td>\n",
       "      <td>12020</td>\n",
       "    </tr>\n",
       "    <tr>\n",
       "      <th>Soviet Union</th>\n",
       "      <td>570198</td>\n",
       "      <td>18</td>\n",
       "      <td>4</td>\n",
       "      <td>15</td>\n",
       "      <td>43</td>\n",
       "      <td>22919</td>\n",
       "      <td>4639</td>\n",
       "      <td>35476</td>\n",
       "    </tr>\n",
       "    <tr>\n",
       "      <th>Spain</th>\n",
       "      <td>1286882</td>\n",
       "      <td>30</td>\n",
       "      <td>11</td>\n",
       "      <td>16</td>\n",
       "      <td>50</td>\n",
       "      <td>1968683639</td>\n",
       "      <td>469299640</td>\n",
       "      <td>59664</td>\n",
       "    </tr>\n",
       "    <tr>\n",
       "      <th>Sweden</th>\n",
       "      <td>1015606</td>\n",
       "      <td>25</td>\n",
       "      <td>11</td>\n",
       "      <td>23</td>\n",
       "      <td>53</td>\n",
       "      <td>326707489</td>\n",
       "      <td>326682957</td>\n",
       "      <td>53306</td>\n",
       "    </tr>\n",
       "    <tr>\n",
       "      <th>Switzerland</th>\n",
       "      <td>475554</td>\n",
       "      <td>16</td>\n",
       "      <td>9</td>\n",
       "      <td>8</td>\n",
       "      <td>22</td>\n",
       "      <td>1095264961</td>\n",
       "      <td>195583467</td>\n",
       "      <td>23712</td>\n",
       "    </tr>\n",
       "    <tr>\n",
       "      <th>Togo</th>\n",
       "      <td>110000</td>\n",
       "      <td>4</td>\n",
       "      <td>1</td>\n",
       "      <td>0</td>\n",
       "      <td>0</td>\n",
       "      <td>194820075</td>\n",
       "      <td>194820200</td>\n",
       "      <td>4012</td>\n",
       "    </tr>\n",
       "    <tr>\n",
       "      <th>Tunisia</th>\n",
       "      <td>168309</td>\n",
       "      <td>6</td>\n",
       "      <td>2</td>\n",
       "      <td>2</td>\n",
       "      <td>6</td>\n",
       "      <td>185312525</td>\n",
       "      <td>185310578</td>\n",
       "      <td>7988</td>\n",
       "    </tr>\n",
       "    <tr>\n",
       "      <th>Turkey</th>\n",
       "      <td>47605</td>\n",
       "      <td>0</td>\n",
       "      <td>0</td>\n",
       "      <td>6</td>\n",
       "      <td>10</td>\n",
       "      <td>43951346</td>\n",
       "      <td>43950311</td>\n",
       "      <td>3956</td>\n",
       "    </tr>\n",
       "    <tr>\n",
       "      <th>USA</th>\n",
       "      <td>657940</td>\n",
       "      <td>21</td>\n",
       "      <td>10</td>\n",
       "      <td>10</td>\n",
       "      <td>19</td>\n",
       "      <td>1341886395</td>\n",
       "      <td>142375472</td>\n",
       "      <td>29834</td>\n",
       "    </tr>\n",
       "    <tr>\n",
       "      <th>Ukraine</th>\n",
       "      <td>72000</td>\n",
       "      <td>0</td>\n",
       "      <td>0</td>\n",
       "      <td>0</td>\n",
       "      <td>1</td>\n",
       "      <td>97410048</td>\n",
       "      <td>97410100</td>\n",
       "      <td>2006</td>\n",
       "    </tr>\n",
       "    <tr>\n",
       "      <th>Uruguay</th>\n",
       "      <td>1331953</td>\n",
       "      <td>29</td>\n",
       "      <td>14</td>\n",
       "      <td>27</td>\n",
       "      <td>62</td>\n",
       "      <td>2144656931</td>\n",
       "      <td>45715386</td>\n",
       "      <td>55216</td>\n",
       "    </tr>\n",
       "    <tr>\n",
       "      <th>Wales</th>\n",
       "      <td>2823</td>\n",
       "      <td>1</td>\n",
       "      <td>1</td>\n",
       "      <td>0</td>\n",
       "      <td>2</td>\n",
       "      <td>1408</td>\n",
       "      <td>220</td>\n",
       "      <td>1958</td>\n",
       "    </tr>\n",
       "    <tr>\n",
       "      <th>Yugoslavia</th>\n",
       "      <td>431653</td>\n",
       "      <td>9</td>\n",
       "      <td>4</td>\n",
       "      <td>19</td>\n",
       "      <td>42</td>\n",
       "      <td>27839</td>\n",
       "      <td>5390</td>\n",
       "      <td>33414</td>\n",
       "    </tr>\n",
       "    <tr>\n",
       "      <th>Zaire</th>\n",
       "      <td>63200</td>\n",
       "      <td>5</td>\n",
       "      <td>3</td>\n",
       "      <td>0</td>\n",
       "      <td>0</td>\n",
       "      <td>4163</td>\n",
       "      <td>524</td>\n",
       "      <td>3948</td>\n",
       "    </tr>\n",
       "    <tr>\n",
       "      <th>rn\"&gt;Bosnia and Herzegovina</th>\n",
       "      <td>48011</td>\n",
       "      <td>1</td>\n",
       "      <td>0</td>\n",
       "      <td>1</td>\n",
       "      <td>3</td>\n",
       "      <td>300186464</td>\n",
       "      <td>255931</td>\n",
       "      <td>2014</td>\n",
       "    </tr>\n",
       "    <tr>\n",
       "      <th>rn\"&gt;Republic of Ireland</th>\n",
       "      <td>204477</td>\n",
       "      <td>2</td>\n",
       "      <td>2</td>\n",
       "      <td>0</td>\n",
       "      <td>2</td>\n",
       "      <td>43953707</td>\n",
       "      <td>43951404</td>\n",
       "      <td>9966</td>\n",
       "    </tr>\n",
       "    <tr>\n",
       "      <th>rn\"&gt;Serbia and Montenegro</th>\n",
       "      <td>43000</td>\n",
       "      <td>1</td>\n",
       "      <td>1</td>\n",
       "      <td>0</td>\n",
       "      <td>0</td>\n",
       "      <td>97410006</td>\n",
       "      <td>97410100</td>\n",
       "      <td>2006</td>\n",
       "    </tr>\n",
       "    <tr>\n",
       "      <th>rn\"&gt;Trinidad and Tobago</th>\n",
       "      <td>62959</td>\n",
       "      <td>0</td>\n",
       "      <td>0</td>\n",
       "      <td>0</td>\n",
       "      <td>0</td>\n",
       "      <td>97410004</td>\n",
       "      <td>97410100</td>\n",
       "      <td>2006</td>\n",
       "    </tr>\n",
       "    <tr>\n",
       "      <th>rn\"&gt;United Arab Emirates</th>\n",
       "      <td>30791</td>\n",
       "      <td>2</td>\n",
       "      <td>0</td>\n",
       "      <td>0</td>\n",
       "      <td>0</td>\n",
       "      <td>119</td>\n",
       "      <td>322</td>\n",
       "      <td>1990</td>\n",
       "    </tr>\n",
       "  </tbody>\n",
       "</table>\n",
       "</div>"
      ],
      "text/plain": [
       "                            Attendance  Away Team Goals  Half-time Away Goals  \\\n",
       "Home Team Name                                                                  \n",
       "Algeria                         153616               10                     3   \n",
       "Angola                           45000                1                     1   \n",
       "Argentina                      2783221               44                    14   \n",
       "Australia                       236788               11                     5   \n",
       "Austria                         408402               17                    10   \n",
       "Belgium                         884055               15                     7   \n",
       "Bolivia                          63089                3                     1   \n",
       "Brazil                         4295738               66                    33   \n",
       "Bulgaria                        384269               10                     5   \n",
       "Cameroon                        562388               23                     8   \n",
       "Canada                           65500                1                     0   \n",
       "Chile                           468783               11                     6   \n",
       "China PR                         27217                2                     0   \n",
       "Colombia                        359482                6                     4   \n",
       "Costa Rica                      253755                9                     4   \n",
       "Croatia                         125451                6                     1   \n",
       "Cuba                             15000                4                     1   \n",
       "Czech Republic                   95000                4                     2   \n",
       "Czechoslovakia                  166371                8                     2   \n",
       "C�te d'Ivoire                   143301                3                     3   \n",
       "Denmark                         261149               13                     7   \n",
       "Ecuador                         261611                3                     2   \n",
       "England                        1730925               20                     5   \n",
       "France                         1155869               30                    11   \n",
       "German DR                       145548                2                     1   \n",
       "Germany                        1532571               31                    10   \n",
       "Germany FR                     2146670               36                    14   \n",
       "Ghana                           198963                5                     3   \n",
       "Greece                          182580                6                     2   \n",
       "Haiti                            25300                7                     5   \n",
       "Honduras                        152210                8                     5   \n",
       "Hungary                         402704               19                     9   \n",
       "IR Iran                          39081                0                     0   \n",
       "Iran                             38000                1                     0   \n",
       "Iraq                            123763                3                     2   \n",
       "Italy                          2765402               41                    13   \n",
       "Jamaica                          38100                3                     1   \n",
       "Japan                           458075               14                     4   \n",
       "Korea DPR                        66384                4                     3   \n",
       "Korea Republic                  615576               22                    11   \n",
       "Mexico                          983130               11                     6   \n",
       "Morocco                         130078                5                     2   \n",
       "Netherlands                    1569837               20                     9   \n",
       "New Zealand                      23871                1                     0   \n",
       "Nigeria                         445021               14                     6   \n",
       "Northern Ireland                145405                6                     4   \n",
       "Norway                           52395                0                     0   \n",
       "Paraguay                        304705               10                     4   \n",
       "Peru                             97491                4                     3   \n",
       "Poland                          640760               14                     4   \n",
       "Portugal                        774882               13                     8   \n",
       "Romania                         476164               13                     5   \n",
       "Russia                          143474                2                     0   \n",
       "Saudi Arabia                    336019               13                     6   \n",
       "Scotland                        297468               11                     2   \n",
       "Senegal                          77914                4                     0   \n",
       "Serbia                           38833                1                     0   \n",
       "Slovakia                         80055                4                     1   \n",
       "Slovenia                        112642                6                     1   \n",
       "South Africa                    270698               10                     5   \n",
       "Soviet Union                    570198               18                     4   \n",
       "Spain                          1286882               30                    11   \n",
       "Sweden                         1015606               25                    11   \n",
       "Switzerland                     475554               16                     9   \n",
       "Togo                            110000                4                     1   \n",
       "Tunisia                         168309                6                     2   \n",
       "Turkey                           47605                0                     0   \n",
       "USA                             657940               21                    10   \n",
       "Ukraine                          72000                0                     0   \n",
       "Uruguay                        1331953               29                    14   \n",
       "Wales                             2823                1                     1   \n",
       "Yugoslavia                      431653                9                     4   \n",
       "Zaire                            63200                5                     3   \n",
       "rn\">Bosnia and Herzegovina       48011                1                     0   \n",
       "rn\">Republic of Ireland         204477                2                     2   \n",
       "rn\">Serbia and Montenegro        43000                1                     1   \n",
       "rn\">Trinidad and Tobago          62959                0                     0   \n",
       "rn\">United Arab Emirates         30791                2                     0   \n",
       "\n",
       "                            Half-time Home Goals  Home Team Goals     MatchID  \\\n",
       "Home Team Name                                                                  \n",
       "Algeria                                        3                5   600250207   \n",
       "Angola                                         0                0    97410008   \n",
       "Argentina                                     47              109  2781204251   \n",
       "Australia                                      1                7   997848331   \n",
       "Austria                                       14               31       15446   \n",
       "Belgium                                       10               25   944540913   \n",
       "Bolivia                                        0                1        3075   \n",
       "Brazil                                        65              176  3266879882   \n",
       "Bulgaria                                       3               11       15492   \n",
       "Cameroon                                       3               11  1288408031   \n",
       "Canada                                         0                0         468   \n",
       "Chile                                          9               25   900339005   \n",
       "China PR                                       0                0    43950012   \n",
       "Colombia                                       3                9   900580008   \n",
       "Costa Rica                                     2                6   785683173   \n",
       "Croatia                                        1                3   441546505   \n",
       "Cuba                                           0                5        2313   \n",
       "Czech Republic                                 0                0   194820067   \n",
       "Czechoslovakia                                 8               27       11634   \n",
       "C�te d'Ivoire                                  1                5   697658034   \n",
       "Denmark                                        6               13   431913122   \n",
       "Ecuador                                        1                4   538956610   \n",
       "England                                       20               54  1377884569   \n",
       "France                                        25               66  1783463572   \n",
       "German DR                                      0                3        6084   \n",
       "Germany                                       28               66  3249311061   \n",
       "Germany FR                                    38               99       55403   \n",
       "Ghana                                          3                4   997719491   \n",
       "Greece                                         2                4   900312450   \n",
       "Haiti                                          0                0        2085   \n",
       "Honduras                                       1                2   900436361   \n",
       "Hungary                                       33               73       22112   \n",
       "IR Iran                                        0                0   300186505   \n",
       "Iran                                           0                1    97410040   \n",
       "Iraq                                           0                1        1054   \n",
       "Italy                                         36               99  1775544374   \n",
       "Jamaica                                        1                1        8736   \n",
       "Japan                                          3                7  1227122078   \n",
       "Korea DPR                                      1                2   300064774   \n",
       "Korea Republic                                 5               18  1173657976   \n",
       "Mexico                                        10               22   926933832   \n",
       "Morocco                                        1                3       13054   \n",
       "Netherlands                                   19               49  2896052216   \n",
       "New Zealand                                    0                1   300061483   \n",
       "Nigeria                                        7               12   944466559   \n",
       "Northern Ireland                               1                5        4737   \n",
       "Norway                                         0                1        3055   \n",
       "Paraguay                                       7               14  1041558247   \n",
       "Peru                                           4               13        9362   \n",
       "Poland                                        13               27   141382047   \n",
       "Portugal                                      14               36  1377908829   \n",
       "Romania                                        5               15       47306   \n",
       "Russia                                         3                9   344139593   \n",
       "Saudi Arabia                                   2                3   238785001   \n",
       "Scotland                                       5               11       28742   \n",
       "Senegal                                        3                3    87900094   \n",
       "Serbia                                         0                0   300061471   \n",
       "Slovakia                                       1                3   600122961   \n",
       "Slovenia                                       3                3   644072965   \n",
       "South Africa                                   3                7   688040479   \n",
       "Soviet Union                                  15               43       22919   \n",
       "Spain                                         16               50  1968683639   \n",
       "Sweden                                        23               53   326707489   \n",
       "Switzerland                                    8               22  1095264961   \n",
       "Togo                                           0                0   194820075   \n",
       "Tunisia                                        2                6   185312525   \n",
       "Turkey                                         6               10    43951346   \n",
       "USA                                           10               19  1341886395   \n",
       "Ukraine                                        0                1    97410048   \n",
       "Uruguay                                       27               62  2144656931   \n",
       "Wales                                          0                2        1408   \n",
       "Yugoslavia                                    19               42       27839   \n",
       "Zaire                                          0                0        4163   \n",
       "rn\">Bosnia and Herzegovina                     1                3   300186464   \n",
       "rn\">Republic of Ireland                        0                2    43953707   \n",
       "rn\">Serbia and Montenegro                      0                0    97410006   \n",
       "rn\">Trinidad and Tobago                        0                0    97410004   \n",
       "rn\">United Arab Emirates                       0                0         119   \n",
       "\n",
       "                              RoundID    Year  \n",
       "Home Team Name                                 \n",
       "Algeria                        506855   11960  \n",
       "Angola                       97410100    2006  \n",
       "Argentina                   382174070  103200  \n",
       "Australia                    98172208   11992  \n",
       "Austria                          6808   25562  \n",
       "Belgium                      44723356   33894  \n",
       "Bolivia                           337    1994  \n",
       "Brazil                      567765244  154424  \n",
       "Bulgaria                         5676   13886  \n",
       "Cameroon                     88913824   22014  \n",
       "Canada                            308    1986  \n",
       "Chile                          762743   27644  \n",
       "China PR                     43950100    2002  \n",
       "Colombia                       770178   12032  \n",
       "Costa Rica                  185822504   12028  \n",
       "Croatia                     141616131    6022  \n",
       "Cuba                              412    3876  \n",
       "Czech Republic              194820200    4012  \n",
       "Czechoslovakia                   6133   19556  \n",
       "C�te d'Ivoire                97915753    6030  \n",
       "Denmark                     132101047   13974  \n",
       "Ecuador                     239026231    8028  \n",
       "England                     478308112   69390  \n",
       "France                      284006174   57570  \n",
       "German DR                         787    5922  \n",
       "Germany                     850196505   63912  \n",
       "Germany FR                      25568   84842  \n",
       "Ghana                        98165475    8040  \n",
       "Greece                         755712    8028  \n",
       "Haiti                             262    1974  \n",
       "Honduras                       762170   10002  \n",
       "Hungary                          7942   35252  \n",
       "IR Iran                        255931    2014  \n",
       "Iran                         97410100    2006  \n",
       "Iraq                              616    3972  \n",
       "Italy                       576003446  112862  \n",
       "Jamaica                          1014    1998  \n",
       "Japan                       327434212   20052  \n",
       "Korea DPR                      250198    5942  \n",
       "Korea Republic              273975195   27996  \n",
       "Mexico                      327178746   31832  \n",
       "Morocco                          1968    7964  \n",
       "Netherlands                 197103009   57886  \n",
       "New Zealand                    249722    2010  \n",
       "Nigeria                      44715411   18022  \n",
       "Northern Ireland                 1349    9870  \n",
       "Norway                            337    1994  \n",
       "Paraguay                    142111628   21854  \n",
       "Peru                             1349    9878  \n",
       "Poland                      141364538   31716  \n",
       "Portugal                    478301423   31864  \n",
       "Romania                          5988   17874  \n",
       "Russia                       44206368    6010  \n",
       "Saudi Arabia                238771989   12000  \n",
       "Scotland                         4017   17854  \n",
       "Senegal                      87900400    4004  \n",
       "Serbia                         249722    2010  \n",
       "Slovakia                       499444    4020  \n",
       "Slovenia                     44449544    6022  \n",
       "South Africa                 88401672   12020  \n",
       "Soviet Union                     4639   35476  \n",
       "Spain                       469299640   59664  \n",
       "Sweden                      326682957   53306  \n",
       "Switzerland                 195583467   23712  \n",
       "Togo                        194820200    4012  \n",
       "Tunisia                     185310578    7988  \n",
       "Turkey                       43950311    3956  \n",
       "USA                         142375472   29834  \n",
       "Ukraine                      97410100    2006  \n",
       "Uruguay                      45715386   55216  \n",
       "Wales                             220    1958  \n",
       "Yugoslavia                       5390   33414  \n",
       "Zaire                             524    3948  \n",
       "rn\">Bosnia and Herzegovina     255931    2014  \n",
       "rn\">Republic of Ireland      43951404    9966  \n",
       "rn\">Serbia and Montenegro    97410100    2006  \n",
       "rn\">Trinidad and Tobago      97410100    2006  \n",
       "rn\">United Arab Emirates          322    1990  "
      ]
     },
     "metadata": {},
     "output_type": "display_data"
    },
    {
     "data": {
      "text/html": [
       "<div>\n",
       "<style scoped>\n",
       "    .dataframe tbody tr th:only-of-type {\n",
       "        vertical-align: middle;\n",
       "    }\n",
       "\n",
       "    .dataframe tbody tr th {\n",
       "        vertical-align: top;\n",
       "    }\n",
       "\n",
       "    .dataframe thead th {\n",
       "        text-align: right;\n",
       "    }\n",
       "</style>\n",
       "<table border=\"1\" class=\"dataframe\">\n",
       "  <thead>\n",
       "    <tr style=\"text-align: right;\">\n",
       "      <th></th>\n",
       "      <th>Attendance</th>\n",
       "      <th>Away Team Goals</th>\n",
       "      <th>Half-time Away Goals</th>\n",
       "      <th>Half-time Home Goals</th>\n",
       "      <th>Home Team Goals</th>\n",
       "      <th>MatchID</th>\n",
       "      <th>RoundID</th>\n",
       "      <th>Year</th>\n",
       "    </tr>\n",
       "    <tr>\n",
       "      <th>Away Team Name</th>\n",
       "      <th></th>\n",
       "      <th></th>\n",
       "      <th></th>\n",
       "      <th></th>\n",
       "      <th></th>\n",
       "      <th></th>\n",
       "      <th></th>\n",
       "      <th></th>\n",
       "    </tr>\n",
       "  </thead>\n",
       "  <tbody>\n",
       "    <tr>\n",
       "      <th>Algeria</th>\n",
       "      <td>332522</td>\n",
       "      <td>8</td>\n",
       "      <td>4</td>\n",
       "      <td>0</td>\n",
       "      <td>9</td>\n",
       "      <td>1500683477</td>\n",
       "      <td>1267858</td>\n",
       "      <td>14030</td>\n",
       "    </tr>\n",
       "    <tr>\n",
       "      <th>Angola</th>\n",
       "      <td>81000</td>\n",
       "      <td>1</td>\n",
       "      <td>0</td>\n",
       "      <td>0</td>\n",
       "      <td>1</td>\n",
       "      <td>194820063</td>\n",
       "      <td>194820200</td>\n",
       "      <td>4012</td>\n",
       "    </tr>\n",
       "    <tr>\n",
       "      <th>Argentina</th>\n",
       "      <td>1254994</td>\n",
       "      <td>22</td>\n",
       "      <td>8</td>\n",
       "      <td>16</td>\n",
       "      <td>40</td>\n",
       "      <td>1439419836</td>\n",
       "      <td>239800603</td>\n",
       "      <td>49590</td>\n",
       "    </tr>\n",
       "    <tr>\n",
       "      <th>Australia</th>\n",
       "      <td>318747</td>\n",
       "      <td>4</td>\n",
       "      <td>3</td>\n",
       "      <td>6</td>\n",
       "      <td>15</td>\n",
       "      <td>1192591137</td>\n",
       "      <td>292986037</td>\n",
       "      <td>14026</td>\n",
       "    </tr>\n",
       "    <tr>\n",
       "      <th>Austria</th>\n",
       "      <td>584768</td>\n",
       "      <td>12</td>\n",
       "      <td>3</td>\n",
       "      <td>13</td>\n",
       "      <td>30</td>\n",
       "      <td>42628</td>\n",
       "      <td>13184</td>\n",
       "      <td>31560</td>\n",
       "    </tr>\n",
       "    <tr>\n",
       "      <th>Belgium</th>\n",
       "      <td>1156140</td>\n",
       "      <td>27</td>\n",
       "      <td>8</td>\n",
       "      <td>16</td>\n",
       "      <td>51</td>\n",
       "      <td>732249426</td>\n",
       "      <td>132374856</td>\n",
       "      <td>47476</td>\n",
       "    </tr>\n",
       "    <tr>\n",
       "      <th>Bolivia</th>\n",
       "      <td>166626</td>\n",
       "      <td>0</td>\n",
       "      <td>0</td>\n",
       "      <td>5</td>\n",
       "      <td>17</td>\n",
       "      <td>9482</td>\n",
       "      <td>1284</td>\n",
       "      <td>9798</td>\n",
       "    </tr>\n",
       "    <tr>\n",
       "      <th>Brazil</th>\n",
       "      <td>1385073</td>\n",
       "      <td>45</td>\n",
       "      <td>17</td>\n",
       "      <td>18</td>\n",
       "      <td>36</td>\n",
       "      <td>1129649245</td>\n",
       "      <td>230028330</td>\n",
       "      <td>51460</td>\n",
       "    </tr>\n",
       "    <tr>\n",
       "      <th>Bulgaria</th>\n",
       "      <td>776066</td>\n",
       "      <td>11</td>\n",
       "      <td>4</td>\n",
       "      <td>23</td>\n",
       "      <td>43</td>\n",
       "      <td>54615</td>\n",
       "      <td>10608</td>\n",
       "      <td>37626</td>\n",
       "    </tr>\n",
       "    <tr>\n",
       "      <th>Cameroon</th>\n",
       "      <td>506115</td>\n",
       "      <td>7</td>\n",
       "      <td>1</td>\n",
       "      <td>7</td>\n",
       "      <td>20</td>\n",
       "      <td>644224245</td>\n",
       "      <td>44460407</td>\n",
       "      <td>23936</td>\n",
       "    </tr>\n",
       "    <tr>\n",
       "      <th>Canada</th>\n",
       "      <td>28000</td>\n",
       "      <td>0</td>\n",
       "      <td>0</td>\n",
       "      <td>1</td>\n",
       "      <td>4</td>\n",
       "      <td>951</td>\n",
       "      <td>616</td>\n",
       "      <td>3972</td>\n",
       "    </tr>\n",
       "    <tr>\n",
       "      <th>Chile</th>\n",
       "      <td>807159</td>\n",
       "      <td>15</td>\n",
       "      <td>8</td>\n",
       "      <td>21</td>\n",
       "      <td>38</td>\n",
       "      <td>1500716683</td>\n",
       "      <td>1272476</td>\n",
       "      <td>37622</td>\n",
       "    </tr>\n",
       "    <tr>\n",
       "      <th>China PR</th>\n",
       "      <td>80355</td>\n",
       "      <td>0</td>\n",
       "      <td>0</td>\n",
       "      <td>5</td>\n",
       "      <td>7</td>\n",
       "      <td>87900068</td>\n",
       "      <td>87900200</td>\n",
       "      <td>4004</td>\n",
       "    </tr>\n",
       "    <tr>\n",
       "      <th>Colombia</th>\n",
       "      <td>525751</td>\n",
       "      <td>17</td>\n",
       "      <td>4</td>\n",
       "      <td>9</td>\n",
       "      <td>21</td>\n",
       "      <td>600392686</td>\n",
       "      <td>515554</td>\n",
       "      <td>23860</td>\n",
       "    </tr>\n",
       "    <tr>\n",
       "      <th>Costa Rica</th>\n",
       "      <td>429263</td>\n",
       "      <td>11</td>\n",
       "      <td>2</td>\n",
       "      <td>7</td>\n",
       "      <td>14</td>\n",
       "      <td>1139329838</td>\n",
       "      <td>239539082</td>\n",
       "      <td>18026</td>\n",
       "    </tr>\n",
       "    <tr>\n",
       "      <th>Croatia</th>\n",
       "      <td>615219</td>\n",
       "      <td>18</td>\n",
       "      <td>7</td>\n",
       "      <td>5</td>\n",
       "      <td>11</td>\n",
       "      <td>883154412</td>\n",
       "      <td>283239407</td>\n",
       "      <td>26030</td>\n",
       "    </tr>\n",
       "    <tr>\n",
       "      <th>Cuba</th>\n",
       "      <td>7000</td>\n",
       "      <td>0</td>\n",
       "      <td>0</td>\n",
       "      <td>4</td>\n",
       "      <td>8</td>\n",
       "      <td>1158</td>\n",
       "      <td>429</td>\n",
       "      <td>1938</td>\n",
       "    </tr>\n",
       "    <tr>\n",
       "      <th>Czech Republic</th>\n",
       "      <td>52000</td>\n",
       "      <td>3</td>\n",
       "      <td>2</td>\n",
       "      <td>0</td>\n",
       "      <td>0</td>\n",
       "      <td>97410010</td>\n",
       "      <td>97410100</td>\n",
       "      <td>2006</td>\n",
       "    </tr>\n",
       "    <tr>\n",
       "      <th>Czechoslovakia</th>\n",
       "      <td>724743</td>\n",
       "      <td>17</td>\n",
       "      <td>10</td>\n",
       "      <td>11</td>\n",
       "      <td>37</td>\n",
       "      <td>22866</td>\n",
       "      <td>12425</td>\n",
       "      <td>39312</td>\n",
       "    </tr>\n",
       "    <tr>\n",
       "      <th>C�te d'Ivoire</th>\n",
       "      <td>348541</td>\n",
       "      <td>8</td>\n",
       "      <td>3</td>\n",
       "      <td>6</td>\n",
       "      <td>11</td>\n",
       "      <td>1395315924</td>\n",
       "      <td>195831506</td>\n",
       "      <td>12060</td>\n",
       "    </tr>\n",
       "    <tr>\n",
       "      <th>Denmark</th>\n",
       "      <td>392896</td>\n",
       "      <td>14</td>\n",
       "      <td>7</td>\n",
       "      <td>4</td>\n",
       "      <td>11</td>\n",
       "      <td>644117267</td>\n",
       "      <td>44454943</td>\n",
       "      <td>17998</td>\n",
       "    </tr>\n",
       "    <tr>\n",
       "      <th>Dutch East Indies</th>\n",
       "      <td>9000</td>\n",
       "      <td>0</td>\n",
       "      <td>0</td>\n",
       "      <td>4</td>\n",
       "      <td>6</td>\n",
       "      <td>1173</td>\n",
       "      <td>206</td>\n",
       "      <td>1938</td>\n",
       "    </tr>\n",
       "    <tr>\n",
       "      <th>Ecuador</th>\n",
       "      <td>288266</td>\n",
       "      <td>6</td>\n",
       "      <td>4</td>\n",
       "      <td>4</td>\n",
       "      <td>8</td>\n",
       "      <td>883093048</td>\n",
       "      <td>283232362</td>\n",
       "      <td>12044</td>\n",
       "    </tr>\n",
       "    <tr>\n",
       "      <th>Egypt</th>\n",
       "      <td>110535</td>\n",
       "      <td>3</td>\n",
       "      <td>2</td>\n",
       "      <td>2</td>\n",
       "      <td>6</td>\n",
       "      <td>1572</td>\n",
       "      <td>1170</td>\n",
       "      <td>7904</td>\n",
       "    </tr>\n",
       "    <tr>\n",
       "      <th>El Salvador</th>\n",
       "      <td>355742</td>\n",
       "      <td>1</td>\n",
       "      <td>0</td>\n",
       "      <td>7</td>\n",
       "      <td>22</td>\n",
       "      <td>7811</td>\n",
       "      <td>1629</td>\n",
       "      <td>11856</td>\n",
       "    </tr>\n",
       "    <tr>\n",
       "      <th>England</th>\n",
       "      <td>1209920</td>\n",
       "      <td>25</td>\n",
       "      <td>11</td>\n",
       "      <td>9</td>\n",
       "      <td>36</td>\n",
       "      <td>1429799664</td>\n",
       "      <td>230285642</td>\n",
       "      <td>53562</td>\n",
       "    </tr>\n",
       "    <tr>\n",
       "      <th>France</th>\n",
       "      <td>1489196</td>\n",
       "      <td>40</td>\n",
       "      <td>17</td>\n",
       "      <td>15</td>\n",
       "      <td>41</td>\n",
       "      <td>1431474174</td>\n",
       "      <td>531771519</td>\n",
       "      <td>59428</td>\n",
       "    </tr>\n",
       "    <tr>\n",
       "      <th>German DR</th>\n",
       "      <td>142417</td>\n",
       "      <td>2</td>\n",
       "      <td>1</td>\n",
       "      <td>1</td>\n",
       "      <td>3</td>\n",
       "      <td>5932</td>\n",
       "      <td>788</td>\n",
       "      <td>5922</td>\n",
       "    </tr>\n",
       "    <tr>\n",
       "      <th>Germany</th>\n",
       "      <td>611264</td>\n",
       "      <td>27</td>\n",
       "      <td>12</td>\n",
       "      <td>3</td>\n",
       "      <td>13</td>\n",
       "      <td>1942110536</td>\n",
       "      <td>142881899</td>\n",
       "      <td>23884</td>\n",
       "    </tr>\n",
       "    <tr>\n",
       "      <th>Germany FR</th>\n",
       "      <td>1127105</td>\n",
       "      <td>32</td>\n",
       "      <td>12</td>\n",
       "      <td>12</td>\n",
       "      <td>41</td>\n",
       "      <td>26331</td>\n",
       "      <td>21951</td>\n",
       "      <td>37486</td>\n",
       "    </tr>\n",
       "    <tr>\n",
       "      <th>Ghana</th>\n",
       "      <td>437987</td>\n",
       "      <td>9</td>\n",
       "      <td>1</td>\n",
       "      <td>4</td>\n",
       "      <td>11</td>\n",
       "      <td>1792787541</td>\n",
       "      <td>293491419</td>\n",
       "      <td>16076</td>\n",
       "    </tr>\n",
       "    <tr>\n",
       "      <th>Greece</th>\n",
       "      <td>287030</td>\n",
       "      <td>1</td>\n",
       "      <td>0</td>\n",
       "      <td>5</td>\n",
       "      <td>14</td>\n",
       "      <td>1200626974</td>\n",
       "      <td>1018209</td>\n",
       "      <td>12040</td>\n",
       "    </tr>\n",
       "    <tr>\n",
       "      <th>Haiti</th>\n",
       "      <td>78900</td>\n",
       "      <td>2</td>\n",
       "      <td>0</td>\n",
       "      <td>2</td>\n",
       "      <td>7</td>\n",
       "      <td>4030</td>\n",
       "      <td>524</td>\n",
       "      <td>3948</td>\n",
       "    </tr>\n",
       "    <tr>\n",
       "      <th>Honduras</th>\n",
       "      <td>175002</td>\n",
       "      <td>1</td>\n",
       "      <td>1</td>\n",
       "      <td>2</td>\n",
       "      <td>6</td>\n",
       "      <td>900310383</td>\n",
       "      <td>755668</td>\n",
       "      <td>8016</td>\n",
       "    </tr>\n",
       "    <tr>\n",
       "      <th>Hungary</th>\n",
       "      <td>447461</td>\n",
       "      <td>14</td>\n",
       "      <td>7</td>\n",
       "      <td>21</td>\n",
       "      <td>38</td>\n",
       "      <td>20328</td>\n",
       "      <td>10266</td>\n",
       "      <td>27520</td>\n",
       "    </tr>\n",
       "    <tr>\n",
       "      <th>IR Iran</th>\n",
       "      <td>195078</td>\n",
       "      <td>2</td>\n",
       "      <td>0</td>\n",
       "      <td>3</td>\n",
       "      <td>10</td>\n",
       "      <td>697787750</td>\n",
       "      <td>97922518</td>\n",
       "      <td>9990</td>\n",
       "    </tr>\n",
       "    <tr>\n",
       "      <th>Iran</th>\n",
       "      <td>161762</td>\n",
       "      <td>4</td>\n",
       "      <td>3</td>\n",
       "      <td>4</td>\n",
       "      <td>11</td>\n",
       "      <td>97438668</td>\n",
       "      <td>97413420</td>\n",
       "      <td>9978</td>\n",
       "    </tr>\n",
       "    <tr>\n",
       "      <th>Iraq</th>\n",
       "      <td>24000</td>\n",
       "      <td>0</td>\n",
       "      <td>0</td>\n",
       "      <td>1</td>\n",
       "      <td>1</td>\n",
       "      <td>628</td>\n",
       "      <td>308</td>\n",
       "      <td>1986</td>\n",
       "    </tr>\n",
       "    <tr>\n",
       "      <th>Israel</th>\n",
       "      <td>40168</td>\n",
       "      <td>1</td>\n",
       "      <td>0</td>\n",
       "      <td>1</td>\n",
       "      <td>3</td>\n",
       "      <td>5638</td>\n",
       "      <td>750</td>\n",
       "      <td>5910</td>\n",
       "    </tr>\n",
       "    <tr>\n",
       "      <th>Italy</th>\n",
       "      <td>1443602</td>\n",
       "      <td>29</td>\n",
       "      <td>13</td>\n",
       "      <td>13</td>\n",
       "      <td>36</td>\n",
       "      <td>883004461</td>\n",
       "      <td>283241278</td>\n",
       "      <td>51512</td>\n",
       "    </tr>\n",
       "    <tr>\n",
       "      <th>Jamaica</th>\n",
       "      <td>84600</td>\n",
       "      <td>2</td>\n",
       "      <td>1</td>\n",
       "      <td>1</td>\n",
       "      <td>6</td>\n",
       "      <td>17523</td>\n",
       "      <td>2028</td>\n",
       "      <td>3996</td>\n",
       "    </tr>\n",
       "    <tr>\n",
       "      <th>Japan</th>\n",
       "      <td>291699</td>\n",
       "      <td>7</td>\n",
       "      <td>4</td>\n",
       "      <td>1</td>\n",
       "      <td>8</td>\n",
       "      <td>1341789386</td>\n",
       "      <td>142366306</td>\n",
       "      <td>14050</td>\n",
       "    </tr>\n",
       "    <tr>\n",
       "      <th>Korea DPR</th>\n",
       "      <td>181229</td>\n",
       "      <td>4</td>\n",
       "      <td>3</td>\n",
       "      <td>5</td>\n",
       "      <td>17</td>\n",
       "      <td>600126389</td>\n",
       "      <td>499921</td>\n",
       "      <td>7952</td>\n",
       "    </tr>\n",
       "    <tr>\n",
       "      <th>Korea Republic</th>\n",
       "      <td>786392</td>\n",
       "      <td>13</td>\n",
       "      <td>2</td>\n",
       "      <td>22</td>\n",
       "      <td>45</td>\n",
       "      <td>1527117508</td>\n",
       "      <td>327679846</td>\n",
       "      <td>33930</td>\n",
       "    </tr>\n",
       "    <tr>\n",
       "      <th>Kuwait</th>\n",
       "      <td>94743</td>\n",
       "      <td>2</td>\n",
       "      <td>0</td>\n",
       "      <td>4</td>\n",
       "      <td>6</td>\n",
       "      <td>2813</td>\n",
       "      <td>879</td>\n",
       "      <td>5946</td>\n",
       "    </tr>\n",
       "    <tr>\n",
       "      <th>Mexico</th>\n",
       "      <td>1562951</td>\n",
       "      <td>35</td>\n",
       "      <td>6</td>\n",
       "      <td>35</td>\n",
       "      <td>81</td>\n",
       "      <td>2039586042</td>\n",
       "      <td>240297794</td>\n",
       "      <td>73214</td>\n",
       "    </tr>\n",
       "    <tr>\n",
       "      <th>Morocco</th>\n",
       "      <td>290619</td>\n",
       "      <td>9</td>\n",
       "      <td>5</td>\n",
       "      <td>6</td>\n",
       "      <td>13</td>\n",
       "      <td>30343</td>\n",
       "      <td>4068</td>\n",
       "      <td>17866</td>\n",
       "    </tr>\n",
       "    <tr>\n",
       "      <th>Netherlands</th>\n",
       "      <td>1056846</td>\n",
       "      <td>37</td>\n",
       "      <td>16</td>\n",
       "      <td>8</td>\n",
       "      <td>28</td>\n",
       "      <td>1695533453</td>\n",
       "      <td>196092620</td>\n",
       "      <td>41758</td>\n",
       "    </tr>\n",
       "    <tr>\n",
       "      <th>New Zealand</th>\n",
       "      <td>171079</td>\n",
       "      <td>3</td>\n",
       "      <td>1</td>\n",
       "      <td>7</td>\n",
       "      <td>13</td>\n",
       "      <td>600125855</td>\n",
       "      <td>500323</td>\n",
       "      <td>9966</td>\n",
       "    </tr>\n",
       "    <tr>\n",
       "      <th>Nigeria</th>\n",
       "      <td>407440</td>\n",
       "      <td>8</td>\n",
       "      <td>5</td>\n",
       "      <td>6</td>\n",
       "      <td>12</td>\n",
       "      <td>1288410797</td>\n",
       "      <td>88913214</td>\n",
       "      <td>18038</td>\n",
       "    </tr>\n",
       "    <tr>\n",
       "      <th>Northern Ireland</th>\n",
       "      <td>166964</td>\n",
       "      <td>8</td>\n",
       "      <td>5</td>\n",
       "      <td>4</td>\n",
       "      <td>17</td>\n",
       "      <td>8171</td>\n",
       "      <td>2143</td>\n",
       "      <td>15788</td>\n",
       "    </tr>\n",
       "    <tr>\n",
       "      <th>Norway</th>\n",
       "      <td>337628</td>\n",
       "      <td>6</td>\n",
       "      <td>1</td>\n",
       "      <td>2</td>\n",
       "      <td>8</td>\n",
       "      <td>42319</td>\n",
       "      <td>4946</td>\n",
       "      <td>13918</td>\n",
       "    </tr>\n",
       "    <tr>\n",
       "      <th>Paraguay</th>\n",
       "      <td>666630</td>\n",
       "      <td>16</td>\n",
       "      <td>7</td>\n",
       "      <td>12</td>\n",
       "      <td>28</td>\n",
       "      <td>926825531</td>\n",
       "      <td>327174550</td>\n",
       "      <td>31792</td>\n",
       "    </tr>\n",
       "    <tr>\n",
       "      <th>Peru</th>\n",
       "      <td>314398</td>\n",
       "      <td>6</td>\n",
       "      <td>2</td>\n",
       "      <td>11</td>\n",
       "      <td>27</td>\n",
       "      <td>17150</td>\n",
       "      <td>2604</td>\n",
       "      <td>19676</td>\n",
       "    </tr>\n",
       "    <tr>\n",
       "      <th>Poland</th>\n",
       "      <td>613423</td>\n",
       "      <td>17</td>\n",
       "      <td>8</td>\n",
       "      <td>9</td>\n",
       "      <td>26</td>\n",
       "      <td>282736938</td>\n",
       "      <td>282723449</td>\n",
       "      <td>29750</td>\n",
       "    </tr>\n",
       "    <tr>\n",
       "      <th>Portugal</th>\n",
       "      <td>491907</td>\n",
       "      <td>7</td>\n",
       "      <td>3</td>\n",
       "      <td>7</td>\n",
       "      <td>16</td>\n",
       "      <td>1536678427</td>\n",
       "      <td>337193145</td>\n",
       "      <td>20020</td>\n",
       "    </tr>\n",
       "    <tr>\n",
       "      <th>Romania</th>\n",
       "      <td>547256</td>\n",
       "      <td>15</td>\n",
       "      <td>7</td>\n",
       "      <td>7</td>\n",
       "      <td>19</td>\n",
       "      <td>14988</td>\n",
       "      <td>3280</td>\n",
       "      <td>23628</td>\n",
       "    </tr>\n",
       "    <tr>\n",
       "      <th>Russia</th>\n",
       "      <td>378467</td>\n",
       "      <td>4</td>\n",
       "      <td>2</td>\n",
       "      <td>3</td>\n",
       "      <td>11</td>\n",
       "      <td>688279187</td>\n",
       "      <td>88412736</td>\n",
       "      <td>12020</td>\n",
       "    </tr>\n",
       "    <tr>\n",
       "      <th>Saudi Arabia</th>\n",
       "      <td>365840</td>\n",
       "      <td>6</td>\n",
       "      <td>3</td>\n",
       "      <td>7</td>\n",
       "      <td>19</td>\n",
       "      <td>185333688</td>\n",
       "      <td>185313002</td>\n",
       "      <td>13994</td>\n",
       "    </tr>\n",
       "    <tr>\n",
       "      <th>Scotland</th>\n",
       "      <td>486308</td>\n",
       "      <td>14</td>\n",
       "      <td>9</td>\n",
       "      <td>12</td>\n",
       "      <td>30</td>\n",
       "      <td>18410</td>\n",
       "      <td>4496</td>\n",
       "      <td>27652</td>\n",
       "    </tr>\n",
       "    <tr>\n",
       "      <th>Senegal</th>\n",
       "      <td>145808</td>\n",
       "      <td>4</td>\n",
       "      <td>1</td>\n",
       "      <td>1</td>\n",
       "      <td>2</td>\n",
       "      <td>131850072</td>\n",
       "      <td>131850400</td>\n",
       "      <td>6006</td>\n",
       "    </tr>\n",
       "    <tr>\n",
       "      <th>Serbia</th>\n",
       "      <td>76130</td>\n",
       "      <td>2</td>\n",
       "      <td>1</td>\n",
       "      <td>0</td>\n",
       "      <td>2</td>\n",
       "      <td>600122937</td>\n",
       "      <td>499444</td>\n",
       "      <td>4020</td>\n",
       "    </tr>\n",
       "    <tr>\n",
       "      <th>Slovakia</th>\n",
       "      <td>85833</td>\n",
       "      <td>2</td>\n",
       "      <td>0</td>\n",
       "      <td>1</td>\n",
       "      <td>3</td>\n",
       "      <td>600172596</td>\n",
       "      <td>499439</td>\n",
       "      <td>4020</td>\n",
       "    </tr>\n",
       "    <tr>\n",
       "      <th>Slovenia</th>\n",
       "      <td>106149</td>\n",
       "      <td>2</td>\n",
       "      <td>0</td>\n",
       "      <td>2</td>\n",
       "      <td>4</td>\n",
       "      <td>387961497</td>\n",
       "      <td>88149922</td>\n",
       "      <td>6014</td>\n",
       "    </tr>\n",
       "    <tr>\n",
       "      <th>South Africa</th>\n",
       "      <td>119601</td>\n",
       "      <td>4</td>\n",
       "      <td>2</td>\n",
       "      <td>2</td>\n",
       "      <td>6</td>\n",
       "      <td>344020185</td>\n",
       "      <td>44200836</td>\n",
       "      <td>6010</td>\n",
       "    </tr>\n",
       "    <tr>\n",
       "      <th>Soviet Union</th>\n",
       "      <td>666916</td>\n",
       "      <td>10</td>\n",
       "      <td>5</td>\n",
       "      <td>6</td>\n",
       "      <td>16</td>\n",
       "      <td>14794</td>\n",
       "      <td>7022</td>\n",
       "      <td>25662</td>\n",
       "    </tr>\n",
       "    <tr>\n",
       "      <th>Spain</th>\n",
       "      <td>1352048</td>\n",
       "      <td>42</td>\n",
       "      <td>20</td>\n",
       "      <td>14</td>\n",
       "      <td>36</td>\n",
       "      <td>1641871537</td>\n",
       "      <td>142621916</td>\n",
       "      <td>57466</td>\n",
       "    </tr>\n",
       "    <tr>\n",
       "      <th>Sweden</th>\n",
       "      <td>1008595</td>\n",
       "      <td>21</td>\n",
       "      <td>10</td>\n",
       "      <td>17</td>\n",
       "      <td>44</td>\n",
       "      <td>238800276</td>\n",
       "      <td>238785156</td>\n",
       "      <td>37522</td>\n",
       "    </tr>\n",
       "    <tr>\n",
       "      <th>Switzerland</th>\n",
       "      <td>950782</td>\n",
       "      <td>23</td>\n",
       "      <td>13</td>\n",
       "      <td>19</td>\n",
       "      <td>43</td>\n",
       "      <td>1395391462</td>\n",
       "      <td>195835631</td>\n",
       "      <td>41506</td>\n",
       "    </tr>\n",
       "    <tr>\n",
       "      <th>Togo</th>\n",
       "      <td>48000</td>\n",
       "      <td>1</td>\n",
       "      <td>1</td>\n",
       "      <td>0</td>\n",
       "      <td>2</td>\n",
       "      <td>97410014</td>\n",
       "      <td>97410100</td>\n",
       "      <td>2006</td>\n",
       "    </tr>\n",
       "    <tr>\n",
       "      <th>Tunisia</th>\n",
       "      <td>357048</td>\n",
       "      <td>2</td>\n",
       "      <td>2</td>\n",
       "      <td>2</td>\n",
       "      <td>11</td>\n",
       "      <td>238801164</td>\n",
       "      <td>238773898</td>\n",
       "      <td>15964</td>\n",
       "    </tr>\n",
       "    <tr>\n",
       "      <th>Turkey</th>\n",
       "      <td>335581</td>\n",
       "      <td>10</td>\n",
       "      <td>7</td>\n",
       "      <td>5</td>\n",
       "      <td>17</td>\n",
       "      <td>263702845</td>\n",
       "      <td>263702022</td>\n",
       "      <td>15920</td>\n",
       "    </tr>\n",
       "    <tr>\n",
       "      <th>USA</th>\n",
       "      <td>777008</td>\n",
       "      <td>18</td>\n",
       "      <td>7</td>\n",
       "      <td>17</td>\n",
       "      <td>41</td>\n",
       "      <td>1571132960</td>\n",
       "      <td>371635044</td>\n",
       "      <td>35804</td>\n",
       "    </tr>\n",
       "    <tr>\n",
       "      <th>Ukraine</th>\n",
       "      <td>188000</td>\n",
       "      <td>4</td>\n",
       "      <td>2</td>\n",
       "      <td>3</td>\n",
       "      <td>7</td>\n",
       "      <td>389640159</td>\n",
       "      <td>389640700</td>\n",
       "      <td>8024</td>\n",
       "    </tr>\n",
       "    <tr>\n",
       "      <th>Uruguay</th>\n",
       "      <td>908648</td>\n",
       "      <td>18</td>\n",
       "      <td>6</td>\n",
       "      <td>16</td>\n",
       "      <td>42</td>\n",
       "      <td>1288416831</td>\n",
       "      <td>88923124</td>\n",
       "      <td>45602</td>\n",
       "    </tr>\n",
       "    <tr>\n",
       "      <th>Wales</th>\n",
       "      <td>86703</td>\n",
       "      <td>2</td>\n",
       "      <td>2</td>\n",
       "      <td>1</td>\n",
       "      <td>3</td>\n",
       "      <td>5608</td>\n",
       "      <td>881</td>\n",
       "      <td>7832</td>\n",
       "    </tr>\n",
       "    <tr>\n",
       "      <th>Yugoslavia</th>\n",
       "      <td>886965</td>\n",
       "      <td>18</td>\n",
       "      <td>8</td>\n",
       "      <td>13</td>\n",
       "      <td>37</td>\n",
       "      <td>49303</td>\n",
       "      <td>10833</td>\n",
       "      <td>39424</td>\n",
       "    </tr>\n",
       "    <tr>\n",
       "      <th>Zaire</th>\n",
       "      <td>31700</td>\n",
       "      <td>0</td>\n",
       "      <td>0</td>\n",
       "      <td>6</td>\n",
       "      <td>9</td>\n",
       "      <td>2186</td>\n",
       "      <td>262</td>\n",
       "      <td>1974</td>\n",
       "    </tr>\n",
       "    <tr>\n",
       "      <th>rn\"&gt;Bosnia and Herzegovina</th>\n",
       "      <td>115237</td>\n",
       "      <td>1</td>\n",
       "      <td>0</td>\n",
       "      <td>2</td>\n",
       "      <td>3</td>\n",
       "      <td>600372988</td>\n",
       "      <td>511862</td>\n",
       "      <td>4028</td>\n",
       "    </tr>\n",
       "    <tr>\n",
       "      <th>rn\"&gt;Republic of Ireland</th>\n",
       "      <td>446124</td>\n",
       "      <td>8</td>\n",
       "      <td>2</td>\n",
       "      <td>6</td>\n",
       "      <td>8</td>\n",
       "      <td>131859716</td>\n",
       "      <td>131852485</td>\n",
       "      <td>15968</td>\n",
       "    </tr>\n",
       "    <tr>\n",
       "      <th>rn\"&gt;Serbia and Montenegro</th>\n",
       "      <td>118000</td>\n",
       "      <td>2</td>\n",
       "      <td>2</td>\n",
       "      <td>4</td>\n",
       "      <td>9</td>\n",
       "      <td>194820059</td>\n",
       "      <td>194820200</td>\n",
       "      <td>4012</td>\n",
       "    </tr>\n",
       "    <tr>\n",
       "      <th>rn\"&gt;Trinidad and Tobago</th>\n",
       "      <td>87000</td>\n",
       "      <td>0</td>\n",
       "      <td>0</td>\n",
       "      <td>1</td>\n",
       "      <td>4</td>\n",
       "      <td>194820055</td>\n",
       "      <td>194820200</td>\n",
       "      <td>4012</td>\n",
       "    </tr>\n",
       "    <tr>\n",
       "      <th>rn\"&gt;United Arab Emirates</th>\n",
       "      <td>99002</td>\n",
       "      <td>2</td>\n",
       "      <td>1</td>\n",
       "      <td>4</td>\n",
       "      <td>9</td>\n",
       "      <td>562</td>\n",
       "      <td>644</td>\n",
       "      <td>3980</td>\n",
       "    </tr>\n",
       "  </tbody>\n",
       "</table>\n",
       "</div>"
      ],
      "text/plain": [
       "                            Attendance  Away Team Goals  Half-time Away Goals  \\\n",
       "Away Team Name                                                                  \n",
       "Algeria                         332522                8                     4   \n",
       "Angola                           81000                1                     0   \n",
       "Argentina                      1254994               22                     8   \n",
       "Australia                       318747                4                     3   \n",
       "Austria                         584768               12                     3   \n",
       "Belgium                        1156140               27                     8   \n",
       "Bolivia                         166626                0                     0   \n",
       "Brazil                         1385073               45                    17   \n",
       "Bulgaria                        776066               11                     4   \n",
       "Cameroon                        506115                7                     1   \n",
       "Canada                           28000                0                     0   \n",
       "Chile                           807159               15                     8   \n",
       "China PR                         80355                0                     0   \n",
       "Colombia                        525751               17                     4   \n",
       "Costa Rica                      429263               11                     2   \n",
       "Croatia                         615219               18                     7   \n",
       "Cuba                              7000                0                     0   \n",
       "Czech Republic                   52000                3                     2   \n",
       "Czechoslovakia                  724743               17                    10   \n",
       "C�te d'Ivoire                   348541                8                     3   \n",
       "Denmark                         392896               14                     7   \n",
       "Dutch East Indies                 9000                0                     0   \n",
       "Ecuador                         288266                6                     4   \n",
       "Egypt                           110535                3                     2   \n",
       "El Salvador                     355742                1                     0   \n",
       "England                        1209920               25                    11   \n",
       "France                         1489196               40                    17   \n",
       "German DR                       142417                2                     1   \n",
       "Germany                         611264               27                    12   \n",
       "Germany FR                     1127105               32                    12   \n",
       "Ghana                           437987                9                     1   \n",
       "Greece                          287030                1                     0   \n",
       "Haiti                            78900                2                     0   \n",
       "Honduras                        175002                1                     1   \n",
       "Hungary                         447461               14                     7   \n",
       "IR Iran                         195078                2                     0   \n",
       "Iran                            161762                4                     3   \n",
       "Iraq                             24000                0                     0   \n",
       "Israel                           40168                1                     0   \n",
       "Italy                          1443602               29                    13   \n",
       "Jamaica                          84600                2                     1   \n",
       "Japan                           291699                7                     4   \n",
       "Korea DPR                       181229                4                     3   \n",
       "Korea Republic                  786392               13                     2   \n",
       "Kuwait                           94743                2                     0   \n",
       "Mexico                         1562951               35                     6   \n",
       "Morocco                         290619                9                     5   \n",
       "Netherlands                    1056846               37                    16   \n",
       "New Zealand                     171079                3                     1   \n",
       "Nigeria                         407440                8                     5   \n",
       "Northern Ireland                166964                8                     5   \n",
       "Norway                          337628                6                     1   \n",
       "Paraguay                        666630               16                     7   \n",
       "Peru                            314398                6                     2   \n",
       "Poland                          613423               17                     8   \n",
       "Portugal                        491907                7                     3   \n",
       "Romania                         547256               15                     7   \n",
       "Russia                          378467                4                     2   \n",
       "Saudi Arabia                    365840                6                     3   \n",
       "Scotland                        486308               14                     9   \n",
       "Senegal                         145808                4                     1   \n",
       "Serbia                           76130                2                     1   \n",
       "Slovakia                         85833                2                     0   \n",
       "Slovenia                        106149                2                     0   \n",
       "South Africa                    119601                4                     2   \n",
       "Soviet Union                    666916               10                     5   \n",
       "Spain                          1352048               42                    20   \n",
       "Sweden                         1008595               21                    10   \n",
       "Switzerland                     950782               23                    13   \n",
       "Togo                             48000                1                     1   \n",
       "Tunisia                         357048                2                     2   \n",
       "Turkey                          335581               10                     7   \n",
       "USA                             777008               18                     7   \n",
       "Ukraine                         188000                4                     2   \n",
       "Uruguay                         908648               18                     6   \n",
       "Wales                            86703                2                     2   \n",
       "Yugoslavia                      886965               18                     8   \n",
       "Zaire                            31700                0                     0   \n",
       "rn\">Bosnia and Herzegovina      115237                1                     0   \n",
       "rn\">Republic of Ireland         446124                8                     2   \n",
       "rn\">Serbia and Montenegro       118000                2                     2   \n",
       "rn\">Trinidad and Tobago          87000                0                     0   \n",
       "rn\">United Arab Emirates         99002                2                     1   \n",
       "\n",
       "                            Half-time Home Goals  Home Team Goals     MatchID  \\\n",
       "Away Team Name                                                                  \n",
       "Algeria                                        0                9  1500683477   \n",
       "Angola                                         0                1   194820063   \n",
       "Argentina                                     16               40  1439419836   \n",
       "Australia                                      6               15  1192591137   \n",
       "Austria                                       13               30       42628   \n",
       "Belgium                                       16               51   732249426   \n",
       "Bolivia                                        5               17        9482   \n",
       "Brazil                                        18               36  1129649245   \n",
       "Bulgaria                                      23               43       54615   \n",
       "Cameroon                                       7               20   644224245   \n",
       "Canada                                         1                4         951   \n",
       "Chile                                         21               38  1500716683   \n",
       "China PR                                       5                7    87900068   \n",
       "Colombia                                       9               21   600392686   \n",
       "Costa Rica                                     7               14  1139329838   \n",
       "Croatia                                        5               11   883154412   \n",
       "Cuba                                           4                8        1158   \n",
       "Czech Republic                                 0                0    97410010   \n",
       "Czechoslovakia                                11               37       22866   \n",
       "C�te d'Ivoire                                  6               11  1395315924   \n",
       "Denmark                                        4               11   644117267   \n",
       "Dutch East Indies                              4                6        1173   \n",
       "Ecuador                                        4                8   883093048   \n",
       "Egypt                                          2                6        1572   \n",
       "El Salvador                                    7               22        7811   \n",
       "England                                        9               36  1429799664   \n",
       "France                                        15               41  1431474174   \n",
       "German DR                                      1                3        5932   \n",
       "Germany                                        3               13  1942110536   \n",
       "Germany FR                                    12               41       26331   \n",
       "Ghana                                          4               11  1792787541   \n",
       "Greece                                         5               14  1200626974   \n",
       "Haiti                                          2                7        4030   \n",
       "Honduras                                       2                6   900310383   \n",
       "Hungary                                       21               38       20328   \n",
       "IR Iran                                        3               10   697787750   \n",
       "Iran                                           4               11    97438668   \n",
       "Iraq                                           1                1         628   \n",
       "Israel                                         1                3        5638   \n",
       "Italy                                         13               36   883004461   \n",
       "Jamaica                                        1                6       17523   \n",
       "Japan                                          1                8  1341789386   \n",
       "Korea DPR                                      5               17   600126389   \n",
       "Korea Republic                                22               45  1527117508   \n",
       "Kuwait                                         4                6        2813   \n",
       "Mexico                                        35               81  2039586042   \n",
       "Morocco                                        6               13       30343   \n",
       "Netherlands                                    8               28  1695533453   \n",
       "New Zealand                                    7               13   600125855   \n",
       "Nigeria                                        6               12  1288410797   \n",
       "Northern Ireland                               4               17        8171   \n",
       "Norway                                         2                8       42319   \n",
       "Paraguay                                      12               28   926825531   \n",
       "Peru                                          11               27       17150   \n",
       "Poland                                         9               26   282736938   \n",
       "Portugal                                       7               16  1536678427   \n",
       "Romania                                        7               19       14988   \n",
       "Russia                                         3               11   688279187   \n",
       "Saudi Arabia                                   7               19   185333688   \n",
       "Scotland                                      12               30       18410   \n",
       "Senegal                                        1                2   131850072   \n",
       "Serbia                                         0                2   600122937   \n",
       "Slovakia                                       1                3   600172596   \n",
       "Slovenia                                       2                4   387961497   \n",
       "South Africa                                   2                6   344020185   \n",
       "Soviet Union                                   6               16       14794   \n",
       "Spain                                         14               36  1641871537   \n",
       "Sweden                                        17               44   238800276   \n",
       "Switzerland                                   19               43  1395391462   \n",
       "Togo                                           0                2    97410014   \n",
       "Tunisia                                        2               11   238801164   \n",
       "Turkey                                         5               17   263702845   \n",
       "USA                                           17               41  1571132960   \n",
       "Ukraine                                        3                7   389640159   \n",
       "Uruguay                                       16               42  1288416831   \n",
       "Wales                                          1                3        5608   \n",
       "Yugoslavia                                    13               37       49303   \n",
       "Zaire                                          6                9        2186   \n",
       "rn\">Bosnia and Herzegovina                     2                3   600372988   \n",
       "rn\">Republic of Ireland                        6                8   131859716   \n",
       "rn\">Serbia and Montenegro                      4                9   194820059   \n",
       "rn\">Trinidad and Tobago                        1                4   194820055   \n",
       "rn\">United Arab Emirates                       4                9         562   \n",
       "\n",
       "                              RoundID   Year  \n",
       "Away Team Name                                \n",
       "Algeria                       1267858  14030  \n",
       "Angola                      194820200   4012  \n",
       "Argentina                   239800603  49590  \n",
       "Australia                   292986037  14026  \n",
       "Austria                         13184  31560  \n",
       "Belgium                     132374856  47476  \n",
       "Bolivia                          1284   9798  \n",
       "Brazil                      230028330  51460  \n",
       "Bulgaria                        10608  37626  \n",
       "Cameroon                     44460407  23936  \n",
       "Canada                            616   3972  \n",
       "Chile                         1272476  37622  \n",
       "China PR                     87900200   4004  \n",
       "Colombia                       515554  23860  \n",
       "Costa Rica                  239539082  18026  \n",
       "Croatia                     283239407  26030  \n",
       "Cuba                              429   1938  \n",
       "Czech Republic               97410100   2006  \n",
       "Czechoslovakia                  12425  39312  \n",
       "C�te d'Ivoire               195831506  12060  \n",
       "Denmark                      44454943  17998  \n",
       "Dutch East Indies                 206   1938  \n",
       "Ecuador                     283232362  12044  \n",
       "Egypt                            1170   7904  \n",
       "El Salvador                      1629  11856  \n",
       "England                     230285642  53562  \n",
       "France                      531771519  59428  \n",
       "German DR                         788   5922  \n",
       "Germany                     142881899  23884  \n",
       "Germany FR                      21951  37486  \n",
       "Ghana                       293491419  16076  \n",
       "Greece                        1018209  12040  \n",
       "Haiti                             524   3948  \n",
       "Honduras                       755668   8016  \n",
       "Hungary                         10266  27520  \n",
       "IR Iran                      97922518   9990  \n",
       "Iran                         97413420   9978  \n",
       "Iraq                              308   1986  \n",
       "Israel                            750   5910  \n",
       "Italy                       283241278  51512  \n",
       "Jamaica                          2028   3996  \n",
       "Japan                       142366306  14050  \n",
       "Korea DPR                      499921   7952  \n",
       "Korea Republic              327679846  33930  \n",
       "Kuwait                            879   5946  \n",
       "Mexico                      240297794  73214  \n",
       "Morocco                          4068  17866  \n",
       "Netherlands                 196092620  41758  \n",
       "New Zealand                    500323   9966  \n",
       "Nigeria                      88913214  18038  \n",
       "Northern Ireland                 2143  15788  \n",
       "Norway                           4946  13918  \n",
       "Paraguay                    327174550  31792  \n",
       "Peru                             2604  19676  \n",
       "Poland                      282723449  29750  \n",
       "Portugal                    337193145  20020  \n",
       "Romania                          3280  23628  \n",
       "Russia                       88412736  12020  \n",
       "Saudi Arabia                185313002  13994  \n",
       "Scotland                         4496  27652  \n",
       "Senegal                     131850400   6006  \n",
       "Serbia                         499444   4020  \n",
       "Slovakia                       499439   4020  \n",
       "Slovenia                     88149922   6014  \n",
       "South Africa                 44200836   6010  \n",
       "Soviet Union                     7022  25662  \n",
       "Spain                       142621916  57466  \n",
       "Sweden                      238785156  37522  \n",
       "Switzerland                 195835631  41506  \n",
       "Togo                         97410100   2006  \n",
       "Tunisia                     238773898  15964  \n",
       "Turkey                      263702022  15920  \n",
       "USA                         371635044  35804  \n",
       "Ukraine                     389640700   8024  \n",
       "Uruguay                      88923124  45602  \n",
       "Wales                             881   7832  \n",
       "Yugoslavia                      10833  39424  \n",
       "Zaire                             262   1974  \n",
       "rn\">Bosnia and Herzegovina     511862   4028  \n",
       "rn\">Republic of Ireland     131852485  15968  \n",
       "rn\">Serbia and Montenegro   194820200   4012  \n",
       "rn\">Trinidad and Tobago     194820200   4012  \n",
       "rn\">United Arab Emirates          644   3980  "
      ]
     },
     "metadata": {},
     "output_type": "display_data"
    }
   ],
   "source": [
    "# Closer look at Country Names\n",
    "countries = world_cup_matches.pivot_table(index='Home Team Name', aggfunc='sum')\n",
    "countries1 = world_cup_matches.pivot_table(index='Away Team Name', aggfunc='sum')\n",
    "with pd.option_context('display.max_rows', None, 'display.max_columns', None):\n",
    "    display(countries)\n",
    "    display(countries1)"
   ]
  },
  {
   "cell_type": "code",
   "execution_count": 56,
   "metadata": {
    "colab": {
     "autoexec": {
      "startup": false,
      "wait_interval": 0
     }
    },
    "colab_type": "code",
    "id": "RBNErddIA5g_"
   },
   "outputs": [],
   "source": [
    "# Correct Errors\n",
    "world_cup_matches = world_cup_matches.replace('rn\">Bosnia and Herzegovina', 'Bosnia and Herzegovina')\n",
    "world_cup_matches = world_cup_matches.replace('rn\">Republic of Ireland', 'Republic of Ireland')\n",
    "world_cup_matches = world_cup_matches.replace('rn\">Serbia and Montenegro', 'Serbia and Montenegro')\n",
    "world_cup_matches = world_cup_matches.replace('rn\">Trinidad and Tobago', 'Trinidad and Tobago')\n",
    "world_cup_matches = world_cup_matches.replace('rn\">United Arab Emirates', 'United Arab Emirates')"
   ]
  },
  {
   "cell_type": "code",
   "execution_count": 57,
   "metadata": {
    "colab": {
     "autoexec": {
      "startup": false,
      "wait_interval": 0
     }
    },
    "colab_type": "code",
    "id": "sWzF4gVaA5hB"
   },
   "outputs": [],
   "source": [
    "# Correct inconsistencies\n",
    "world_cup_matches = world_cup_matches.replace('IR Iran', 'Iran')\n",
    "world_cup_matches = world_cup_matches.replace('Soviet Union', 'Russia')\n",
    "world_cup_matches = world_cup_matches.replace('Germany FR', 'Germany')\n",
    "world_cup_matches = world_cup_matches.replace('German DR', 'Germany')"
   ]
  },
  {
   "cell_type": "markdown",
   "metadata": {
    "colab_type": "text",
    "id": "5NdqzO7SA5hC"
   },
   "source": [
    "##### Anomaly # 3 - Foreign Language Characters\n",
    "\n",
    "Foreign language characters we improperly encoded, e.g.: 'Côte d’Ivoire' which appeared as 'C�te d'Ivoire'. These were corrected using a closely related Latin character based on research information."
   ]
  },
  {
   "cell_type": "markdown",
   "metadata": {
    "colab_type": "text",
    "id": "a-gum5MpSLTf"
   },
   "source": [
    "World Cup:"
   ]
  },
  {
   "cell_type": "code",
   "execution_count": 58,
   "metadata": {
    "colab": {
     "autoexec": {
      "startup": false,
      "wait_interval": 0
     }
    },
    "colab_type": "code",
    "id": "idRQ1hI_SLTf"
   },
   "outputs": [],
   "source": [
    "for col in world_cup.select_dtypes([np.object]).columns[1:]:\n",
    "    if world_cup.dropna()[col].str.contains('�').any() == True:\n",
    "        print(col) # Gives the column name(s) with foreign language characters"
   ]
  },
  {
   "cell_type": "markdown",
   "metadata": {
    "colab_type": "text",
    "id": "2BLsR9qCSLTi"
   },
   "source": [
    "World Cup Players: <i>Shown for demo, but since this file isn't going to be used, the cleanup of all these characters will be skipped. A sample is shown below.</i>"
   ]
  },
  {
   "cell_type": "code",
   "execution_count": 59,
   "metadata": {
    "colab": {
     "autoexec": {
      "startup": false,
      "wait_interval": 0
     }
    },
    "colab_type": "code",
    "id": "l9DjeIz-A5hG"
   },
   "outputs": [
    {
     "name": "stdout",
     "output_type": "stream",
     "text": [
      "Coach Name\n",
      "Player Name\n"
     ]
    }
   ],
   "source": [
    "for col in world_cup_players.select_dtypes([np.object]).columns[1:]:\n",
    "    if world_cup_players.dropna()[col].str.contains('�').any() == True:\n",
    "        print(col) # Gives the column name(s) with foreign language characters"
   ]
  },
  {
   "cell_type": "code",
   "execution_count": 60,
   "metadata": {
    "colab": {
     "autoexec": {
      "startup": false,
      "wait_interval": 0
     }
    },
    "colab_type": "code",
    "id": "SDaMhIffSLTm"
   },
   "outputs": [
    {
     "name": "stdout",
     "output_type": "stream",
     "text": [
      "['Coach Name: Sven-G�ran ERIKSSON (SWE)'\n",
      " 'Coach Name: J�rgen KLINSMANN (GER)' 'Coach Name: Lars LAGERB�CK (SWE)'\n",
      " 'Coach Name: Jos� P�KERMAN (ARG)' 'Coach Name: Carlos QUEIR�S (POR)']\n",
      "['Player Name: PEL� (Edson Arantes do Nascimento)'\n",
      " 'Player Name: Hugo S�NCHEZ'\n",
      " 'Player Name: ROM�RIO (Rom�rio de Souza Faria)' 'Player Name: CA�IZARES'\n",
      " 'Player Name: M�LLER' 'Player Name: H�SSLER' 'Player Name: MATTH�US'\n",
      " 'Player Name: BJ�RNEBYE' 'Player Name: Z� CARLOS'\n",
      " 'Player Name: GON�ALVES' 'Player Name: Z� ROBERTO' 'Player Name: GROD�S'\n",
      " 'Player Name: SOLSKJ�R' 'Player Name: �STENSTAD' 'Player Name: ACU�A'\n",
      " 'Player Name: CASTA�EDA' 'Player Name: WOM�' 'Player Name: ETAM�'\n",
      " 'Player Name: PENS�E' 'Player Name: MAHOUV�' 'Player Name: OLEMB�'\n",
      " 'Player Name: ETXEBERR�A' 'Player Name: VER�N' 'Player Name: BOLA�O'\n",
      " 'Player Name: K�PKE' 'Player Name: W�RNS' 'Player Name: UMA�A M.'\n",
      " 'Player Name: BOLA�OS C.' 'Player Name: NU�EZ V.' 'Player Name: C�CERES'\n",
      " 'Player Name: CA�IZA' 'Player Name: NU�EZ' 'Player Name: CABA�AS'\n",
      " 'Player Name: ALVB�GE' 'Player Name: K�LLSTR�M' 'Player Name: ALLB�CK'\n",
      " 'Player Name: JO�O RICARDO' 'Player Name: ANDR� MACANGA'\n",
      " 'Player Name: AKW�' 'Player Name: SIM�O' 'Player Name: Z� KALANGA'\n",
      " 'Player Name: LOC�' 'Player Name: LAM�' 'Player Name: FL�VIO'\n",
      " 'Player Name: M�RIO' 'Player Name: ZUBERB�HLER' 'Player Name: L�CIO'\n",
      " 'Player Name: KAK�' 'Player Name: LUIS�O' 'Player Name: �ULER'\n",
      " 'Player Name: �ELIGA' 'Player Name: D�INI?' 'Player Name: MATAV�'\n",
      " 'Player Name: MILIJA�' 'Player Name: �IGI?' 'Player Name: TO�I?'\n",
      " 'Player Name: �ZIL' 'Player Name: KIE�LING' 'Player Name: S�RENSEN'\n",
      " 'Player Name: KJ�R' 'Player Name: J�RGENSEN' 'Player Name: GR�NKJ�R'\n",
      " 'Player Name: KR�LDRUP' 'Player Name: F. COENTR�O' 'Player Name: JOSU�'\n",
      " 'Player Name: PIQU�' 'Player Name: W�LFLI' 'Player Name: PERI�I?'\n",
      " 'Player Name: SUBA�I?' 'Player Name: J�' 'Player Name: MAND�UKI?'\n",
      " 'Player Name: C. PE�A' 'Player Name: JAVI MART�NEZ'\n",
      " 'Player Name: F�BREGAS' 'Player Name: CH. AR�NGUIZ'\n",
      " 'Player Name: GUTI�RREZ' 'Player Name: C. ZU�IGA' 'Player Name: R. MU�OZ'\n",
      " 'Player Name: URE�A M.' 'Player Name: B�RKI' 'Player Name: SCH�R'\n",
      " 'Player Name: KOLA�INAC' 'Player Name: BE�I?' 'Player Name: D�EKO'\n",
      " 'Player Name: MUJD�A' 'Player Name: VR�AJEVI?' 'Player Name: VRANJE�'\n",
      " 'Player Name: IBI�EVI?' 'Player Name: SU�I?' 'Player Name: �UNJI?'\n",
      " 'Player Name: VI�?A' 'Player Name: HAD�I?' 'Player Name: H�WEDES'\n",
      " 'Player Name: G�TZE' 'Player Name: GRO�KREUTZ' 'Player Name: �DER'\n",
      " 'Player Name: SCH�RRLE']\n"
     ]
    }
   ],
   "source": [
    "print(\"Coach Name: \"+world_cup_players.loc[world_cup_players['Coach Name'].str.contains('�'),'Coach Name'].unique())\n",
    "print(\"Player Name: \"+world_cup_players.loc[world_cup_players['Player Name'].str.contains('�'),'Player Name'].unique())"
   ]
  },
  {
   "cell_type": "code",
   "execution_count": 61,
   "metadata": {
    "colab": {
     "autoexec": {
      "startup": false,
      "wait_interval": 0
     }
    },
    "colab_type": "code",
    "id": "5PbC3ZA1A5hO"
   },
   "outputs": [],
   "source": [
    "#Example of Clean Up\n",
    "world_cup_players = world_cup_players.replace('PEL� (Edson Arantes do Nascimento)', 'Pelé')\n",
    "world_cup_players = world_cup_players.replace('Hugo S�NCHEZ', 'Hugo Sánchez')\n",
    "world_cup_players = world_cup_players.replace('ROM�RIO (Rom�rio de Souza Faria)', 'Romário')"
   ]
  },
  {
   "cell_type": "markdown",
   "metadata": {
    "colab_type": "text",
    "id": "5GLybnlZSLTs"
   },
   "source": [
    "World Cup Matches:"
   ]
  },
  {
   "cell_type": "code",
   "execution_count": 62,
   "metadata": {
    "colab": {
     "autoexec": {
      "startup": false,
      "wait_interval": 0
     }
    },
    "colab_type": "code",
    "id": "iWj0WsmESLTs"
   },
   "outputs": [
    {
     "name": "stdout",
     "output_type": "stream",
     "text": [
      "Stadium\n",
      "City\n",
      "Home Team Name\n",
      "Away Team Name\n",
      "Referee\n"
     ]
    }
   ],
   "source": [
    "for col in world_cup_matches.select_dtypes([np.object]).columns[1:]:\n",
    "    if world_cup_matches.dropna()[col].str.contains('�').any() == True:\n",
    "        print(col) # Gives the column name(s) with foreign language characters"
   ]
  },
  {
   "cell_type": "code",
   "execution_count": 63,
   "metadata": {
    "colab": {
     "autoexec": {
      "startup": false,
      "wait_interval": 0
     }
    },
    "colab_type": "code",
    "id": "kZ8r1H6XSLTw"
   },
   "outputs": [
    {
     "name": "stdout",
     "output_type": "stream",
     "text": [
      "['Stadium: Stade V�lodrome'\n",
      " 'Stadium: Maracan� - Est�dio Jornalista M�rio Filho'\n",
      " 'Stadium: Nou Camp - Estadio Le�n' 'Stadium: Estadio Jos� Mar�a Minella'\n",
      " 'Stadium: Estadio Ol�mpico Chateau Carreras'\n",
      " 'Stadium: Estadio Municipal de Bala�dos'\n",
      " 'Stadium: Estadio Ol�mpico Universitario']\n",
      "['City: Malm� ' 'City: Norrk�Ping ' 'City: D�Sseldorf ' 'City: La Coru�A ']\n",
      "[\"Home Team: C�te d'Ivoire\"]\n",
      "[\"Away Team: C�te d'Ivoire\"]\n",
      "['Referee: St�phane LANNOY (FRA)' 'Referee: Oleg�rio BENQUEREN�A (POR)'\n",
      " 'Referee: Bj�rn KUIPERS (NED)' 'Referee: C�neyt �AKIR (TUR)']\n"
     ]
    }
   ],
   "source": [
    "print(\"Stadium: \"+world_cup_matches.loc[world_cup_matches['Stadium'].str.contains('�'), 'Stadium'].unique())\n",
    "print(\"City: \"+world_cup_matches.loc[world_cup_matches['City']. str.contains('�'), 'City'].unique())\n",
    "print(\"Home Team: \"+world_cup_matches.loc[world_cup_matches['Home Team Name'].str.contains('�'), 'Home Team Name'].unique())\n",
    "print(\"Away Team: \"+world_cup_matches.loc[world_cup_matches['Away Team Name'].str.contains('�'), 'Away Team Name'].unique())\n",
    "print(\"Referee: \"+world_cup_matches.loc[world_cup_matches['Referee'].str.contains('�'), 'Referee'].unique())"
   ]
  },
  {
   "cell_type": "code",
   "execution_count": 64,
   "metadata": {
    "colab": {
     "autoexec": {
      "startup": false,
      "wait_interval": 0
     }
    },
    "colab_type": "code",
    "id": "oyyDZrj1A5hD"
   },
   "outputs": [],
   "source": [
    "world_cup_matches = world_cup_matches.replace(\"Stade V�lodrome\",\"Stade Vélodrome\")\n",
    "world_cup_matches = world_cup_matches.replace(\"Maracan� - Est�dio Jornalista M�rio Filho\",\"Maracanã - Estádio Jornalista Mário Filho\")\n",
    "world_cup_matches = world_cup_matches.replace(\"Nou Camp - Estadio Le�n\",\"Nou Camp\")\n",
    "world_cup_matches = world_cup_matches.replace(\"Estadio Jos� Mar�a Minella\",\"Estadio José María Minella\")\n",
    "world_cup_matches = world_cup_matches.replace(\"Estadio Ol�mpico Chateau Carreras\",\"Estadio Olímpico Chateau Carreras\")\n",
    "world_cup_matches = world_cup_matches.replace(\"Estadio Municipal de Bala�dos\",\"Estadio Municipal de Balaídos\")\n",
    "world_cup_matches = world_cup_matches.replace(\"Estadio Ol�mpico Universitario\",\"Estadio Olímpico Universitario\")\n",
    "world_cup_matches = world_cup_matches.replace(\"Malm� \",\"Malmö \")\n",
    "world_cup_matches = world_cup_matches.replace(\"Norrk�Ping \",\"Norrköping \")\n",
    "world_cup_matches = world_cup_matches.replace(\"D�Sseldorf \",\"Düsseldorf \")\n",
    "world_cup_matches = world_cup_matches.replace(\"La Coru�A \",\"La Coruña \")\n",
    "world_cup_matches = world_cup_matches.replace(\"C�te d'Ivoire\", \"Côte d’Ivoire \")\n",
    "world_cup_matches = world_cup_matches.replace(\"St�phane LANNOY (FRA)\",\"Stephane LANNOY (FRA)\")\n",
    "world_cup_matches = world_cup_matches.replace(\"Oleg�rio BENQUEREN�A (POR)\",\"Olegário BENQUERENÇA (POR)\")\n",
    "world_cup_matches = world_cup_matches.replace(\"Bj�rn KUIPERS (NED)\",\"Björn KUIPERS (NED)\")\n",
    "world_cup_matches = world_cup_matches.replace(\"C�neyt �AKIR (TUR)\",\"Cüneyt ÇAKIR (TUR)\")"
   ]
  },
  {
   "cell_type": "markdown",
   "metadata": {
    "colab_type": "text",
    "id": "hJZ6DdqrA5hR"
   },
   "source": [
    "<h4 style='color:orange'> C. Data Tidiness </h4>\n",
    "The following objectives were adhered to:<br>\n",
    "\n",
    "•  Each column is a variable<br>\n",
    "•  Each row is an observation<br>\n",
    "•  Each type of observational unit forms a table<br>"
   ]
  },
  {
   "cell_type": "code",
   "execution_count": 65,
   "metadata": {
    "colab": {
     "autoexec": {
      "startup": false,
      "wait_interval": 0
     }
    },
    "colab_type": "code",
    "id": "qJvhX9orA5hV"
   },
   "outputs": [
    {
     "data": {
      "text/html": [
       "<div>\n",
       "<style scoped>\n",
       "    .dataframe tbody tr th:only-of-type {\n",
       "        vertical-align: middle;\n",
       "    }\n",
       "\n",
       "    .dataframe tbody tr th {\n",
       "        vertical-align: top;\n",
       "    }\n",
       "\n",
       "    .dataframe thead th {\n",
       "        text-align: right;\n",
       "    }\n",
       "</style>\n",
       "<table border=\"1\" class=\"dataframe\">\n",
       "  <thead>\n",
       "    <tr style=\"text-align: right;\">\n",
       "      <th></th>\n",
       "      <th>World Cup</th>\n",
       "      <th>Year</th>\n",
       "      <th>Country</th>\n",
       "      <th>Winner</th>\n",
       "      <th>Runners-Up</th>\n",
       "      <th>Third</th>\n",
       "      <th>Fourth</th>\n",
       "      <th>GoalsScored</th>\n",
       "      <th>QualifiedTeams</th>\n",
       "      <th>MatchesPlayed</th>\n",
       "      <th>Attendance</th>\n",
       "    </tr>\n",
       "  </thead>\n",
       "  <tbody>\n",
       "    <tr>\n",
       "      <th>0</th>\n",
       "      <td>World Cup 1</td>\n",
       "      <td>1930</td>\n",
       "      <td>Uruguay</td>\n",
       "      <td>Uruguay</td>\n",
       "      <td>Argentina</td>\n",
       "      <td>USA</td>\n",
       "      <td>Yugoslavia</td>\n",
       "      <td>70</td>\n",
       "      <td>13</td>\n",
       "      <td>18</td>\n",
       "      <td>590549</td>\n",
       "    </tr>\n",
       "    <tr>\n",
       "      <th>1</th>\n",
       "      <td>World Cup 2</td>\n",
       "      <td>1934</td>\n",
       "      <td>Italy</td>\n",
       "      <td>Italy</td>\n",
       "      <td>Czechoslovakia</td>\n",
       "      <td>Germany</td>\n",
       "      <td>Austria</td>\n",
       "      <td>70</td>\n",
       "      <td>16</td>\n",
       "      <td>17</td>\n",
       "      <td>363000</td>\n",
       "    </tr>\n",
       "    <tr>\n",
       "      <th>2</th>\n",
       "      <td>World Cup 3</td>\n",
       "      <td>1938</td>\n",
       "      <td>France</td>\n",
       "      <td>Italy</td>\n",
       "      <td>Hungary</td>\n",
       "      <td>Brazil</td>\n",
       "      <td>Sweden</td>\n",
       "      <td>84</td>\n",
       "      <td>15</td>\n",
       "      <td>18</td>\n",
       "      <td>375700</td>\n",
       "    </tr>\n",
       "    <tr>\n",
       "      <th>3</th>\n",
       "      <td>World Cup 4</td>\n",
       "      <td>1950</td>\n",
       "      <td>Brazil</td>\n",
       "      <td>Uruguay</td>\n",
       "      <td>Brazil</td>\n",
       "      <td>Sweden</td>\n",
       "      <td>Spain</td>\n",
       "      <td>88</td>\n",
       "      <td>13</td>\n",
       "      <td>22</td>\n",
       "      <td>1045246</td>\n",
       "    </tr>\n",
       "    <tr>\n",
       "      <th>4</th>\n",
       "      <td>World Cup 5</td>\n",
       "      <td>1954</td>\n",
       "      <td>Switzerland</td>\n",
       "      <td>Germany</td>\n",
       "      <td>Hungary</td>\n",
       "      <td>Austria</td>\n",
       "      <td>Uruguay</td>\n",
       "      <td>140</td>\n",
       "      <td>16</td>\n",
       "      <td>26</td>\n",
       "      <td>768607</td>\n",
       "    </tr>\n",
       "  </tbody>\n",
       "</table>\n",
       "</div>"
      ],
      "text/plain": [
       "     World Cup  Year      Country   Winner      Runners-Up    Third  \\\n",
       "0  World Cup 1  1930      Uruguay  Uruguay       Argentina      USA   \n",
       "1  World Cup 2  1934        Italy    Italy  Czechoslovakia  Germany   \n",
       "2  World Cup 3  1938       France    Italy         Hungary   Brazil   \n",
       "3  World Cup 4  1950       Brazil  Uruguay          Brazil   Sweden   \n",
       "4  World Cup 5  1954  Switzerland  Germany         Hungary  Austria   \n",
       "\n",
       "       Fourth  GoalsScored  QualifiedTeams  MatchesPlayed  Attendance  \n",
       "0  Yugoslavia           70              13             18      590549  \n",
       "1     Austria           70              16             17      363000  \n",
       "2      Sweden           84              15             18      375700  \n",
       "3       Spain           88              13             22     1045246  \n",
       "4     Uruguay          140              16             26      768607  "
      ]
     },
     "execution_count": 65,
     "metadata": {},
     "output_type": "execute_result"
    }
   ],
   "source": [
    "# Add new column:  'World Cup Number' to world_cup data frame\n",
    "wc_index = pd.Series(['World Cup 1', 'World Cup 2', 'World Cup 3', 'World Cup 4', 'World Cup 5', 'World Cup 6', 'World Cup 7', 'World Cup 8', 'World Cup 9', 'World Cup 10', 'World Cup 11', 'World Cup 12', 'World Cup 13', 'World Cup 14', 'World Cup 15', 'World Cup 16', 'World Cup 17', 'World Cup 18', 'World Cup 19', 'World Cup 20'])\n",
    "world_cup['World Cup'] = wc_index \n",
    "world_cup = world_cup[['World Cup', 'Year', 'Country', 'Winner', 'Runners-Up', 'Third', 'Fourth', 'GoalsScored', 'QualifiedTeams', 'MatchesPlayed', 'Attendance']]\n",
    "world_cup.head()"
   ]
  },
  {
   "cell_type": "code",
   "execution_count": 66,
   "metadata": {
    "colab": {
     "autoexec": {
      "startup": false,
      "wait_interval": 0
     }
    },
    "colab_type": "code",
    "id": "ccLs0bPNA5hc"
   },
   "outputs": [
    {
     "data": {
      "text/html": [
       "<div>\n",
       "<style scoped>\n",
       "    .dataframe tbody tr th:only-of-type {\n",
       "        vertical-align: middle;\n",
       "    }\n",
       "\n",
       "    .dataframe tbody tr th {\n",
       "        vertical-align: top;\n",
       "    }\n",
       "\n",
       "    .dataframe thead th {\n",
       "        text-align: right;\n",
       "    }\n",
       "</style>\n",
       "<table border=\"1\" class=\"dataframe\">\n",
       "  <thead>\n",
       "    <tr style=\"text-align: right;\">\n",
       "      <th></th>\n",
       "      <th>Player Name</th>\n",
       "      <th>Team Initials</th>\n",
       "      <th>Coach Name</th>\n",
       "      <th>Line-up</th>\n",
       "      <th>Shirt Number</th>\n",
       "      <th>RoundID</th>\n",
       "      <th>MatchID</th>\n",
       "      <th>Position</th>\n",
       "      <th>Event</th>\n",
       "    </tr>\n",
       "  </thead>\n",
       "  <tbody>\n",
       "    <tr>\n",
       "      <th>0</th>\n",
       "      <td>Alex THEPOT</td>\n",
       "      <td>FRA</td>\n",
       "      <td>CAUDRON Raoul (FRA)</td>\n",
       "      <td>S</td>\n",
       "      <td>0</td>\n",
       "      <td>201</td>\n",
       "      <td>1096</td>\n",
       "      <td>GK</td>\n",
       "      <td>Not Applicable</td>\n",
       "    </tr>\n",
       "    <tr>\n",
       "      <th>1</th>\n",
       "      <td>Oscar BONFIGLIO</td>\n",
       "      <td>MEX</td>\n",
       "      <td>LUQUE Juan (MEX)</td>\n",
       "      <td>S</td>\n",
       "      <td>0</td>\n",
       "      <td>201</td>\n",
       "      <td>1096</td>\n",
       "      <td>GK</td>\n",
       "      <td>Not Applicable</td>\n",
       "    </tr>\n",
       "    <tr>\n",
       "      <th>2</th>\n",
       "      <td>Marcel LANGILLER</td>\n",
       "      <td>FRA</td>\n",
       "      <td>CAUDRON Raoul (FRA)</td>\n",
       "      <td>S</td>\n",
       "      <td>0</td>\n",
       "      <td>201</td>\n",
       "      <td>1096</td>\n",
       "      <td>Not Applicable</td>\n",
       "      <td>G40'</td>\n",
       "    </tr>\n",
       "    <tr>\n",
       "      <th>3</th>\n",
       "      <td>Juan CARRENO</td>\n",
       "      <td>MEX</td>\n",
       "      <td>LUQUE Juan (MEX)</td>\n",
       "      <td>S</td>\n",
       "      <td>0</td>\n",
       "      <td>201</td>\n",
       "      <td>1096</td>\n",
       "      <td>Not Applicable</td>\n",
       "      <td>G70'</td>\n",
       "    </tr>\n",
       "    <tr>\n",
       "      <th>4</th>\n",
       "      <td>Ernest LIBERATI</td>\n",
       "      <td>FRA</td>\n",
       "      <td>CAUDRON Raoul (FRA)</td>\n",
       "      <td>S</td>\n",
       "      <td>0</td>\n",
       "      <td>201</td>\n",
       "      <td>1096</td>\n",
       "      <td>Not Applicable</td>\n",
       "      <td>Not Applicable</td>\n",
       "    </tr>\n",
       "  </tbody>\n",
       "</table>\n",
       "</div>"
      ],
      "text/plain": [
       "        Player Name Team Initials           Coach Name Line-up  Shirt Number  \\\n",
       "0       Alex THEPOT           FRA  CAUDRON Raoul (FRA)       S             0   \n",
       "1   Oscar BONFIGLIO           MEX     LUQUE Juan (MEX)       S             0   \n",
       "2  Marcel LANGILLER           FRA  CAUDRON Raoul (FRA)       S             0   \n",
       "3      Juan CARRENO           MEX     LUQUE Juan (MEX)       S             0   \n",
       "4   Ernest LIBERATI           FRA  CAUDRON Raoul (FRA)       S             0   \n",
       "\n",
       "   RoundID  MatchID        Position           Event  \n",
       "0      201     1096              GK  Not Applicable  \n",
       "1      201     1096              GK  Not Applicable  \n",
       "2      201     1096  Not Applicable            G40'  \n",
       "3      201     1096  Not Applicable            G70'  \n",
       "4      201     1096  Not Applicable  Not Applicable  "
      ]
     },
     "execution_count": 66,
     "metadata": {},
     "output_type": "execute_result"
    }
   ],
   "source": [
    "# Reorder World Cup Players data frame\n",
    "world_cup_players = world_cup_players[['Player Name', 'Team Initials', 'Coach Name', 'Line-up', 'Shirt Number', 'RoundID', 'MatchID', 'Position', 'Event']]\n",
    "world_cup_players.head()"
   ]
  },
  {
   "cell_type": "markdown",
   "metadata": {
    "colab_type": "text",
    "id": "b1SQvBw3A5hg"
   },
   "source": [
    "<h4 style='color:orange'> D. Data Integrity </h4>\n",
    "• Basic Trends and Correlations<br>\n",
    "• Outlier Identification"
   ]
  },
  {
   "cell_type": "code",
   "execution_count": 67,
   "metadata": {
    "colab": {
     "autoexec": {
      "startup": false,
      "wait_interval": 0
     }
    },
    "colab_type": "code",
    "id": "jUknpl3OA5hg"
   },
   "outputs": [
    {
     "data": {
      "text/plain": [
       "<matplotlib.axes._subplots.AxesSubplot at 0x114c88780>"
      ]
     },
     "execution_count": 67,
     "metadata": {},
     "output_type": "execute_result"
    },
    {
     "data": {
      "image/png": "[encoded data removed]",
      "text/plain": [
       "<Figure size 720x432 with 1 Axes>"
      ]
     },
     "metadata": {},
     "output_type": "display_data"
    }
   ],
   "source": [
    "world_cup.plot.scatter(x='MatchesPlayed', y='GoalsScored')"
   ]
  },
  {
   "cell_type": "code",
   "execution_count": 68,
   "metadata": {
    "colab": {
     "autoexec": {
      "startup": false,
      "wait_interval": 0
     }
    },
    "colab_type": "code",
    "id": "NaY3A5WsA5hm"
   },
   "outputs": [
    {
     "data": {
      "text/html": [
       "<div>\n",
       "<style scoped>\n",
       "    .dataframe tbody tr th:only-of-type {\n",
       "        vertical-align: middle;\n",
       "    }\n",
       "\n",
       "    .dataframe tbody tr th {\n",
       "        vertical-align: top;\n",
       "    }\n",
       "\n",
       "    .dataframe thead th {\n",
       "        text-align: right;\n",
       "    }\n",
       "</style>\n",
       "<table border=\"1\" class=\"dataframe\">\n",
       "  <thead>\n",
       "    <tr style=\"text-align: right;\">\n",
       "      <th></th>\n",
       "      <th></th>\n",
       "      <th>GoalsScored</th>\n",
       "    </tr>\n",
       "    <tr>\n",
       "      <th>World Cup</th>\n",
       "      <th>MatchesPlayed</th>\n",
       "      <th></th>\n",
       "    </tr>\n",
       "  </thead>\n",
       "  <tbody>\n",
       "    <tr>\n",
       "      <th>World Cup 1</th>\n",
       "      <th>18</th>\n",
       "      <td>70</td>\n",
       "    </tr>\n",
       "    <tr>\n",
       "      <th>World Cup 10</th>\n",
       "      <th>38</th>\n",
       "      <td>97</td>\n",
       "    </tr>\n",
       "    <tr>\n",
       "      <th>World Cup 11</th>\n",
       "      <th>38</th>\n",
       "      <td>102</td>\n",
       "    </tr>\n",
       "    <tr>\n",
       "      <th>World Cup 12</th>\n",
       "      <th>52</th>\n",
       "      <td>146</td>\n",
       "    </tr>\n",
       "    <tr>\n",
       "      <th>World Cup 13</th>\n",
       "      <th>52</th>\n",
       "      <td>132</td>\n",
       "    </tr>\n",
       "    <tr>\n",
       "      <th>...</th>\n",
       "      <th>...</th>\n",
       "      <td>...</td>\n",
       "    </tr>\n",
       "    <tr>\n",
       "      <th>World Cup 5</th>\n",
       "      <th>26</th>\n",
       "      <td>140</td>\n",
       "    </tr>\n",
       "    <tr>\n",
       "      <th>World Cup 6</th>\n",
       "      <th>35</th>\n",
       "      <td>126</td>\n",
       "    </tr>\n",
       "    <tr>\n",
       "      <th>World Cup 7</th>\n",
       "      <th>32</th>\n",
       "      <td>89</td>\n",
       "    </tr>\n",
       "    <tr>\n",
       "      <th>World Cup 8</th>\n",
       "      <th>32</th>\n",
       "      <td>89</td>\n",
       "    </tr>\n",
       "    <tr>\n",
       "      <th>World Cup 9</th>\n",
       "      <th>32</th>\n",
       "      <td>95</td>\n",
       "    </tr>\n",
       "  </tbody>\n",
       "</table>\n",
       "<p>20 rows × 1 columns</p>\n",
       "</div>"
      ],
      "text/plain": [
       "                            GoalsScored\n",
       "World Cup    MatchesPlayed             \n",
       "World Cup 1  18                      70\n",
       "World Cup 10 38                      97\n",
       "World Cup 11 38                     102\n",
       "World Cup 12 52                     146\n",
       "World Cup 13 52                     132\n",
       "...                                 ...\n",
       "World Cup 5  26                     140\n",
       "World Cup 6  35                     126\n",
       "World Cup 7  32                      89\n",
       "World Cup 8  32                      89\n",
       "World Cup 9  32                      95\n",
       "\n",
       "[20 rows x 1 columns]"
      ]
     },
     "execution_count": 68,
     "metadata": {},
     "output_type": "execute_result"
    }
   ],
   "source": [
    "goals = world_cup.pivot_table('GoalsScored', index=['World Cup', 'MatchesPlayed'], aggfunc = 'sum')\n",
    "goals"
   ]
  },
  {
   "cell_type": "code",
   "execution_count": 69,
   "metadata": {
    "colab": {
     "autoexec": {
      "startup": false,
      "wait_interval": 0
     }
    },
    "colab_type": "code",
    "id": "jEulXLykA5hn"
   },
   "outputs": [
    {
     "data": {
      "text/html": [
       "<div>\n",
       "<style scoped>\n",
       "    .dataframe tbody tr th:only-of-type {\n",
       "        vertical-align: middle;\n",
       "    }\n",
       "\n",
       "    .dataframe tbody tr th {\n",
       "        vertical-align: top;\n",
       "    }\n",
       "\n",
       "    .dataframe thead th {\n",
       "        text-align: right;\n",
       "    }\n",
       "</style>\n",
       "<table border=\"1\" class=\"dataframe\">\n",
       "  <thead>\n",
       "    <tr style=\"text-align: right;\">\n",
       "      <th></th>\n",
       "      <th>World Cup</th>\n",
       "      <th>Year</th>\n",
       "      <th>Country</th>\n",
       "      <th>Winner</th>\n",
       "      <th>Runners-Up</th>\n",
       "      <th>Third</th>\n",
       "      <th>Fourth</th>\n",
       "      <th>GoalsScored</th>\n",
       "      <th>QualifiedTeams</th>\n",
       "      <th>MatchesPlayed</th>\n",
       "      <th>Attendance</th>\n",
       "    </tr>\n",
       "  </thead>\n",
       "  <tbody>\n",
       "    <tr>\n",
       "      <th>4</th>\n",
       "      <td>World Cup 5</td>\n",
       "      <td>1954</td>\n",
       "      <td>Switzerland</td>\n",
       "      <td>Germany</td>\n",
       "      <td>Hungary</td>\n",
       "      <td>Austria</td>\n",
       "      <td>Uruguay</td>\n",
       "      <td>140</td>\n",
       "      <td>16</td>\n",
       "      <td>26</td>\n",
       "      <td>768607</td>\n",
       "    </tr>\n",
       "  </tbody>\n",
       "</table>\n",
       "</div>"
      ],
      "text/plain": [
       "     World Cup  Year      Country   Winner Runners-Up    Third   Fourth  \\\n",
       "4  World Cup 5  1954  Switzerland  Germany    Hungary  Austria  Uruguay   \n",
       "\n",
       "   GoalsScored  QualifiedTeams  MatchesPlayed  Attendance  \n",
       "4          140              16             26      768607  "
      ]
     },
     "execution_count": 69,
     "metadata": {},
     "output_type": "execute_result"
    }
   ],
   "source": [
    "world_cup.loc[world_cup['World Cup'] == 'World Cup 5']"
   ]
  },
  {
   "cell_type": "markdown",
   "metadata": {
    "colab_type": "text",
    "id": "AEZd_CsFSLUD"
   },
   "source": [
    "NOTE: An outlier was found between 20 and 30 on the x-axis which corresponds with FIFA World Cup # 5 in Switzerland. The entry had an unusually high number of goals  compared to matches played . This outlier was found to be accurate when compared to research."
   ]
  },
  {
   "cell_type": "markdown",
   "metadata": {
    "colab_type": "text",
    "id": "7Wl7NO2JSLUD"
   },
   "source": [
    "<h5 style='color:gray'>END OF DATA PREPARTION</h5>\n",
    "***"
   ]
  },
  {
   "cell_type": "markdown",
   "metadata": {
    "colab_type": "text",
    "id": "jWc93CPdA5hp"
   },
   "source": [
    "<h1 style='color:green'>Data Analysis</h1>"
   ]
  },
  {
   "cell_type": "markdown",
   "metadata": {
    "colab_type": "text",
    "id": "zMZ5m5Q_A5iJ"
   },
   "source": [
    "<h2 style='color:black'>Analysis: Attendance</h2>\n",
    "<h3 style='color:black'>Description</h3>\n",
    "\n",
    "<b>A. Statistics</b>\n",
    "1. How many matches have been played in all? Each year?\n",
    "2. What is the city, stadium, and country with the most matches?\n",
    "\n",
    "<b>B. Graphs</b>\n",
    "1. Graph of all attendance over the years in chron order\n",
    "2. Graph the attendance by day over the years\n",
    "\n",
    "<b>C. Correlations</b>\n",
    "1. Determine the three highest attended matches for each cup and make simple observations.\n",
    "2. Can attendance alone be used to predict a winner?\n",
    "***"
   ]
  },
  {
   "cell_type": "markdown",
   "metadata": {
    "colab_type": "text",
    "id": "4r6ODHabA5iK"
   },
   "source": [
    "<h4 style='color:orange'>Quick Data Preparation</h4>\n",
    "#####  Read, Create DataFrames, Sample and Check Metadata"
   ]
  },
  {
   "cell_type": "code",
   "execution_count": 70,
   "metadata": {
    "colab": {
     "autoexec": {
      "startup": false,
      "wait_interval": 0
     }
    },
    "colab_type": "code",
    "id": "xip_qldoA5iK"
   },
   "outputs": [
    {
     "data": {
      "text/html": [
       "<div>\n",
       "<style scoped>\n",
       "    .dataframe tbody tr th:only-of-type {\n",
       "        vertical-align: middle;\n",
       "    }\n",
       "\n",
       "    .dataframe tbody tr th {\n",
       "        vertical-align: top;\n",
       "    }\n",
       "\n",
       "    .dataframe thead th {\n",
       "        text-align: right;\n",
       "    }\n",
       "</style>\n",
       "<table border=\"1\" class=\"dataframe\">\n",
       "  <thead>\n",
       "    <tr style=\"text-align: right;\">\n",
       "      <th></th>\n",
       "      <th>Host</th>\n",
       "      <th>Continent</th>\n",
       "      <th>Winner</th>\n",
       "    </tr>\n",
       "    <tr>\n",
       "      <th>Year</th>\n",
       "      <th></th>\n",
       "      <th></th>\n",
       "      <th></th>\n",
       "    </tr>\n",
       "  </thead>\n",
       "  <tbody>\n",
       "    <tr>\n",
       "      <th>1930</th>\n",
       "      <td>Uruguay</td>\n",
       "      <td>South America</td>\n",
       "      <td>Uruguay</td>\n",
       "    </tr>\n",
       "    <tr>\n",
       "      <th>1934</th>\n",
       "      <td>Italy</td>\n",
       "      <td>Europe</td>\n",
       "      <td>Italy</td>\n",
       "    </tr>\n",
       "    <tr>\n",
       "      <th>1938</th>\n",
       "      <td>France</td>\n",
       "      <td>Europe</td>\n",
       "      <td>Italy</td>\n",
       "    </tr>\n",
       "    <tr>\n",
       "      <th>1950</th>\n",
       "      <td>Brazil</td>\n",
       "      <td>South America</td>\n",
       "      <td>Uruguay</td>\n",
       "    </tr>\n",
       "    <tr>\n",
       "      <th>1954</th>\n",
       "      <td>Switzerland</td>\n",
       "      <td>Europe</td>\n",
       "      <td>Germany</td>\n",
       "    </tr>\n",
       "  </tbody>\n",
       "</table>\n",
       "</div>"
      ],
      "text/plain": [
       "             Host      Continent    Winner\n",
       "Year                                      \n",
       "1930      Uruguay  South America   Uruguay\n",
       "1934        Italy         Europe     Italy\n",
       "1938       France         Europe     Italy\n",
       "1950       Brazil  South America   Uruguay\n",
       "1954  Switzerland         Europe   Germany"
      ]
     },
     "metadata": {},
     "output_type": "display_data"
    },
    {
     "data": {
      "text/html": [
       "<div>\n",
       "<style scoped>\n",
       "    .dataframe tbody tr th:only-of-type {\n",
       "        vertical-align: middle;\n",
       "    }\n",
       "\n",
       "    .dataframe tbody tr th {\n",
       "        vertical-align: top;\n",
       "    }\n",
       "\n",
       "    .dataframe thead th {\n",
       "        text-align: right;\n",
       "    }\n",
       "</style>\n",
       "<table border=\"1\" class=\"dataframe\">\n",
       "  <thead>\n",
       "    <tr style=\"text-align: right;\">\n",
       "      <th></th>\n",
       "      <th>Year</th>\n",
       "      <th>Datetime</th>\n",
       "      <th>Stage</th>\n",
       "      <th>Stadium</th>\n",
       "      <th>City</th>\n",
       "      <th>Home Team Initials</th>\n",
       "      <th>Away Team Initials</th>\n",
       "      <th>Attendance</th>\n",
       "    </tr>\n",
       "    <tr>\n",
       "      <th>MatchID</th>\n",
       "      <th></th>\n",
       "      <th></th>\n",
       "      <th></th>\n",
       "      <th></th>\n",
       "      <th></th>\n",
       "      <th></th>\n",
       "      <th></th>\n",
       "      <th></th>\n",
       "    </tr>\n",
       "  </thead>\n",
       "  <tbody>\n",
       "    <tr>\n",
       "      <th>25</th>\n",
       "      <td>1990</td>\n",
       "      <td>1990-06-24 17:00:00</td>\n",
       "      <td>Round of 16</td>\n",
       "      <td>Stadio delle Alpi</td>\n",
       "      <td>Turin</td>\n",
       "      <td>BRA</td>\n",
       "      <td>ARG</td>\n",
       "      <td>61381</td>\n",
       "    </tr>\n",
       "    <tr>\n",
       "      <th>26</th>\n",
       "      <td>1990</td>\n",
       "      <td>1990-06-08 18:00:00</td>\n",
       "      <td>Group B</td>\n",
       "      <td>Giuseppe Meazza</td>\n",
       "      <td>Milan</td>\n",
       "      <td>ARG</td>\n",
       "      <td>CMR</td>\n",
       "      <td>73780</td>\n",
       "    </tr>\n",
       "    <tr>\n",
       "      <th>27</th>\n",
       "      <td>1990</td>\n",
       "      <td>1990-07-08 20:00:00</td>\n",
       "      <td>Final</td>\n",
       "      <td>Stadio Olimpico</td>\n",
       "      <td>Rome</td>\n",
       "      <td>FRG</td>\n",
       "      <td>ARG</td>\n",
       "      <td>73603</td>\n",
       "    </tr>\n",
       "    <tr>\n",
       "      <th>28</th>\n",
       "      <td>1990</td>\n",
       "      <td>1990-07-03 20:00:00</td>\n",
       "      <td>Semi-finals</td>\n",
       "      <td>San Paolo</td>\n",
       "      <td>Naples</td>\n",
       "      <td>ITA</td>\n",
       "      <td>ARG</td>\n",
       "      <td>59978</td>\n",
       "    </tr>\n",
       "    <tr>\n",
       "      <th>29</th>\n",
       "      <td>1990</td>\n",
       "      <td>1990-06-18 21:00:00</td>\n",
       "      <td>Group B</td>\n",
       "      <td>San Paolo</td>\n",
       "      <td>Naples</td>\n",
       "      <td>ARG</td>\n",
       "      <td>ROU</td>\n",
       "      <td>52733</td>\n",
       "    </tr>\n",
       "  </tbody>\n",
       "</table>\n",
       "</div>"
      ],
      "text/plain": [
       "         Year            Datetime        Stage            Stadium     City  \\\n",
       "MatchID                                                                      \n",
       "25       1990 1990-06-24 17:00:00  Round of 16  Stadio delle Alpi   Turin    \n",
       "26       1990 1990-06-08 18:00:00      Group B    Giuseppe Meazza   Milan    \n",
       "27       1990 1990-07-08 20:00:00        Final    Stadio Olimpico    Rome    \n",
       "28       1990 1990-07-03 20:00:00  Semi-finals          San Paolo  Naples    \n",
       "29       1990 1990-06-18 21:00:00      Group B          San Paolo  Naples    \n",
       "\n",
       "        Home Team Initials Away Team Initials  Attendance  \n",
       "MatchID                                                    \n",
       "25                     BRA                ARG       61381  \n",
       "26                     ARG                CMR       73780  \n",
       "27                     FRG                ARG       73603  \n",
       "28                     ITA                ARG       59978  \n",
       "29                     ARG                ROU       52733  "
      ]
     },
     "metadata": {},
     "output_type": "display_data"
    }
   ],
   "source": [
    "#Create Data Frames\n",
    "wc_attendance = world_cup_matches[['MatchID','Year','Datetime','Stage','Stadium','City','Home Team Initials','Away Team Initials','Attendance']]\n",
    "wc_attendance.set_index('MatchID', inplace=True)\n",
    "wc_attendance.sort_values(by='MatchID', inplace=True)\n",
    "\n",
    "wc_hosts = pd.read_csv('WorldCupHosts.csv')\n",
    "wc_hosts.set_index('Year', inplace=True)\n",
    "\n",
    "#Meta Data and Samples\n",
    "display(wc_hosts.head())\n",
    "display(wc_attendance.head())"
   ]
  },
  {
   "cell_type": "markdown",
   "metadata": {
    "colab_type": "text",
    "id": "ig6-vhfjA5iR"
   },
   "source": [
    "<h4 style='color:orange'>A. Statistics</h4>"
   ]
  },
  {
   "cell_type": "code",
   "execution_count": 71,
   "metadata": {
    "colab": {
     "autoexec": {
      "startup": false,
      "wait_interval": 0
     }
    },
    "colab_type": "code",
    "id": "qg0MLB63A5iS"
   },
   "outputs": [
    {
     "data": {
      "text/plain": [
       "City\n",
       "Mexico City                           23\n",
       "Montevideo                            18\n",
       "Guadalajara                           17\n",
       "Rio De Janeiro                        15\n",
       "Johannesburg                          15\n",
       "Buenos Aires                          12\n",
       "Sao Paulo                             12\n",
       "Leon                                  11\n",
       "Munich                                11\n",
       "Frankfurt/Main                        10\n",
       "Santiago De Chile                     10\n",
       "Dortmund                              10\n",
       "London                                10\n",
       "Gelsenkirchen                         10\n",
       "Stuttgart                             10\n",
       "Saint-Denis                            9\n",
       "Rome                                   9\n",
       "Marseilles                             9\n",
       "Belo Horizonte                         9\n",
       "Milan                                  9\n",
       "Bordeaux                               9\n",
       "Hanover                                9\n",
       "Paris                                  9\n",
       "Hamburg                                8\n",
       "Barcelona                              8\n",
       "Nelson Mandela Bay/Port Elizabeth      8\n",
       "Vina Del Mar                           8\n",
       "Los Angeles                            8\n",
       "Puebla                                 8\n",
       "Toulouse                               8\n",
       "Cordoba                                8\n",
       "Solna                                  8\n",
       "Monterrey                              8\n",
       "Cape Town                              8\n",
       "Rancagua                               7\n",
       "Porto Alegre                           7\n",
       "Madrid                                 7\n",
       "Florence                               7\n",
       "Gothenburg                             7\n",
       "New York/New Jersey                    7\n",
       "Naples                                 7\n",
       "Durban                                 7\n",
       "Toluca                                 7\n",
       "Brasilia                               7\n",
       "Turin                                  7\n",
       "Arica                                  7\n",
       "Lens                                   6\n",
       "Nantes                                 6\n",
       "Mendoza                                6\n",
       "Mar Del Plata                          6\n",
       "Montpellier                            6\n",
       "Mangaung/Bloemfontein                  6\n",
       "San Francisco                          6\n",
       "Salvador                               6\n",
       "Basel                                  6\n",
       "Berlin                                 6\n",
       "Bologna                                6\n",
       "Boston                                 6\n",
       "Tshwane/Pretoria                       6\n",
       "Curitiba                               6\n",
       "Dallas                                 6\n",
       "Phokeng                                6\n",
       "Lyon                                   6\n",
       "Saint-Etienne                          6\n",
       "Rosario                                6\n",
       "Fortaleza                              6\n",
       "Recife                                 6\n",
       "Liverpool                              5\n",
       "Düsseldorf                             5\n",
       "Cologne                                5\n",
       "Chicago                                5\n",
       "Leipzig                                5\n",
       "Lausanne                               5\n",
       "Berne                                  5\n",
       "Kaiserslautern                         5\n",
       "Bari                                   5\n",
       "Genoa                                  5\n",
       "Zurich                                 5\n",
       "Nuremberg                              5\n",
       "Washington Dc                          5\n",
       "Orlando                                5\n",
       "Malmö                                  4\n",
       "Queretaro                              4\n",
       "Polokwane                              4\n",
       "Geneva                                 4\n",
       "Detroit                                4\n",
       "Daegu                                  4\n",
       "Seville                                4\n",
       "Cuiaba                                 4\n",
       "Sheffield                              4\n",
       "Sunderland                             4\n",
       "Suwon                                  4\n",
       "Saitama                                4\n",
       "Nelspruit                              4\n",
       "Manaus                                 4\n",
       "Yokohama                               4\n",
       "Verona                                 4\n",
       "Natal                                  4\n",
       "Valladolid                             3\n",
       "Vigo                                   3\n",
       "Sapporo                                3\n",
       "Seoul                                  3\n",
       "Daejeon                                3\n",
       "Udine                                  3\n",
       "Ulsan                                  3\n",
       "Berlin West                            3\n",
       "Valencia                               3\n",
       "Colombes                               3\n",
       "Shizuoka                               3\n",
       "Bilbao                                 3\n",
       "Cagliari                               3\n",
       "Elche                                  3\n",
       "Birmingham                             3\n",
       "Busan                                  3\n",
       "Rifu                                   3\n",
       "Oita                                   3\n",
       "Irapuato                               3\n",
       "Manchester                             3\n",
       "Zaragoza                               3\n",
       "Middlesbrough                          3\n",
       "Nezahualcoyotl                         3\n",
       "Niigata                                3\n",
       "Norrköping                             3\n",
       "La Coruña                              3\n",
       "Kobe                                   3\n",
       "Malaga                                 3\n",
       "Jeonju                                 3\n",
       "Jeju                                   3\n",
       "Alicante                               3\n",
       "Palermo                                3\n",
       "Ibaraki                                3\n",
       "Gwangju                                3\n",
       "Osaka                                  3\n",
       "Incheon                                3\n",
       "Oviedo                                 3\n",
       "Gijon                                  3\n",
       "Helsingborg                            2\n",
       "Halmstad                               2\n",
       "Boras                                  2\n",
       "Sandviken                              2\n",
       "Vasteras                               2\n",
       "Strasbourg                             1\n",
       "Antibes                                1\n",
       "Reims                                  1\n",
       "Lugano                                 1\n",
       "Le Havre                               1\n",
       "Lille                                  1\n",
       "Udevalla                               1\n",
       "Trieste                                1\n",
       "Orebro                                 1\n",
       "Eskilstuna                             1\n",
       "Name: City, dtype: int64"
      ]
     },
     "metadata": {},
     "output_type": "display_data"
    },
    {
     "data": {
      "text/plain": [
       "Stadium\n",
       "Estadio Azteca                                        19\n",
       "Olympiastadion                                        14\n",
       "Jalisco                                               14\n",
       "Nou Camp                                              11\n",
       "Nacional                                              10\n",
       "Estadio Centenario                                    10\n",
       "Stade du Parc Lescure                                  9\n",
       "Stade Vélodrome                                        9\n",
       "El Monumental - Estadio Monumental Antonio Vespuci     9\n",
       "Stade de France                                        9\n",
       "Wembley Stadium                                        9\n",
       "Parc des Princes                                       9\n",
       "Rose Bowl                                              8\n",
       "Estadio Olímpico Chateau Carreras                      8\n",
       "Port Elizabeth Stadium                                 8\n",
       "Estadio Sausalito                                      8\n",
       "Soccer City Stadium                                    8\n",
       "Stade Municipal                                        8\n",
       "Rasunda Stadium                                        8\n",
       "Cuauhtemoc                                             8\n",
       "Cape Town Stadium                                      8\n",
       "Maracanã - Estádio Jornalista Mário Filho              8\n",
       "Giants Stadium                                         7\n",
       "Durban Stadium                                         7\n",
       "Estadio do Maracana                                    7\n",
       "Nya Ullevi                                             7\n",
       "Estadio Nacional                                       7\n",
       "Ellis Park Stadium                                     7\n",
       "Carlos Dittborn                                        7\n",
       "Estadio El Teniente-Codelco                            7\n",
       "Free State Stadium                                     6\n",
       "Arroyito - Estadio Dr. Lisandro de la Torre            6\n",
       "Stade de Gerland                                       6\n",
       "Pacaembu                                               6\n",
       "Arena Fonte Nova                                       6\n",
       "Stadio Olimpico                                        6\n",
       "Parque Central                                         6\n",
       "La Beaujoire                                           6\n",
       "Loftus Versfeld Stadium                                6\n",
       "Arena de Sao Paulo                                     6\n",
       "Giuseppe Meazza                                        6\n",
       "Estadio Mineirao                                       6\n",
       "Stanford Stadium                                       6\n",
       "La Mosson                                              6\n",
       "Estadio José María Minella                             6\n",
       "Royal Bafokeng Sports Palace                           6\n",
       "FIFA World Cup Stadium, Munich                         6\n",
       "FIFA World Cup Stadium, Dortmund                       6\n",
       "St. Jakob                                              6\n",
       "Stade Felix Bollaert                                   6\n",
       "Stade Geoffroy Guichard                                6\n",
       "Cotton Bowl                                            6\n",
       "Gottlieb-Daimler-Stadion                               6\n",
       "Foxboro Stadium                                        6\n",
       "San Martin                                             6\n",
       "Estadio Castelao                                       6\n",
       "FIFA World Cup Stadium, Hamburg                        5\n",
       "Luigi Ferraris                                         5\n",
       "Hardturm                                               5\n",
       "FIFA World Cup Stadium, Gelsenkirchen                  5\n",
       "FIFA World Cup Stadium, Hanover                        5\n",
       "Goodison Park                                          5\n",
       "FIFA World Cup Stadium, Frankfurt                      5\n",
       "Fritz-Walter-Stadion                                   5\n",
       "Franken-Stadion                                        5\n",
       "Zentralstadion                                         5\n",
       "FIFA World Cup Stadium, Cologne                        5\n",
       "Estadio Beira-Rio                                      5\n",
       "Wankdorf Stadium                                       5\n",
       "Waldstadion                                            5\n",
       "Arena Pernambuco                                       5\n",
       "Camp Nou                                               5\n",
       "Stadio delle Alpi                                      5\n",
       "Stadio San Nicola                                      5\n",
       "Soldier Field                                          5\n",
       "Citrus Bowl                                            5\n",
       "San Paolo                                              5\n",
       "Rheinstadion                                           5\n",
       "RFK Stadium                                            5\n",
       "Parkstadion                                            5\n",
       "La Pontaise                                            5\n",
       "Daegu World Cup Stadium                                4\n",
       "Comunale                                               4\n",
       "Estadio das Dunas                                      4\n",
       "Estadio Corregidora                                    4\n",
       "Charmilles                                             4\n",
       "Arena da Baixada                                       4\n",
       "Estadio Olímpico Universitario                         4\n",
       "Arena Pantanal                                         4\n",
       "Hillsborough                                           4\n",
       "International Stadium Yokohama                         4\n",
       "Estadio Universitario                                  4\n",
       "Arena Amazonia                                         4\n",
       "Peter Mokaba Stadium                                   4\n",
       "Renato Dall Ara                                        4\n",
       "Malmo Stadion                                          4\n",
       "Luis Dosal                                             4\n",
       "Mbombela Stadium                                       4\n",
       "Suwon World Cup Stadium                                4\n",
       "Roker Park Ground                                      4\n",
       "Saitama Stadium 2002                                   4\n",
       "Pontiac Silverdome                                     4\n",
       "Marc Antonio Bentegodi                                 4\n",
       "Santiago Bernabeu                                      4\n",
       "Westfalenstadion                                       4\n",
       "Neckarstadion                                          4\n",
       "Tecnologico                                            4\n",
       "Niedersachsenstadion                                   4\n",
       "Carlos Tartiere                                        3\n",
       "Osaka Nagai Stadium                                    3\n",
       "Kobe Wing Stadium                                      3\n",
       "Tres de Marzo                                          3\n",
       "Busan Asiad Main Stadium                               3\n",
       "La Romareda                                            3\n",
       "Riazor                                                 3\n",
       "Estadio Municipal de Balaídos                          3\n",
       "Old Trafford Stadium                                   3\n",
       "Estadio Irapuato                                       3\n",
       "San Mames                                              3\n",
       "San Siro                                               3\n",
       "Sant Elia                                              3\n",
       "Sapporo Dome                                           3\n",
       "El Molinon                                             3\n",
       "Stade Olympique                                        3\n",
       "Sarria                                                 3\n",
       "Della Favorita                                         3\n",
       "Daejeon World Cup Stadium                              3\n",
       "Bombonera - Estadio Nemesio Diez                       3\n",
       "Niigata Stadium Big Swan                               3\n",
       "Oita Stadium Big Eye                                   3\n",
       "Nuevo Estadio                                          3\n",
       "Kashima Stadium                                        3\n",
       "Jose Zorrilla                                          3\n",
       "Jose Rico Perez                                        3\n",
       "Jose Amalfitani                                        3\n",
       "Jeonju World Cup Stadium                               3\n",
       "Jeju World Cup Stadium                                 3\n",
       "La Rosaleda                                            3\n",
       "Volksparkstadion                                       3\n",
       "Independencia                                          3\n",
       "Incheon Football Stadium                               3\n",
       "Villa Park                                             3\n",
       "Idrottsparken                                          3\n",
       "Vicente Calderon                                       3\n",
       "Luis Casanova                                          3\n",
       "Gwangju World Cup Stadium                              3\n",
       "Giovanni Berta                                         3\n",
       "Ayresome Park                                          3\n",
       "Miyagi Stadium                                         3\n",
       "Munsu Football Stadium                                 3\n",
       "Nazionale PNF                                          3\n",
       "Neza                                                   3\n",
       "Shizuoka Stadium Ecopa                                 3\n",
       "Seoul World Cup Stadium                                3\n",
       "Stadio Benito Mussolini                                2\n",
       "Arosvallen                                             2\n",
       "Benito Villamarin                                      2\n",
       "Ramon Sanchez Pizjuan                                  2\n",
       "Dacia Arena                                            2\n",
       "Jarnvallen                                             2\n",
       "Littorale                                              2\n",
       "Ryavallen                                              2\n",
       "Pocitos                                                2\n",
       "Orjans Vall                                            2\n",
       "Eucaliptos                                             2\n",
       "Durival de Brito                                       2\n",
       "Olympia Stadium                                        2\n",
       "Giorgio Ascarelli                                      2\n",
       "Velodrome Municipale                                   1\n",
       "Ilha do Retiro                                         1\n",
       "Victor Boucquey                                        1\n",
       "Littorio                                               1\n",
       "Eyravallen                                             1\n",
       "Friuli                                                 1\n",
       "Fort Carree                                            1\n",
       "Tunavallen                                             1\n",
       "Cavee Verte                                            1\n",
       "Rimnersvallen                                          1\n",
       "Stade de la Meinau                                     1\n",
       "Comunale di Cornaredo                                  1\n",
       "White City                                             1\n",
       "Name: Stadium, dtype: int64"
      ]
     },
     "metadata": {},
     "output_type": "display_data"
    },
    {
     "data": {
      "text/plain": [
       "Host\n",
       "Mexico                2\n",
       "Italy                 2\n",
       "Germany               2\n",
       "France                2\n",
       "Brazil                2\n",
       "Uruguay               1\n",
       "United States         1\n",
       "Switzerland           1\n",
       "Sweden                1\n",
       "Spain                 1\n",
       "South Africa          1\n",
       "Russia                1\n",
       "Japan, South Korea    1\n",
       "England               1\n",
       "Chile                 1\n",
       "Argentina             1\n",
       "Name: Host, dtype: int64"
      ]
     },
     "metadata": {},
     "output_type": "display_data"
    }
   ],
   "source": [
    "matchcount    = wc_attendance.index.unique().size\n",
    "\n",
    "#These have unique returns\n",
    "earliestyear  = wc_attendance.Year.min()\n",
    "latestyear    = wc_attendance.Year.max()\n",
    "\n",
    "#These may have ties\n",
    "with pd.option_context('display.max_rows', None, 'display.max_columns', None):\n",
    "    display(wc_attendance.groupby('City').City.agg('count').sort_values(ascending=False))\n",
    "    display(wc_attendance.groupby('Stadium').Stadium.agg('count').sort_values(ascending=False))\n",
    "    display(wc_hosts.groupby('Host').Host.agg('count').sort_values(ascending=False))"
   ]
  },
  {
   "cell_type": "code",
   "execution_count": 72,
   "metadata": {
    "colab": {
     "autoexec": {
      "startup": false,
      "wait_interval": 0
     }
    },
    "colab_type": "code",
    "id": "5vmHkPJISLUL"
   },
   "outputs": [
    {
     "name": "stdout",
     "output_type": "stream",
     "text": [
      "Results - Fast Facts (as of 2014)\n",
      "There have been a total of 836 matches played between 1930 and 2014.\n",
      "The country with the most FIFA cups played is Mexico, Italy, Germany, France, and Brazil (2), \n",
      "\tand the city with the most matches is Mexico City with a total of 23 matches played there.\n",
      "The stadium, Estadio Azteca, has hosted 19 of these matches, making it the stadium \n",
      "\twith the high count of FIFA matches.\n"
     ]
    }
   ],
   "source": [
    "highcountcity = wc_attendance.groupby('City').City.agg('count').max()\n",
    "highnamecity  = \"Mexico City\"\n",
    "\n",
    "highcountstdm = wc_attendance.groupby('Stadium').Stadium.agg('count').max()\n",
    "highnamestdm  = \"Estadio Azteca\"\n",
    "\n",
    "highcountcnty = wc_hosts.groupby('Host').Host.agg('count').max()\n",
    "highnamecnty  = \"Mexico, Italy, Germany, France, and Brazil\"\n",
    "\n",
    "\n",
    "results =\\\n",
    "\"There have been a total of \"+str(matchcount)+\" matches played between \"+\\\n",
    "str(earliestyear)+\" and \"+str(latestyear)+\".\" + \"\\nThe country with the most FIFA cups played is \"+\\\n",
    "highnamecnty+\" (\"+str(highcountcnty)+\"), \\n\\tand the city with the most matches is \"+(highnamecity)+\\\n",
    "\" with a total of \"+str(highcountcity)+\" matches played there.\\nThe stadium, \" +(highnamestdm)+\\\n",
    "\", has hosted \"+str(highcountstdm)+\" of these matches, making it the stadium \\n\\twith the high count of FIFA matches.\"\n",
    "print(\"Results - Fast Facts (as of 2014)\\n\"+ results)"
   ]
  },
  {
   "cell_type": "markdown",
   "metadata": {
    "colab_type": "text",
    "id": "jJe6f1PRA5iU"
   },
   "source": [
    "<h4 style='color:orange'>B. Graphs</h4>"
   ]
  },
  {
   "cell_type": "code",
   "execution_count": 73,
   "metadata": {
    "colab": {
     "autoexec": {
      "startup": false,
      "wait_interval": 0
     }
    },
    "colab_type": "code",
    "id": "eYbPVbt5A5iU"
   },
   "outputs": [
    {
     "data": {
      "image/png": "[encoded data removed]",
      "text/plain": [
       "<Figure size 720x432 with 1 Axes>"
      ]
     },
     "metadata": {},
     "output_type": "display_data"
    }
   ],
   "source": [
    "plt.plot(wc_attendance[['Year','Attendance']].groupby('Year').Attendance.agg('sum'),'-')\n",
    "plt.xlabel('Year')\n",
    "plt.ylabel('Attendance')\n",
    "plt.legend()\n",
    "plt.title('Attendance Over the Years')\n",
    "plt.show()"
   ]
  },
  {
   "cell_type": "code",
   "execution_count": 74,
   "metadata": {
    "colab": {
     "autoexec": {
      "startup": false,
      "wait_interval": 0
     }
    },
    "colab_type": "code",
    "id": "vwbSeUQ7A5iX"
   },
   "outputs": [],
   "source": [
    "val = wc_attendance[['Datetime','Attendance']]\n",
    "val['Day'] = val.Datetime.dt.weekday_name\n",
    "val1 = val.groupby('Day').Attendance.agg('sum')\n",
    "val2 = val.groupby('Day').Attendance.agg('median')\n",
    "val3 = val.groupby('Day').Attendance.agg('mean')\n",
    "val4 = val.groupby('Day').Day.agg('count')\n",
    "days = ['4','0','5','6','3','1','2']  #hardcoded\n",
    "val5=val1.index\n",
    "val6 = pd.DataFrame(list(zip(val1,val2,val3,val4,days)), index=val5, \n",
    "                    columns=['Sum','Median','Mean','Count','Day_Num'])\n",
    "val6.sort_values(by=\"Day_Num\",inplace=True)"
   ]
  },
  {
   "cell_type": "code",
   "execution_count": 75,
   "metadata": {
    "colab": {
     "autoexec": {
      "startup": false,
      "wait_interval": 0
     }
    },
    "colab_type": "code",
    "id": "cYcg811mA5iY"
   },
   "outputs": [
    {
     "name": "stdout",
     "output_type": "stream",
     "text": [
      "Stadium Attendance By Day\n"
     ]
    },
    {
     "data": {
      "text/html": [
       "<div>\n",
       "<style scoped>\n",
       "    .dataframe tbody tr th:only-of-type {\n",
       "        vertical-align: middle;\n",
       "    }\n",
       "\n",
       "    .dataframe tbody tr th {\n",
       "        vertical-align: top;\n",
       "    }\n",
       "\n",
       "    .dataframe thead th {\n",
       "        text-align: right;\n",
       "    }\n",
       "</style>\n",
       "<table border=\"1\" class=\"dataframe\">\n",
       "  <thead>\n",
       "    <tr style=\"text-align: right;\">\n",
       "      <th></th>\n",
       "      <th>Sum</th>\n",
       "      <th>Median</th>\n",
       "      <th>Mean</th>\n",
       "      <th>Count</th>\n",
       "      <th>Day_Num</th>\n",
       "    </tr>\n",
       "    <tr>\n",
       "      <th>Day</th>\n",
       "      <th></th>\n",
       "      <th></th>\n",
       "      <th></th>\n",
       "      <th></th>\n",
       "      <th></th>\n",
       "    </tr>\n",
       "  </thead>\n",
       "  <tbody>\n",
       "    <tr>\n",
       "      <th>Monday</th>\n",
       "      <td>3359701</td>\n",
       "      <td>43063.0</td>\n",
       "      <td>46023.301370</td>\n",
       "      <td>73</td>\n",
       "      <td>0</td>\n",
       "    </tr>\n",
       "    <tr>\n",
       "      <th>Tuesday</th>\n",
       "      <td>4945247</td>\n",
       "      <td>44132.0</td>\n",
       "      <td>45369.238532</td>\n",
       "      <td>109</td>\n",
       "      <td>1</td>\n",
       "    </tr>\n",
       "    <tr>\n",
       "      <th>Wednesday</th>\n",
       "      <td>6103487</td>\n",
       "      <td>40608.5</td>\n",
       "      <td>43596.335714</td>\n",
       "      <td>140</td>\n",
       "      <td>2</td>\n",
       "    </tr>\n",
       "    <tr>\n",
       "      <th>Thursday</th>\n",
       "      <td>4021551</td>\n",
       "      <td>35370.0</td>\n",
       "      <td>39044.184466</td>\n",
       "      <td>103</td>\n",
       "      <td>3</td>\n",
       "    </tr>\n",
       "    <tr>\n",
       "      <th>Friday</th>\n",
       "      <td>4009427</td>\n",
       "      <td>45356.5</td>\n",
       "      <td>47731.273810</td>\n",
       "      <td>84</td>\n",
       "      <td>4</td>\n",
       "    </tr>\n",
       "    <tr>\n",
       "      <th>Saturday</th>\n",
       "      <td>6744518</td>\n",
       "      <td>44616.5</td>\n",
       "      <td>48175.128571</td>\n",
       "      <td>140</td>\n",
       "      <td>5</td>\n",
       "    </tr>\n",
       "    <tr>\n",
       "      <th>Sunday</th>\n",
       "      <td>8316779</td>\n",
       "      <td>39747.0</td>\n",
       "      <td>44474.754011</td>\n",
       "      <td>187</td>\n",
       "      <td>6</td>\n",
       "    </tr>\n",
       "  </tbody>\n",
       "</table>\n",
       "</div>"
      ],
      "text/plain": [
       "               Sum   Median          Mean  Count Day_Num\n",
       "Day                                                     \n",
       "Monday     3359701  43063.0  46023.301370     73       0\n",
       "Tuesday    4945247  44132.0  45369.238532    109       1\n",
       "Wednesday  6103487  40608.5  43596.335714    140       2\n",
       "Thursday   4021551  35370.0  39044.184466    103       3\n",
       "Friday     4009427  45356.5  47731.273810     84       4\n",
       "Saturday   6744518  44616.5  48175.128571    140       5\n",
       "Sunday     8316779  39747.0  44474.754011    187       6"
      ]
     },
     "metadata": {},
     "output_type": "display_data"
    }
   ],
   "source": [
    "print(\"Stadium Attendance By Day\")\n",
    "display(val6)"
   ]
  },
  {
   "cell_type": "code",
   "execution_count": 76,
   "metadata": {
    "colab": {
     "autoexec": {
      "startup": false,
      "wait_interval": 0
     }
    },
    "colab_type": "code",
    "id": "YMa_xdYRA5ic"
   },
   "outputs": [
    {
     "name": "stdout",
     "output_type": "stream",
     "text": [
      "Attenance and Counts\n"
     ]
    },
    {
     "data": {
      "image/png": "[encoded data removed]",
      "text/plain": [
       "<Figure size 720x432 with 1 Axes>"
      ]
     },
     "metadata": {},
     "output_type": "display_data"
    },
    {
     "data": {
      "image/png": "[encoded data removed]",
      "text/plain": [
       "<Figure size 720x432 with 1 Axes>"
      ]
     },
     "metadata": {},
     "output_type": "display_data"
    },
    {
     "data": {
      "image/png": "[encoded data removed]",
      "text/plain": [
       "<Figure size 720x432 with 1 Axes>"
      ]
     },
     "metadata": {},
     "output_type": "display_data"
    },
    {
     "name": "stdout",
     "output_type": "stream",
     "text": [
      "Results - Interesting Findings (as of 2014)\n",
      "Although historical, Friday is not a popular day to host a match, the matches on Fridays are well attended.\n"
     ]
    }
   ],
   "source": [
    "print(\"Attenance and Counts\")\n",
    "\n",
    "plt.plot(val6['Day_Num'],val6['Sum'],'-')\n",
    "plt.ylabel('Total Attendance')\n",
    "plt.xlabel('Day of the Week')\n",
    "plt.title('Total Attendance by Day of the Week')\n",
    "plt.legend()\n",
    "plt.show()\n",
    "\n",
    "plt.plot(val6['Day_Num'],val6['Median'],':')\n",
    "plt.plot(val6['Day_Num'],val6['Mean'],'-')\n",
    "plt.ylabel('Attendance Mean and Median')\n",
    "plt.xlabel('Day of the Week')\n",
    "plt.title('Mean and Median Attendance by Day of the Week')\n",
    "plt.legend()\n",
    "plt.show()\n",
    "\n",
    "plt.plot(val6['Day_Num'],val6['Count'],'-')\n",
    "plt.ylabel('Number of Matches')\n",
    "plt.xlabel('Day of the Week')\n",
    "plt.title('Number of Matches by Day of the Week')\n",
    "\n",
    "plt.legend()\n",
    "plt.show()\n",
    "print(\"Results - Interesting Findings (as of 2014)\\n\\\n",
    "Although historical, Friday is not a popular day to host a match, \\\n",
    "the matches on Fridays are well attended.\")"
   ]
  },
  {
   "cell_type": "markdown",
   "metadata": {
    "colab_type": "text",
    "id": "wbzmbG25A5ie"
   },
   "source": [
    "<h4 style='color:orange'>C. Correlations</h4>\n",
    "#####  1. Observations of the Highest Three Matches"
   ]
  },
  {
   "cell_type": "code",
   "execution_count": 77,
   "metadata": {
    "colab": {
     "autoexec": {
      "startup": false,
      "wait_interval": 0
     }
    },
    "colab_type": "code",
    "id": "jV-ALS5IA5ie"
   },
   "outputs": [],
   "source": [
    "years= wc_attendance.Year.unique()\n",
    "wc_attendance_top3 = wc_attendance[0:0]\n",
    "for i in range(0,years.size):\n",
    "    year_int = int(years[i])\n",
    "    year_str = str(year_int)\n",
    "    bool_year = wc_attendance['Year']==year_int\n",
    "    top3_indices = pd.DataFrame(wc_attendance[bool_year].Attendance.nlargest(3)).index\n",
    "    top3_records = wc_attendance.loc[[top3_indices[0],top3_indices[1],top3_indices[2]]]\n",
    "    wc_attendance_top3=wc_attendance_top3.append(top3_records)"
   ]
  },
  {
   "cell_type": "code",
   "execution_count": 78,
   "metadata": {
    "colab": {
     "autoexec": {
      "startup": false,
      "wait_interval": 0
     }
    },
    "colab_type": "code",
    "id": "EAFp2dx0A5ii"
   },
   "outputs": [
    {
     "name": "stdout",
     "output_type": "stream",
     "text": [
      "Total Attendance Number Analysis\n"
     ]
    },
    {
     "data": {
      "text/html": [
       "<div>\n",
       "<style scoped>\n",
       "    .dataframe tbody tr th:only-of-type {\n",
       "        vertical-align: middle;\n",
       "    }\n",
       "\n",
       "    .dataframe tbody tr th {\n",
       "        vertical-align: top;\n",
       "    }\n",
       "\n",
       "    .dataframe thead th {\n",
       "        text-align: right;\n",
       "    }\n",
       "</style>\n",
       "<table border=\"1\" class=\"dataframe\">\n",
       "  <thead>\n",
       "    <tr style=\"text-align: right;\">\n",
       "      <th></th>\n",
       "      <th>Year</th>\n",
       "      <th>Attendance</th>\n",
       "    </tr>\n",
       "  </thead>\n",
       "  <tbody>\n",
       "    <tr>\n",
       "      <th>count</th>\n",
       "      <td>836.000000</td>\n",
       "      <td>836.000000</td>\n",
       "    </tr>\n",
       "    <tr>\n",
       "      <th>mean</th>\n",
       "      <td>1984.535885</td>\n",
       "      <td>44857.308612</td>\n",
       "    </tr>\n",
       "    <tr>\n",
       "      <th>std</th>\n",
       "      <td>22.299860</td>\n",
       "      <td>23537.083215</td>\n",
       "    </tr>\n",
       "    <tr>\n",
       "      <th>min</th>\n",
       "      <td>1930.000000</td>\n",
       "      <td>2000.000000</td>\n",
       "    </tr>\n",
       "    <tr>\n",
       "      <th>25%</th>\n",
       "      <td>1970.000000</td>\n",
       "      <td>29800.000000</td>\n",
       "    </tr>\n",
       "    <tr>\n",
       "      <th>50%</th>\n",
       "      <td>1990.000000</td>\n",
       "      <td>41061.500000</td>\n",
       "    </tr>\n",
       "    <tr>\n",
       "      <th>75%</th>\n",
       "      <td>2002.000000</td>\n",
       "      <td>60984.500000</td>\n",
       "    </tr>\n",
       "    <tr>\n",
       "      <th>max</th>\n",
       "      <td>2014.000000</td>\n",
       "      <td>173850.000000</td>\n",
       "    </tr>\n",
       "  </tbody>\n",
       "</table>\n",
       "</div>"
      ],
      "text/plain": [
       "              Year     Attendance\n",
       "count   836.000000     836.000000\n",
       "mean   1984.535885   44857.308612\n",
       "std      22.299860   23537.083215\n",
       "min    1930.000000    2000.000000\n",
       "25%    1970.000000   29800.000000\n",
       "50%    1990.000000   41061.500000\n",
       "75%    2002.000000   60984.500000\n",
       "max    2014.000000  173850.000000"
      ]
     },
     "metadata": {},
     "output_type": "display_data"
    },
    {
     "name": "stdout",
     "output_type": "stream",
     "text": [
      "Top Three Attendance Number Analysis\n"
     ]
    },
    {
     "data": {
      "text/html": [
       "<div>\n",
       "<style scoped>\n",
       "    .dataframe tbody tr th:only-of-type {\n",
       "        vertical-align: middle;\n",
       "    }\n",
       "\n",
       "    .dataframe tbody tr th {\n",
       "        vertical-align: top;\n",
       "    }\n",
       "\n",
       "    .dataframe thead th {\n",
       "        text-align: right;\n",
       "    }\n",
       "</style>\n",
       "<table border=\"1\" class=\"dataframe\">\n",
       "  <thead>\n",
       "    <tr style=\"text-align: right;\">\n",
       "      <th></th>\n",
       "      <th>Year</th>\n",
       "      <th>Attendance</th>\n",
       "    </tr>\n",
       "  </thead>\n",
       "  <tbody>\n",
       "    <tr>\n",
       "      <th>count</th>\n",
       "      <td>60.000000</td>\n",
       "      <td>60.000000</td>\n",
       "    </tr>\n",
       "    <tr>\n",
       "      <th>mean</th>\n",
       "      <td>1974.800000</td>\n",
       "      <td>80371.883333</td>\n",
       "    </tr>\n",
       "    <tr>\n",
       "      <th>std</th>\n",
       "      <td>25.145542</td>\n",
       "      <td>25812.390218</td>\n",
       "    </tr>\n",
       "    <tr>\n",
       "      <th>min</th>\n",
       "      <td>1930.000000</td>\n",
       "      <td>33000.000000</td>\n",
       "    </tr>\n",
       "    <tr>\n",
       "      <th>25%</th>\n",
       "      <td>1957.000000</td>\n",
       "      <td>68315.250000</td>\n",
       "    </tr>\n",
       "    <tr>\n",
       "      <th>50%</th>\n",
       "      <td>1976.000000</td>\n",
       "      <td>74751.500000</td>\n",
       "    </tr>\n",
       "    <tr>\n",
       "      <th>75%</th>\n",
       "      <td>1995.000000</td>\n",
       "      <td>93869.000000</td>\n",
       "    </tr>\n",
       "    <tr>\n",
       "      <th>max</th>\n",
       "      <td>2014.000000</td>\n",
       "      <td>173850.000000</td>\n",
       "    </tr>\n",
       "  </tbody>\n",
       "</table>\n",
       "</div>"
      ],
      "text/plain": [
       "              Year     Attendance\n",
       "count    60.000000      60.000000\n",
       "mean   1974.800000   80371.883333\n",
       "std      25.145542   25812.390218\n",
       "min    1930.000000   33000.000000\n",
       "25%    1957.000000   68315.250000\n",
       "50%    1976.000000   74751.500000\n",
       "75%    1995.000000   93869.000000\n",
       "max    2014.000000  173850.000000"
      ]
     },
     "metadata": {},
     "output_type": "display_data"
    },
    {
     "name": "stdout",
     "output_type": "stream",
     "text": [
      "Total Attendance Object Analysis\n"
     ]
    },
    {
     "data": {
      "text/html": [
       "<div>\n",
       "<style scoped>\n",
       "    .dataframe tbody tr th:only-of-type {\n",
       "        vertical-align: middle;\n",
       "    }\n",
       "\n",
       "    .dataframe tbody tr th {\n",
       "        vertical-align: top;\n",
       "    }\n",
       "\n",
       "    .dataframe thead th {\n",
       "        text-align: right;\n",
       "    }\n",
       "</style>\n",
       "<table border=\"1\" class=\"dataframe\">\n",
       "  <thead>\n",
       "    <tr style=\"text-align: right;\">\n",
       "      <th></th>\n",
       "      <th>Stage</th>\n",
       "      <th>Stadium</th>\n",
       "      <th>City</th>\n",
       "      <th>Home Team Initials</th>\n",
       "      <th>Away Team Initials</th>\n",
       "    </tr>\n",
       "  </thead>\n",
       "  <tbody>\n",
       "    <tr>\n",
       "      <th>count</th>\n",
       "      <td>836</td>\n",
       "      <td>836</td>\n",
       "      <td>836</td>\n",
       "      <td>836</td>\n",
       "      <td>836</td>\n",
       "    </tr>\n",
       "    <tr>\n",
       "      <th>unique</th>\n",
       "      <td>23</td>\n",
       "      <td>181</td>\n",
       "      <td>151</td>\n",
       "      <td>77</td>\n",
       "      <td>82</td>\n",
       "    </tr>\n",
       "    <tr>\n",
       "      <th>top</th>\n",
       "      <td>Round of 16</td>\n",
       "      <td>Estadio Azteca</td>\n",
       "      <td>Mexico City</td>\n",
       "      <td>BRA</td>\n",
       "      <td>MEX</td>\n",
       "    </tr>\n",
       "    <tr>\n",
       "      <th>freq</th>\n",
       "      <td>64</td>\n",
       "      <td>19</td>\n",
       "      <td>23</td>\n",
       "      <td>78</td>\n",
       "      <td>37</td>\n",
       "    </tr>\n",
       "  </tbody>\n",
       "</table>\n",
       "</div>"
      ],
      "text/plain": [
       "              Stage         Stadium          City Home Team Initials  \\\n",
       "count           836             836           836                836   \n",
       "unique           23             181           151                 77   \n",
       "top     Round of 16  Estadio Azteca  Mexico City                 BRA   \n",
       "freq             64              19            23                 78   \n",
       "\n",
       "       Away Team Initials  \n",
       "count                 836  \n",
       "unique                 82  \n",
       "top                   MEX  \n",
       "freq                   37  "
      ]
     },
     "metadata": {},
     "output_type": "display_data"
    },
    {
     "name": "stdout",
     "output_type": "stream",
     "text": [
      "Top Three Attendance Object Analysis\n"
     ]
    },
    {
     "data": {
      "text/html": [
       "<div>\n",
       "<style scoped>\n",
       "    .dataframe tbody tr th:only-of-type {\n",
       "        vertical-align: middle;\n",
       "    }\n",
       "\n",
       "    .dataframe tbody tr th {\n",
       "        vertical-align: top;\n",
       "    }\n",
       "\n",
       "    .dataframe thead th {\n",
       "        text-align: right;\n",
       "    }\n",
       "</style>\n",
       "<table border=\"1\" class=\"dataframe\">\n",
       "  <thead>\n",
       "    <tr style=\"text-align: right;\">\n",
       "      <th></th>\n",
       "      <th>Stage</th>\n",
       "      <th>Stadium</th>\n",
       "      <th>City</th>\n",
       "      <th>Home Team Initials</th>\n",
       "      <th>Away Team Initials</th>\n",
       "    </tr>\n",
       "  </thead>\n",
       "  <tbody>\n",
       "    <tr>\n",
       "      <th>count</th>\n",
       "      <td>60</td>\n",
       "      <td>60</td>\n",
       "      <td>60</td>\n",
       "      <td>60</td>\n",
       "      <td>60</td>\n",
       "    </tr>\n",
       "    <tr>\n",
       "      <th>unique</th>\n",
       "      <td>17</td>\n",
       "      <td>24</td>\n",
       "      <td>24</td>\n",
       "      <td>16</td>\n",
       "      <td>31</td>\n",
       "    </tr>\n",
       "    <tr>\n",
       "      <th>top</th>\n",
       "      <td>Final</td>\n",
       "      <td>Estadio Azteca</td>\n",
       "      <td>Rio De Janeiro</td>\n",
       "      <td>BRA</td>\n",
       "      <td>FRG</td>\n",
       "    </tr>\n",
       "    <tr>\n",
       "      <th>freq</th>\n",
       "      <td>14</td>\n",
       "      <td>6</td>\n",
       "      <td>6</td>\n",
       "      <td>12</td>\n",
       "      <td>6</td>\n",
       "    </tr>\n",
       "  </tbody>\n",
       "</table>\n",
       "</div>"
      ],
      "text/plain": [
       "        Stage         Stadium             City Home Team Initials  \\\n",
       "count      60              60               60                 60   \n",
       "unique     17              24               24                 16   \n",
       "top     Final  Estadio Azteca  Rio De Janeiro                 BRA   \n",
       "freq       14               6                6                 12   \n",
       "\n",
       "       Away Team Initials  \n",
       "count                  60  \n",
       "unique                 31  \n",
       "top                   FRG  \n",
       "freq                    6  "
      ]
     },
     "metadata": {},
     "output_type": "display_data"
    },
    {
     "name": "stdout",
     "output_type": "stream",
     "text": [
      "Results - Interesting Findings (as of 2014) \n",
      "Finals are highly attended matches, and so are matches with BRA or FRG playing. Mexico city has high attendance records.\n"
     ]
    }
   ],
   "source": [
    "print(\"Total Attendance Number Analysis\")\n",
    "display(wc_attendance.describe(include=[np.number]))\n",
    "print(\"Top Three Attendance Number Analysis\")\n",
    "display(wc_attendance_top3.describe(include=[np.number]))\n",
    "print(\"Total Attendance Object Analysis\")\n",
    "display(wc_attendance.describe(include=[np.object]))\n",
    "print(\"Top Three Attendance Object Analysis\")\n",
    "display(wc_attendance_top3.describe(include=[np.object]))\n",
    "print(\"Results - Interesting Findings (as of 2014) \\nFinals are \\\n",
    "highly attended matches, and so are matches with BRA or FRG playing. \\\n",
    "Mexico city has high attendance records.\")"
   ]
  },
  {
   "cell_type": "markdown",
   "metadata": {
    "colab_type": "text",
    "id": "eF5VshhhA5ik"
   },
   "source": [
    "#####  2. Can attendance in early stages of the cup alone be used to predict a winner? i.e. does the audience have a preference for the games of would be winners? \n",
    "\n",
    "Answer: No"
   ]
  },
  {
   "cell_type": "code",
   "execution_count": 79,
   "metadata": {
    "colab": {
     "autoexec": {
      "startup": false,
      "wait_interval": 0
     }
    },
    "colab_type": "code",
    "id": "mi6ew3PhA5ik"
   },
   "outputs": [],
   "source": [
    "def sum_attendance(Year):\n",
    "    WCYeargame = wc_attendance[wc_attendance['Year']==Year]\n",
    "    WCYeargame = WCYeargame[WCYeargame['Stage']!= 'Final']\n",
    "    s1= set(WCYeargame['Away Team Initials'])\n",
    "    s2= set(WCYeargame['Home Team Initials'])\n",
    "    s3= s1.union(s2)\n",
    "    game_sum_attendance = pd.DataFrame(columns=['Team Intials','Total_Sum'])\n",
    "    game_sum_attendance = game_sum_attendance['Total_Sum'].astype('int64')\n",
    "    for XXX in s3:\n",
    "        XXX_A_WCYeargame = WCYeargame[WCYeargame['Away Team Initials'] == XXX]\n",
    "        XXX_H_WCYeargame = WCYeargame[WCYeargame['Home Team Initials'] == XXX]\n",
    "        Total_Attendance = XXX_A_WCYeargame.Attendance.sum() + XXX_H_WCYeargame.Attendance.sum()\n",
    "        df = pd.DataFrame([[XXX, Total_Attendance]], columns=['Team Intials','Total_Sum'])\n",
    "        game_sum_attendance=game_sum_attendance.append(df, ignore_index=True) \n",
    "    return str(game_sum_attendance.loc[game_sum_attendance.Total_Sum.idxmax(),'Team Intials'])"
   ]
  },
  {
   "cell_type": "code",
   "execution_count": 80,
   "metadata": {
    "colab": {
     "autoexec": {
      "startup": false,
      "wait_interval": 0
     }
    },
    "colab_type": "code",
    "id": "nNM9rVq4SLUr"
   },
   "outputs": [],
   "source": [
    "years = [1998, 2010, 2002, 1994, 1986, 1990, 2014]\n",
    "bool_crit = wc_attendance['Stage']=='Round of 16'\n",
    "r16_attendance = wc_attendance[bool_crit]"
   ]
  },
  {
   "cell_type": "code",
   "execution_count": 81,
   "metadata": {
    "colab": {
     "autoexec": {
      "startup": false,
      "wait_interval": 0
     }
    },
    "colab_type": "code",
    "id": "SzUdq1I_SLUt"
   },
   "outputs": [
    {
     "name": "stdout",
     "output_type": "stream",
     "text": [
      "Consider seven cups:[1998, 2010, 2002, 1994, 1986, 1990, 2014]\n",
      "\n",
      "\n",
      "Year: 1998\tWinner:  France\n",
      "> Based on attendance before the final, the winner should be: FRA\n",
      "> Highest attendence in Round of 16 Stage is Match 8775\n",
      "Home Team Initials    NGA\n",
      "Away Team Initials    DEN\n",
      "Name: 8775, dtype: object\n",
      "\n",
      "\n",
      "Year: 2010\tWinner:  Spain\n",
      "> Based on attendance before the final, the winner should be: GER\n",
      "> Highest attendence in Round of 16 Stage is Match 300061502\n",
      "Home Team Initials    ARG\n",
      "Away Team Initials    MEX\n",
      "Name: 300061502, dtype: object\n",
      "\n",
      "\n",
      "Year: 2002\tWinner:  Brazil\n",
      "> Based on attendance before the final, the winner should be: KOR\n",
      "> Highest attendence in Round of 16 Stage is Match 43950055\n",
      "Home Team Initials    JPN\n",
      "Away Team Initials    TUR\n",
      "Name: 43950055, dtype: object\n",
      "\n",
      "\n",
      "Year: 1994\tWinner:  Brazil\n",
      "> Based on attendance before the final, the winner should be: SWE\n",
      "> Highest attendence in Round of 16 Stage is Match 3088\n",
      "Home Team Initials    ROU\n",
      "Away Team Initials    ARG\n",
      "Name: 3088, dtype: object\n",
      "\n",
      "\n",
      "Year: 1986\tWinner:  Argentina\n",
      "> Based on attendance before the final, the winner should be: MEX\n",
      "> Highest attendence in Round of 16 Stage is Match 463\n",
      "Home Team Initials    MEX\n",
      "Away Team Initials    BUL\n",
      "Name: 463, dtype: object\n",
      "\n",
      "\n",
      "Year: 1990\tWinner:  Germany\n",
      "> Based on attendance before the final, the winner should be: ITA\n",
      "> Highest attendence in Round of 16 Stage is Match 196\n",
      "Home Team Initials    FRG\n",
      "Away Team Initials    NED\n",
      "Name: 196, dtype: object\n",
      "\n",
      "\n",
      "Year: 2014\tWinner:  Germany\n",
      "> Based on attendance before the final, the winner should be: BRA\n",
      "> Highest attendence in Round of 16 Stage is Match 300186491\n",
      "Home Team Initials    COL\n",
      "Away Team Initials    URU\n",
      "Name: 300186491, dtype: object\n",
      "\n",
      "\n"
     ]
    }
   ],
   "source": [
    "print(\"Consider seven cups:\"+str(years)+\"\\n\\n\")\n",
    "for i in range(0,7):\n",
    "    year = years[i]\n",
    "    bool_year = r16_attendance['Year']==year\n",
    "    r16_foryear_attendance=r16_attendance[bool_year]\n",
    "    highestHT_index=r16_foryear_attendance.Attendance.idxmax()    \n",
    "    s= r16_foryear_attendance[['Home Team Initials','Away Team Initials']]\n",
    "    print(\"Year: \"+str(year) +\"\\tWinner: \"+ wc_hosts.loc[year,'Winner'])\n",
    "    highest = s.loc[r16_foryear_attendance.Attendance.idxmax()]\n",
    "    print(\"> Based on attendance before the final, the winner should be: \"+ str(sum_attendance(year)))\n",
    "    print(\"> Highest attendence in Round of 16 Stage is Match \"+ str(highestHT_index) +\"\\n\"+str(highest)+\"\\n\\n\")"
   ]
  },
  {
   "cell_type": "markdown",
   "metadata": {
    "colab_type": "text",
    "id": "Z5ChxJBnSLUw"
   },
   "source": [
    "<h5 style='color:gray'>END OF ATTENDANCE ANALYSIS</h5>\n",
    "***"
   ]
  },
  {
   "cell_type": "markdown",
   "metadata": {
    "colab_type": "text",
    "id": "0lwe9ylvSLUw"
   },
   "source": [
    "<h2 style='color:black'>Analysis: Matches</h2>\n",
    "<h3 style='color:black'>Description</h3>\n",
    "\n",
    "<b>A. Statistics and Graphs</b>\n",
    "1. Which team has played the most world cup matches?<br><br>\n",
    "\n",
    "2. Which team could be considered to be the best team?<br>\n",
    "    a.  Top 3 teams that have rank highly (1, 2, 3) in the the FIFA World Cup Tournament<br>\n",
    "    b.  Top 3 teams that have rank highly (1, 2, 3) in the the FIFA World Cup Tournament 1998 to 2014 (number of qualifying teams increased to 32 starting from 1998 World Cup) <br>\n",
    "    c.  Top 10 teams have achieved the most goals overall, and per match<br>\n",
    "\n",
    "<b>B. Analysis</b>\n",
    "3.  Which team can best turnaround the game i.e. which teams seem to be losing at half-time, but pull it together in the second half to become the winner of that match?<br>\n",
    "    a.  How many games can be marked as turnaround game<br>\n",
    "    b.  Which team get the most times to achieve turnaround<br>\n",
    "\n",
    "\n",
    "<b>C. Predicting Qualifying Teams</b><br>\n",
    "Statement on results\n",
    "***"
   ]
  },
  {
   "cell_type": "markdown",
   "metadata": {
    "colab_type": "text",
    "id": "dF55YS5AA5hp"
   },
   "source": [
    "<h4 style='color:orange'>A. Statistics and Graphs</h4>"
   ]
  },
  {
   "cell_type": "markdown",
   "metadata": {
    "colab_type": "text",
    "id": "XxdCMlz4A5hp"
   },
   "source": [
    "##### 1. Team Participation in the World Cup\n",
    "\n",
    "Which team has attended the highest number of World Cup games?"
   ]
  },
  {
   "cell_type": "code",
   "execution_count": 82,
   "metadata": {
    "colab": {
     "autoexec": {
      "startup": false,
      "wait_interval": 0
     }
    },
    "colab_type": "code",
    "id": "XW8QIHLOA5hq"
   },
   "outputs": [],
   "source": [
    "# Add the Home Team and Away Team as the Teams, then drop the duplicate, get the final particpated teams of every World Cup.\n",
    "column_update = ['Year', 'Team']\n",
    "df_home_teams = world_cup_matches[['Year', 'Home Team Name']]\n",
    "df_home_teams.columns = column_update\n",
    "df_away_teams = world_cup_matches[['Year', 'Away Team Name']]\n",
    "df_away_teams.columns = column_update\n",
    "df_parcipated_teams = pd.concat([df_home_teams,df_away_teams], ignore_index=True)  \n",
    "df_parcipated_teams.drop_duplicates(subset=None, keep='first', inplace=True)\n",
    "#df_parcipated_teams.head(20)"
   ]
  },
  {
   "cell_type": "code",
   "execution_count": 83,
   "metadata": {
    "colab": {
     "autoexec": {
      "startup": false,
      "wait_interval": 0
     }
    },
    "colab_type": "code",
    "id": "ZXSjE-vHA5ht"
   },
   "outputs": [
    {
     "data": {
      "text/plain": [
       "<matplotlib.axes._subplots.AxesSubplot at 0x114870dd8>"
      ]
     },
     "execution_count": 83,
     "metadata": {},
     "output_type": "execute_result"
    },
    {
     "data": {
      "image/png": "[encoded data removed]",
      "text/plain": [
       "<Figure size 1296x576 with 1 Axes>"
      ]
     },
     "metadata": {},
     "output_type": "display_data"
    }
   ],
   "source": [
    "df_parcipated_teams_times = df_parcipated_teams['Team'].value_counts()\n",
    "df_parcipated_teams_times.plot.bar(yticks = pd.Series([0,5,10,15,20]), figsize = (18, 8), grid = True, title=\"Team Participation in FIFA World Cup Matches\")"
   ]
  },
  {
   "cell_type": "code",
   "execution_count": 84,
   "metadata": {
    "colab": {
     "autoexec": {
      "startup": false,
      "wait_interval": 0
     }
    },
    "colab_type": "code",
    "id": "O9jxl8tMA5hw"
   },
   "outputs": [
    {
     "data": {
      "text/plain": [
       "<matplotlib.axes._subplots.AxesSubplot at 0x10e8db208>"
      ]
     },
     "execution_count": 84,
     "metadata": {},
     "output_type": "execute_result"
    },
    {
     "data": {
      "image/png": "[encoded data removed]",
      "text/plain": [
       "<Figure size 1296x576 with 1 Axes>"
      ]
     },
     "metadata": {},
     "output_type": "display_data"
    }
   ],
   "source": [
    "df_parcipated_teams_times.head(10).plot.bar(yticks = pd.Series([0,5,10,15,20]), figsize = (18, 8), title = 'Top 10 Teams - Team Participation in FIFA World Cup Matches.')"
   ]
  },
  {
   "cell_type": "markdown",
   "metadata": {
    "colab_type": "text",
    "id": "M8T4UuI9A5hy"
   },
   "source": [
    "From above picture, Brazil, Italy, Germany, Agentina are the top teams who attended the most times."
   ]
  },
  {
   "cell_type": "markdown",
   "metadata": {
    "colab_type": "text",
    "id": "HfAJibeDA5hy"
   },
   "source": [
    "##### 2. Which Team Could Be Considered The Best?\n",
    "<b>2a. Team Placement in the FIFA World Cups - Overall</b>"
   ]
  },
  {
   "cell_type": "code",
   "execution_count": 85,
   "metadata": {
    "colab": {
     "autoexec": {
      "startup": false,
      "wait_interval": 0
     }
    },
    "colab_type": "code",
    "id": "ZBk8LVouA5hz"
   },
   "outputs": [
    {
     "data": {
      "text/plain": [
       "<matplotlib.axes._subplots.AxesSubplot at 0x11478cfd0>"
      ]
     },
     "execution_count": 85,
     "metadata": {},
     "output_type": "execute_result"
    },
    {
     "data": {
      "image/png": "[encoded data removed]",
      "text/plain": [
       "<Figure size 1080x504 with 1 Axes>"
      ]
     },
     "metadata": {},
     "output_type": "display_data"
    }
   ],
   "source": [
    "winner = world_cup[\"Winner\"] # Selecting all the Winners of previous World Cups\n",
    "runner_up = world_cup[\"Runners-Up\"] # Selecting the Runner Up of previous World Cups\n",
    "third_place = world_cup[\"Third\"] # Selecting the Third Place Holder of previous World Cups\n",
    "\n",
    "number_winner = pd.DataFrame(winner.value_counts()) # Counting the Winners and putting them in a dataframe\n",
    "number_second = pd.DataFrame(runner_up.value_counts()) # Counting the Runner Ups and putting them in a dataframe\n",
    "number_third = pd.DataFrame(third_place.value_counts()) # Counting the Third Place Holders and putting them in a dataframe\n",
    "\n",
    "# Join Winner, Runners and Third Place Holders to Top Teams\n",
    "top_teams = number_winner.join(number_second, how='outer').join(number_third, how='outer') \n",
    "\n",
    "top_teams = top_teams.sort_values(by=['Winner', 'Runners-Up', 'Third'], ascending=False) # Sorting them\n",
    "\n",
    "top_teams.plot(kind=\"bar\", title = 'Top Team FIFA World Cup Placement - 1930 to 2014', fontsize=13, figsize=(15, 7),  width=0.7) # Plotting the graph"
   ]
  },
  {
   "cell_type": "markdown",
   "metadata": {
    "colab_type": "text",
    "id": "poW-IQt2A5h8"
   },
   "source": [
    "<b>2b. Team Placement for World Cups - 1998 to 2014 (number of qualifying teams increased to 32 starting from 1998 World Cup)</b>"
   ]
  },
  {
   "cell_type": "code",
   "execution_count": 86,
   "metadata": {
    "colab": {
     "autoexec": {
      "startup": false,
      "wait_interval": 0
     }
    },
    "colab_type": "code",
    "id": "BAr89-kSA5h8"
   },
   "outputs": [
    {
     "data": {
      "text/plain": [
       "<matplotlib.axes._subplots.AxesSubplot at 0x1149a7ef0>"
      ]
     },
     "execution_count": 86,
     "metadata": {},
     "output_type": "execute_result"
    },
    {
     "data": {
      "image/png": "[encoded data removed]",
      "text/plain": [
       "<Figure size 1080x504 with 1 Axes>"
      ]
     },
     "metadata": {},
     "output_type": "display_data"
    }
   ],
   "source": [
    "world32 = world_cup.loc[world_cup['Year'].isin([1998, 2002, 2006, 2010, 2014])] # Selecting only last 5 World Cups\n",
    "\n",
    "winner = world32[\"Winner\"] # Selecting all the Winners of previous World Cups\n",
    "runner_up = world32[\"Runners-Up\"] # Selecting the Runner Up of previous World Cups\n",
    "third_place = world32[\"Third\"] # Selecting the Third Place Holder of previous World Cups\n",
    "\n",
    "number_winner = pd.DataFrame(winner.value_counts()) # Counting the Winners and putting them in a dataframe\n",
    "number_second = pd.DataFrame(runner_up.value_counts()) # Counting the Runner Ups and putting them in a dataframe\n",
    "number_third = pd.DataFrame(third_place.value_counts()) # Counting the Third Place Holders and putting them in a dataframe\n",
    "\n",
    "# Top Teams 1st, 2nd, and 3rd Place Holders\n",
    "top_teams_subset = number_winner.join(number_second, how='outer').join(number_third, how='outer') \n",
    "top_teams_subset = top_teams_subset.sort_values(by=['Winner', 'Runners-Up', 'Third'], ascending=False) # Sorting them\n",
    "top_teams_subset.plot(kind=\"bar\", title = 'Top 3 Teams FIFA World Cup Placement - 1998 to 2014', fontsize=13, figsize=(15, 7),  width=0.7) # Plotting the graph"
   ]
  },
  {
   "cell_type": "markdown",
   "metadata": {
    "colab_type": "text",
    "id": "JQKZIM6ZA5h0"
   },
   "source": [
    "<b>2c. Which Teams Achieved The Most Goals, Overall and per Match?</b>"
   ]
  },
  {
   "cell_type": "code",
   "execution_count": 87,
   "metadata": {
    "colab": {
     "autoexec": {
      "startup": false,
      "wait_interval": 0
     }
    },
    "colab_type": "code",
    "id": "lz8vpBGwA5h1"
   },
   "outputs": [],
   "source": [
    "column_update = ['Team', 'Goals']\n",
    "df_home_goals = world_cup_matches[['Home Team Name', 'Home Team Goals']]# Selecting all home team goals\n",
    "df_home_goals.columns = column_update\n",
    "df_away_goals = world_cup_matches[['Away Team Name', 'Away Team Goals']]# Selecting all away team goals\n",
    "df_away_goals.columns = column_update\n",
    "\n",
    "# Combine the the goals of each country - including both as home and away team\n",
    "df_goals = pd.concat([df_home_goals,df_away_goals], ignore_index=True) "
   ]
  },
  {
   "cell_type": "code",
   "execution_count": 88,
   "metadata": {
    "colab": {
     "autoexec": {
      "startup": false,
      "wait_interval": 0
     }
    },
    "colab_type": "code",
    "id": "2tJ7CUexA5h4"
   },
   "outputs": [
    {
     "data": {
      "text/plain": [
       "<matplotlib.axes._subplots.AxesSubplot at 0x1154f5198>"
      ]
     },
     "execution_count": 88,
     "metadata": {},
     "output_type": "execute_result"
    },
    {
     "data": {
      "image/png": "[encoded data removed]",
      "text/plain": [
       "<Figure size 720x720 with 1 Axes>"
      ]
     },
     "metadata": {},
     "output_type": "display_data"
    }
   ],
   "source": [
    "s_goals = df_goals.groupby('Team')['Goals'].sum().sort_values(ascending=False) # Grouping and sorting the values\n",
    "\n",
    "# Select the top 20 countries in terms of goals and sorting them\n",
    "s_percentage = s_goals/s_goals.sum()\n",
    "s_percentage.sort_values(ascending=False, inplace=True)\n",
    "s_percentage.head(20).plot(kind='pie', figsize=(10,10), autopct='%.1f%%', \n",
    "                           startangle=173, title='Top 20 - Teams Which Scored the Most Total Goals in FIFA World Cup Matches', label='')"
   ]
  },
  {
   "cell_type": "code",
   "execution_count": 89,
   "metadata": {
    "colab": {
     "autoexec": {
      "startup": false,
      "wait_interval": 0
     }
    },
    "colab_type": "code",
    "id": "-tKzSxN_A5h7"
   },
   "outputs": [
    {
     "data": {
      "text/plain": [
       "<matplotlib.axes._subplots.AxesSubplot at 0x1a161205c0>"
      ]
     },
     "execution_count": 89,
     "metadata": {},
     "output_type": "execute_result"
    },
    {
     "data": {
      "image/png": "[encoded data removed]",
      "text/plain": [
       "<Figure size 864x432 with 1 Axes>"
      ]
     },
     "metadata": {},
     "output_type": "display_data"
    }
   ],
   "source": [
    "s_score = df_goals.groupby('Team')['Goals'].mean()  # Get the sum of all goals\n",
    "s_score.sort_values(ascending=False, inplace=True)\n",
    "s_score\n",
    "s_score.head(10).plot(kind='bar', figsize=(12,6), title='Top 10 - Teams That Scored the Most Goals per Game in FIFA World Cup Matches')"
   ]
  },
  {
   "cell_type": "markdown",
   "metadata": {
    "colab_type": "text",
    "id": "lLsiS6lmA5h_"
   },
   "source": [
    "<h4 style='color:orange'>B. Analysis</h4>\n",
    "##### 1. Teams That Can Turn Around A Game </h3>\n",
    "<i>Which teams seem to be losing at half-time, but pull it together in the second half to become the winner of that match?<i/>"
   ]
  },
  {
   "cell_type": "code",
   "execution_count": 90,
   "metadata": {
    "colab": {
     "autoexec": {
      "startup": false,
      "wait_interval": 0
     }
    },
    "colab_type": "code",
    "id": "VSYga8F_A5h_"
   },
   "outputs": [],
   "source": [
    "# The method to get the winners\n",
    "def find_win_team(df):\n",
    "    reverser = []\n",
    "    for i, row in df.iterrows():\n",
    "        if row['Half-time Home Goals'] < row['Half-time Away Goals'] and row['Home Team Goals'] > row['Away Team Goals']:\n",
    "            reverser.append(row['Home Team Name'])\n",
    "        elif row['Half-time Home Goals'] > row['Half-time Away Goals'] and row['Home Team Goals'] < row['Away Team Goals']:\n",
    "            reverser.append(row['Away Team Name'])\n",
    "        else:\n",
    "            reverser.append('Null')\n",
    "    return reverser\n",
    "\n",
    "world_cup_matches['Reverser'] = find_win_team(world_cup_matches)\n",
    "#df_matches.head()"
   ]
  },
  {
   "cell_type": "code",
   "execution_count": 91,
   "metadata": {
    "colab": {
     "autoexec": {
      "startup": false,
      "wait_interval": 0
     }
    },
    "colab_type": "code",
    "id": "RVdcNwFhA5iB"
   },
   "outputs": [
    {
     "name": "stdout",
     "output_type": "stream",
     "text": [
      "There are 38 games of this type in the history of FIFA.\n"
     ]
    }
   ],
   "source": [
    "# There are 38 times, the games can marked as the turnaround game.\n",
    "reverser = world_cup_matches.groupby('Reverser')['Reverser'].count()\n",
    "reverser.sort_values(ascending=False, inplace=True)\n",
    "reverser.drop(labels=['Null'], inplace=True)\n",
    "print(\"There are \"+str(reverser.sum()) + \" games of this type in the history of FIFA.\")"
   ]
  },
  {
   "cell_type": "code",
   "execution_count": 92,
   "metadata": {
    "colab": {
     "autoexec": {
      "startup": false,
      "wait_interval": 0
     }
    },
    "colab_type": "code",
    "id": "BfvoyClSA5iH"
   },
   "outputs": [
    {
     "data": {
      "text/plain": [
       "<matplotlib.axes._subplots.AxesSubplot at 0x1a16190a90>"
      ]
     },
     "execution_count": 92,
     "metadata": {},
     "output_type": "execute_result"
    },
    {
     "data": {
      "image/png": "[encoded data removed]",
      "text/plain": [
       "<Figure size 720x432 with 1 Axes>"
      ]
     },
     "metadata": {},
     "output_type": "display_data"
    }
   ],
   "source": [
    "reverser.head(5).plot(kind='bar', figsize=(10,6), title='Top 5 Teams That Can Turn Around A Game')"
   ]
  },
  {
   "cell_type": "markdown",
   "metadata": {
    "colab_type": "text",
    "id": "eB-tdwYTSLVT"
   },
   "source": [
    "<h4 style='color:orange'>C. Predict Qualifying Teams</h4>\n",
    "The results of 2a, 2b, and 2c can be used to predict the what teams can qualify for the 2018 FIFA World Cup."
   ]
  },
  {
   "cell_type": "code",
   "execution_count": 93,
   "metadata": {
    "colab": {
     "autoexec": {
      "startup": false,
      "wait_interval": 0
     }
    },
    "colab_type": "code",
    "id": "s0NPorp5SLVU"
   },
   "outputs": [
    {
     "name": "stdout",
     "output_type": "stream",
     "text": [
      "___BEST-EFFORT PREDICTIVE LIST___\n",
      "A predictive list of 14 teams could be:\n",
      "\n",
      "Argentina. Brazil. Cuba. Denmark. England. France. Germany. Hungary. Italy. Netherlands. Portugal. Spain. Turkey. Uruguay. "
     ]
    }
   ],
   "source": [
    "set2a   = set(top_teams.head(3).index.values)\n",
    "set2b   = set(top_teams_subset.head(3).index.values)\n",
    "set2ci  = set(s_percentage.head(10).index.values)\n",
    "set2cii = set(s_score.head(10).index.values)\n",
    "\n",
    "qual_p = sorted(set2a.union(set2b).union(set2ci).union(set2cii))\n",
    "print(\"___BEST-EFFORT PREDICTIVE LIST___\")\n",
    "print(\"A predictive list of \"+str(len(qual_p))+\" teams could be:\\n\")\n",
    "for item in qual_p : \n",
    "    print (item, end='. ') "
   ]
  },
  {
   "cell_type": "code",
   "execution_count": 94,
   "metadata": {
    "colab": {
     "autoexec": {
      "startup": false,
      "wait_interval": 0
     }
    },
    "colab_type": "code",
    "id": "HrDdVfFxSLVW"
   },
   "outputs": [
    {
     "name": "stdout",
     "output_type": "stream",
     "text": [
      "___WHAT COULD A FULL LIST LOOK LIKE?___\n",
      "\n",
      "A predictive list of 32 teams could be:\n",
      "\n",
      "Argentina. Austria. Belgium. Bosnia and Herzegovina. Brazil. Chile. Colombia. Cuba. Czechoslovakia. Côte d’Ivoire . Denmark. England. France. Germany. Hungary. Italy. Korea Republic. Mexico. Netherlands. Paraguay. Poland. Portugal. Romania. Russia. Senegal. Spain. Sweden. Switzerland. Turkey. USA. Uruguay. Yugoslavia. \n",
      "\n",
      "\n",
      "Newly Added To List:\n",
      "\n",
      "{'Belgium', 'Czechoslovakia', 'Yugoslavia', 'Sweden', 'Senegal', 'Colombia', 'Chile', 'Côte d’Ivoire ', 'Paraguay', 'Korea Republic', 'USA', 'Russia', 'Austria', 'Switzerland', 'Bosnia and Herzegovina', 'Romania', 'Mexico', 'Poland'}\n"
     ]
    }
   ],
   "source": [
    "print(\"___WHAT COULD A FULL LIST LOOK LIKE?___\")\n",
    "full_set2a   = set(top_teams.head(5).index.values)\n",
    "full_set2b   = set(top_teams_subset.head(5).index.values)\n",
    "full_set2ci  = set(s_percentage.head(25).index.values)\n",
    "full_set2cii = set(s_score.head(25).index.values)\n",
    "full_qual_p  = sorted(full_set2a.union(full_set2b).union(full_set2ci).union(full_set2cii))\n",
    "print(\"\\nA predictive list of \"+str(len(full_qual_p))+\" teams could be:\\n\")\n",
    "for item in full_qual_p : \n",
    "    print (item, end='. ')\n",
    "    \n",
    "print(\"\\n\\n\\nNewly Added To List:\\n\\n\"+str(set(full_qual_p).difference(set(qual_p))))"
   ]
  },
  {
   "cell_type": "markdown",
   "metadata": {
    "colab_type": "text",
    "id": "SKMNHYevSLVY"
   },
   "source": [
    "<h5 style='color:gray'>END OF MATCH ANALYSIS</h5>\n",
    "***"
   ]
  },
  {
   "cell_type": "markdown",
   "metadata": {
    "colab_type": "text",
    "id": "VBgvvs6fA5im"
   },
   "source": [
    "<h2 style='color:black'>Analysis: Predicting the Winner of World Cup </h2>  \n",
    "<h3 style='color:black'> Description </h3>\n",
    "\n",
    "<b>A. Statistics: 2018 Participants Quick Facts</b>\n",
    "1. Qualifying Teams Prediction Performance\n",
    "2. Teams Participating in the 2018 FIFA World Cup That are First-time Participants\n",
    "3. Teams Participating in the 2018 FIFA World Cup That Have Never Won A Match\n",
    "4. Teams Participating in the 2018 FIFA World Cup That Are Not First-time Participants, and Have Never Won a Match\n",
    "5. Top 20 Match Winners Amongst the Teams Participating in the 2018 FIFA World Cup\n",
    "\n",
    "<b>B. Prediction: Predicting the Outcome of Matches </b>\n",
    "1. Set Up the Framework for Prediction Analysis<br>\n",
    "    a. Calculate the ratio of the goals scored (GS) vs goals against (GA)<br>\n",
    "    b. Use Poisson distribution to simulate the result of a match<br><br>\n",
    "    \n",
    "2. Predict Qualification Teams<br>\n",
    "    a. Set Up Framework<br>\n",
    "    b. Calculate Qualification Rate<br><br>\n",
    "    \n",
    "3. Determine Outcome of the matches at each elimination stage<br>\n",
    "    a. Qualification Rate for Group A<br>\n",
    "    b. Qualification Rate for Group B - Group H<br>\n",
    "    c. Predict Quarter, Semis, Finals, and Cup Winner<br>\n",
    "\n",
    "***"
   ]
  },
  {
   "cell_type": "markdown",
   "metadata": {
    "colab_type": "text",
    "id": "2FtQr2tTA5ip"
   },
   "source": [
    "<h4 style='color:orange'>A. Statistics: 2018 Partipants Quick Facts </h4>"
   ]
  },
  {
   "cell_type": "markdown",
   "metadata": {
    "colab_type": "text",
    "id": "reV22qE4A5im"
   },
   "source": [
    "##### For the 2018 FIFA Cup, there are 32 teams\n",
    "    Group A：Russia, Egypt, Saudi Arabia,Uruguay\n",
    "    Group B: Morocco, Spain, Portugal, Iran\n",
    "    Group C: France, Australia, Peru, Denmark\n",
    "    Group D: Argentina, Iceland, Croatia, Nigeria\n",
    "    Group E: Brazil, Costa Rica, Serbia, Switzerland\n",
    "    Group F: Germany, Mexico, Sweden, Korea Republic\n",
    "    Group G: Belgium, Panama, Tunisia, England\n",
    "    Group H: Poland, Senegal, Colombia, Japan"
   ]
  },
  {
   "cell_type": "code",
   "execution_count": 95,
   "metadata": {
    "colab": {
     "autoexec": {
      "startup": false,
      "wait_interval": 0
     }
    },
    "colab_type": "code",
    "id": "q6AL8ESBA5in"
   },
   "outputs": [],
   "source": [
    "# Create team_list\n",
    "team_list = ['Russia','Egypt','Saudi Arabia','Uruguay', \n",
    "             'Morocco','Spain','Portugal','Iran',\n",
    "             'France','Australia','Peru','Denmark',\n",
    "             'Argentina','Iceland', 'Croatia','Nigeria',\n",
    "             'Brazil','Costa Rica','Serbia','Switzerland',\n",
    "             'Germany','Mexico','Sweden', 'Korea Republic',\n",
    "             'Belgium','Panama','Tunisia','England',\n",
    "             'Poland','Senegal','Colombia','Japan']\n",
    "df_team_32 = world_cup_matches[(world_cup_matches['Home Team Name'].isin(team_list))&(world_cup_matches['Away Team Name'].isin(team_list))]"
   ]
  },
  {
   "cell_type": "markdown",
   "metadata": {
    "colab_type": "text",
    "id": "f7RU9WP3SLVa"
   },
   "source": [
    "##### 1. Qualifying Teams Prediction Performance"
   ]
  },
  {
   "cell_type": "code",
   "execution_count": 96,
   "metadata": {
    "colab": {
     "autoexec": {
      "startup": false,
      "wait_interval": 0
     }
    },
    "colab_type": "code",
    "id": "_f9nuAbbSLVb"
   },
   "outputs": [
    {
     "name": "stdout",
     "output_type": "stream",
     "text": [
      "___HOW DID THE FULL-LIST PREDICTIONS PERFORM?___\n",
      "\n",
      "Teams that qualified in 2018, that were NOT PREDICTED [14]:  \n",
      "{'Japan', 'Costa Rica', 'Egypt', 'Croatia', 'Serbia', 'Iran', 'Nigeria', 'Iceland', 'Peru', 'Tunisia', 'Morocco', 'Australia', 'Saudi Arabia', 'Panama'}\n",
      "\n",
      "\n",
      "Teams that were predicted to qualify, that DID NOT QUALIFY [14]: \n",
      "{'Yugoslavia', 'Hungary', 'Cuba', 'Turkey', 'Chile', 'Netherlands', 'Côte d’Ivoire ', 'Paraguay', 'USA', 'Czechoslovakia', 'Austria', 'Bosnia and Herzegovina', 'Italy', 'Romania'}\n",
      "\n",
      "\n",
      "Teams that were predicted to qualify and DID QUALIFY [18]: \n",
      "{'Belgium', 'Germany', 'Uruguay', 'Denmark', 'Sweden', 'Senegal', 'Colombia', 'England', 'Portugal', 'Argentina', 'Brazil', 'Korea Republic', 'Spain', 'Russia', 'Switzerland', 'France', 'Mexico', 'Poland'}\n"
     ]
    }
   ],
   "source": [
    "print(\"___HOW DID THE FULL-LIST PREDICTIONS PERFORM?___\\n\")\n",
    "realqual_p  = set(team_list)\n",
    "full_qual_p = set(full_qual_p)\n",
    "print(\"Teams that qualified in 2018, that were NOT PREDICTED [\"+str(len(realqual_p.difference(full_qual_p)))+\"]:  \\n\" + str(realqual_p.difference(full_qual_p)))\n",
    "print(\"\\n\\nTeams that were predicted to qualify, that DID NOT QUALIFY [\"+str(len(full_qual_p.difference(realqual_p)))+\"]: \\n\" + str(full_qual_p.difference(realqual_p)))\n",
    "print(\"\\n\\nTeams that were predicted to qualify and DID QUALIFY [\"+str(len(full_qual_p.intersection(realqual_p)))+\"]: \\n\" + str(full_qual_p.intersection(realqual_p)))"
   ]
  },
  {
   "cell_type": "markdown",
   "metadata": {
    "colab_type": "text",
    "id": "KYjR6vasSLVd"
   },
   "source": [
    "##### 2. Teams Participating in the 2018 FIFA World Cup That are First-time Participants"
   ]
  },
  {
   "cell_type": "code",
   "execution_count": 97,
   "metadata": {
    "colab": {
     "autoexec": {
      "startup": false,
      "wait_interval": 0
     }
    },
    "colab_type": "code",
    "id": "GxOBHwcfA5ip"
   },
   "outputs": [
    {
     "name": "stdout",
     "output_type": "stream",
     "text": [
      "Teams entering the 2018 FIFA World Cup Tournament for the first time：\n",
      "\tIceland\n",
      "\tPanama\n"
     ]
    }
   ],
   "source": [
    "def first_time_to_FIFA(df, team_list):\n",
    "    first_times = []\n",
    "    for team in team_list:\n",
    "        if df_team_32[df_team_32['Home Team Name']==team]['Home Team Name'].count() == 0 and df_team_32[df_team_32['Away Team Name']==team]['Away Team Name'].count() == 0:\n",
    "               first_times.append(team)        \n",
    "    return first_times\n",
    "\n",
    "first_times = first_time_to_FIFA(world_cup_matches, team_list)\n",
    "print (\"Teams entering the 2018 FIFA World Cup Tournament for the first time：\")\n",
    "for item in first_times : \n",
    "    print (\"\\t\"+item) "
   ]
  },
  {
   "cell_type": "markdown",
   "metadata": {
    "colab_type": "text",
    "id": "0gtjSU8tA5ir"
   },
   "source": [
    "##### 3/4. Teams Participating in the 2018 FIFA World Cup That Have Never Won A Match & First Time Playing"
   ]
  },
  {
   "cell_type": "code",
   "execution_count": 98,
   "metadata": {
    "colab": {
     "autoexec": {
      "startup": false,
      "wait_interval": 0
     }
    },
    "colab_type": "code",
    "id": "NoSefOijA5is"
   },
   "outputs": [],
   "source": [
    "# List of Winners\n",
    "def find_win_team(df):\n",
    "    winners = []\n",
    "    for i, row in df.iterrows():\n",
    "        if row['Home Team Goals'] > row['Away Team Goals']:\n",
    "            winners.append(row['Home Team Name'])\n",
    "        elif row['Home Team Goals'] < row['Away Team Goals']:\n",
    "            winners.append(row['Away Team Name'])\n",
    "        else:\n",
    "            winners.append('Draw')\n",
    "    return winners\n",
    "\n",
    "#Never Won A Match\n",
    "def never_won_FIFA(df, team_list):\n",
    "    no_win = []\n",
    "    for team in team_list:\n",
    "         if df[df['Winner']==team]['Winner'].count() == 0:\n",
    "               no_win.append(team)     \n",
    "    return no_win"
   ]
  },
  {
   "cell_type": "code",
   "execution_count": 99,
   "metadata": {
    "colab": {
     "autoexec": {
      "startup": false,
      "wait_interval": 0
     }
    },
    "colab_type": "code",
    "id": "kvHlnEKyA5iw"
   },
   "outputs": [],
   "source": [
    "df_team_32['Winner'] = find_win_team(df_team_32)\n",
    "never_won = never_won_FIFA(df_team_32, team_list)"
   ]
  },
  {
   "cell_type": "code",
   "execution_count": 100,
   "metadata": {
    "colab": {
     "autoexec": {
      "startup": false,
      "wait_interval": 0
     }
    },
    "colab_type": "code",
    "id": "3Rtkrr64SLVk"
   },
   "outputs": [
    {
     "name": "stdout",
     "output_type": "stream",
     "text": [
      "Teams participating in the 2018 who have never won a match:\n",
      "\tEgypt\n",
      "\tIran\n",
      "\tIceland\n",
      "\tPanama\n",
      "\n",
      "Teams participating in the 2018 who have never won a match, and it's not their first time playing :\n",
      "\tEgypt\n",
      "\tIran\n"
     ]
    }
   ],
   "source": [
    "print (\"Teams participating in the 2018 who have never won a match:\")\n",
    "for item in never_won :\n",
    "    print (\"\\t\"+item) \n",
    "\n",
    "print (\"\\nTeams participating in the 2018 who have never won a match, and it's not their first time playing :\")\n",
    "for item in never_won : \n",
    "    if item not in first_times:\n",
    "        print (\"\\t\"+item) "
   ]
  },
  {
   "cell_type": "markdown",
   "metadata": {
    "colab_type": "text",
    "id": "WgK5XcGyA5iy"
   },
   "source": [
    "##### 5. Top 20 Match Winners Amongst the Teams Participating in the 2018 FIFA World Cup"
   ]
  },
  {
   "cell_type": "code",
   "execution_count": 101,
   "metadata": {
    "colab": {
     "autoexec": {
      "startup": false,
      "wait_interval": 0
     }
    },
    "colab_type": "code",
    "id": "6z1bijCSA5iz"
   },
   "outputs": [
    {
     "data": {
      "text/plain": [
       "<matplotlib.axes._subplots.AxesSubplot at 0x1152c84a8>"
      ]
     },
     "execution_count": 101,
     "metadata": {},
     "output_type": "execute_result"
    },
    {
     "data": {
      "image/png": "[encoded data removed]",
      "text/plain": [
       "<Figure size 720x720 with 1 Axes>"
      ]
     },
     "metadata": {},
     "output_type": "display_data"
    }
   ],
   "source": [
    "s_32 = df_team_32.groupby('Winner')['Winner'].count()\n",
    "s_32.sort_values(ascending=False, inplace=True)\n",
    "s_32.drop(labels=['Draw'], inplace=True)\n",
    "s_32.sort_values(ascending=True,inplace=True)\n",
    "\n",
    "s_percentage = s_32/s_32.sum()\n",
    "s_percentage\n",
    "s_percentage.tail(20).plot(kind='pie', figsize=(10,10), autopct='%.1f%%', \n",
    "                           startangle=173, title='Top 20 Match Winners Amongst the Teams Particpating in the 2018 FIFA World Cup', label='')"
   ]
  },
  {
   "cell_type": "markdown",
   "metadata": {
    "colab_type": "text",
    "id": "-kMXfngvA5jf"
   },
   "source": [
    "<h4 style='color:orange'>B. Prediction: Predicting the Outcomes of Matches</h4>"
   ]
  },
  {
   "cell_type": "markdown",
   "metadata": {
    "colab_type": "text",
    "id": "ge4z-L6vSLVo"
   },
   "source": [
    "##### 1. Set Up the Framework for Prediction Analysis\n",
    "##### 1a. Calculate the ratio of the goals scored (GS) vs goals against (GA)"
   ]
  },
  {
   "cell_type": "code",
   "execution_count": 102,
   "metadata": {
    "colab": {
     "autoexec": {
      "startup": false,
      "wait_interval": 0
     }
    },
    "colab_type": "code",
    "id": "wMYE7JLLA5jf"
   },
   "outputs": [],
   "source": [
    "column_update = ['Team', 'GS', 'GA']\n",
    "df_score_home_32 = df_team_32[['Home Team Name', 'Home Team Goals', 'Away Team Goals']]\n",
    "df_score_home_32.columns = column_update\n",
    "df_score_away_32 = df_team_32[['Away Team Name', 'Away Team Goals', 'Home Team Goals']]\n",
    "df_score_away_32.columns = column_update\n",
    "df_32_scores = pd.concat([df_score_home_32,df_score_away_32], ignore_index=True)"
   ]
  },
  {
   "cell_type": "code",
   "execution_count": 103,
   "metadata": {
    "colab": {
     "autoexec": {
      "startup": false,
      "wait_interval": 0
     }
    },
    "colab_type": "code",
    "id": "nCHMqt9bA5jh"
   },
   "outputs": [
    {
     "data": {
      "text/html": [
       "<div>\n",
       "<style scoped>\n",
       "    .dataframe tbody tr th:only-of-type {\n",
       "        vertical-align: middle;\n",
       "    }\n",
       "\n",
       "    .dataframe tbody tr th {\n",
       "        vertical-align: top;\n",
       "    }\n",
       "\n",
       "    .dataframe thead th {\n",
       "        text-align: right;\n",
       "    }\n",
       "</style>\n",
       "<table border=\"1\" class=\"dataframe\">\n",
       "  <thead>\n",
       "    <tr style=\"text-align: right;\">\n",
       "      <th></th>\n",
       "      <th>GS</th>\n",
       "      <th>GA</th>\n",
       "      <th>Mean_GS</th>\n",
       "      <th>Mean_GA</th>\n",
       "    </tr>\n",
       "    <tr>\n",
       "      <th>Team</th>\n",
       "      <th></th>\n",
       "      <th></th>\n",
       "      <th></th>\n",
       "      <th></th>\n",
       "    </tr>\n",
       "  </thead>\n",
       "  <tbody>\n",
       "    <tr>\n",
       "      <th>Argentina</th>\n",
       "      <td>71</td>\n",
       "      <td>50</td>\n",
       "      <td>1.577778</td>\n",
       "      <td>1.111111</td>\n",
       "    </tr>\n",
       "    <tr>\n",
       "      <th>Australia</th>\n",
       "      <td>7</td>\n",
       "      <td>18</td>\n",
       "      <td>0.875000</td>\n",
       "      <td>2.250000</td>\n",
       "    </tr>\n",
       "    <tr>\n",
       "      <th>Belgium</th>\n",
       "      <td>37</td>\n",
       "      <td>52</td>\n",
       "      <td>1.275862</td>\n",
       "      <td>1.793103</td>\n",
       "    </tr>\n",
       "    <tr>\n",
       "      <th>Brazil</th>\n",
       "      <td>122</td>\n",
       "      <td>57</td>\n",
       "      <td>2.218182</td>\n",
       "      <td>1.036364</td>\n",
       "    </tr>\n",
       "    <tr>\n",
       "      <th>Colombia</th>\n",
       "      <td>16</td>\n",
       "      <td>12</td>\n",
       "      <td>1.777778</td>\n",
       "      <td>1.333333</td>\n",
       "    </tr>\n",
       "    <tr>\n",
       "      <th>...</th>\n",
       "      <td>...</td>\n",
       "      <td>...</td>\n",
       "      <td>...</td>\n",
       "      <td>...</td>\n",
       "    </tr>\n",
       "    <tr>\n",
       "      <th>Spain</th>\n",
       "      <td>45</td>\n",
       "      <td>37</td>\n",
       "      <td>1.406250</td>\n",
       "      <td>1.156250</td>\n",
       "    </tr>\n",
       "    <tr>\n",
       "      <th>Sweden</th>\n",
       "      <td>45</td>\n",
       "      <td>49</td>\n",
       "      <td>1.607143</td>\n",
       "      <td>1.750000</td>\n",
       "    </tr>\n",
       "    <tr>\n",
       "      <th>Switzerland</th>\n",
       "      <td>16</td>\n",
       "      <td>30</td>\n",
       "      <td>1.000000</td>\n",
       "      <td>1.875000</td>\n",
       "    </tr>\n",
       "    <tr>\n",
       "      <th>Tunisia</th>\n",
       "      <td>7</td>\n",
       "      <td>15</td>\n",
       "      <td>0.700000</td>\n",
       "      <td>1.500000</td>\n",
       "    </tr>\n",
       "    <tr>\n",
       "      <th>Uruguay</th>\n",
       "      <td>39</td>\n",
       "      <td>51</td>\n",
       "      <td>1.181818</td>\n",
       "      <td>1.545455</td>\n",
       "    </tr>\n",
       "  </tbody>\n",
       "</table>\n",
       "<p>30 rows × 4 columns</p>\n",
       "</div>"
      ],
      "text/plain": [
       "              GS  GA   Mean_GS   Mean_GA\n",
       "Team                                    \n",
       "Argentina     71  50  1.577778  1.111111\n",
       "Australia      7  18  0.875000  2.250000\n",
       "Belgium       37  52  1.275862  1.793103\n",
       "Brazil       122  57  2.218182  1.036364\n",
       "Colombia      16  12  1.777778  1.333333\n",
       "...          ...  ..       ...       ...\n",
       "Spain         45  37  1.406250  1.156250\n",
       "Sweden        45  49  1.607143  1.750000\n",
       "Switzerland   16  30  1.000000  1.875000\n",
       "Tunisia        7  15  0.700000  1.500000\n",
       "Uruguay       39  51  1.181818  1.545455\n",
       "\n",
       "[30 rows x 4 columns]"
      ]
     },
     "execution_count": 103,
     "metadata": {},
     "output_type": "execute_result"
    }
   ],
   "source": [
    "# Sum of Goals Scored and Goals Against\n",
    "s_32_scores = df_32_scores.groupby('Team')['GS', 'GA'].sum() \n",
    "s_32_scores['Mean_GS'] = df_32_scores.groupby('Team')['GS'].mean()\n",
    "s_32_scores['Mean_GA'] = df_32_scores.groupby('Team')['GA'].mean()\n",
    "s_32_scores"
   ]
  },
  {
   "cell_type": "code",
   "execution_count": 104,
   "metadata": {
    "colab": {
     "autoexec": {
      "startup": false,
      "wait_interval": 0
     }
    },
    "colab_type": "code",
    "id": "hKXNDCsZA5jl"
   },
   "outputs": [
    {
     "data": {
      "text/html": [
       "<div>\n",
       "<style scoped>\n",
       "    .dataframe tbody tr th:only-of-type {\n",
       "        vertical-align: middle;\n",
       "    }\n",
       "\n",
       "    .dataframe tbody tr th {\n",
       "        vertical-align: top;\n",
       "    }\n",
       "\n",
       "    .dataframe thead th {\n",
       "        text-align: right;\n",
       "    }\n",
       "</style>\n",
       "<table border=\"1\" class=\"dataframe\">\n",
       "  <thead>\n",
       "    <tr style=\"text-align: right;\">\n",
       "      <th></th>\n",
       "      <th>GS</th>\n",
       "      <th>GA</th>\n",
       "      <th>Mean_GS</th>\n",
       "      <th>Mean_GA</th>\n",
       "    </tr>\n",
       "    <tr>\n",
       "      <th>Team</th>\n",
       "      <th></th>\n",
       "      <th></th>\n",
       "      <th></th>\n",
       "      <th></th>\n",
       "    </tr>\n",
       "  </thead>\n",
       "  <tbody>\n",
       "    <tr>\n",
       "      <th>Argentina</th>\n",
       "      <td>71</td>\n",
       "      <td>50</td>\n",
       "      <td>1.577778</td>\n",
       "      <td>1.111111</td>\n",
       "    </tr>\n",
       "    <tr>\n",
       "      <th>Australia</th>\n",
       "      <td>7</td>\n",
       "      <td>18</td>\n",
       "      <td>0.875000</td>\n",
       "      <td>2.250000</td>\n",
       "    </tr>\n",
       "    <tr>\n",
       "      <th>Belgium</th>\n",
       "      <td>37</td>\n",
       "      <td>52</td>\n",
       "      <td>1.275862</td>\n",
       "      <td>1.793103</td>\n",
       "    </tr>\n",
       "    <tr>\n",
       "      <th>Brazil</th>\n",
       "      <td>122</td>\n",
       "      <td>57</td>\n",
       "      <td>2.218182</td>\n",
       "      <td>1.036364</td>\n",
       "    </tr>\n",
       "    <tr>\n",
       "      <th>Colombia</th>\n",
       "      <td>16</td>\n",
       "      <td>12</td>\n",
       "      <td>1.777778</td>\n",
       "      <td>1.333333</td>\n",
       "    </tr>\n",
       "    <tr>\n",
       "      <th>...</th>\n",
       "      <td>...</td>\n",
       "      <td>...</td>\n",
       "      <td>...</td>\n",
       "      <td>...</td>\n",
       "    </tr>\n",
       "    <tr>\n",
       "      <th>Switzerland</th>\n",
       "      <td>16</td>\n",
       "      <td>30</td>\n",
       "      <td>1.000000</td>\n",
       "      <td>1.875000</td>\n",
       "    </tr>\n",
       "    <tr>\n",
       "      <th>Tunisia</th>\n",
       "      <td>7</td>\n",
       "      <td>15</td>\n",
       "      <td>0.700000</td>\n",
       "      <td>1.500000</td>\n",
       "    </tr>\n",
       "    <tr>\n",
       "      <th>Uruguay</th>\n",
       "      <td>39</td>\n",
       "      <td>51</td>\n",
       "      <td>1.181818</td>\n",
       "      <td>1.545455</td>\n",
       "    </tr>\n",
       "    <tr>\n",
       "      <th>Iceland</th>\n",
       "      <td>0</td>\n",
       "      <td>0</td>\n",
       "      <td>0.000000</td>\n",
       "      <td>0.000000</td>\n",
       "    </tr>\n",
       "    <tr>\n",
       "      <th>Panama</th>\n",
       "      <td>0</td>\n",
       "      <td>0</td>\n",
       "      <td>0.000000</td>\n",
       "      <td>0.000000</td>\n",
       "    </tr>\n",
       "  </tbody>\n",
       "</table>\n",
       "<p>32 rows × 4 columns</p>\n",
       "</div>"
      ],
      "text/plain": [
       "              GS  GA   Mean_GS   Mean_GA\n",
       "Team                                    \n",
       "Argentina     71  50  1.577778  1.111111\n",
       "Australia      7  18  0.875000  2.250000\n",
       "Belgium       37  52  1.275862  1.793103\n",
       "Brazil       122  57  2.218182  1.036364\n",
       "Colombia      16  12  1.777778  1.333333\n",
       "...          ...  ..       ...       ...\n",
       "Switzerland   16  30  1.000000  1.875000\n",
       "Tunisia        7  15  0.700000  1.500000\n",
       "Uruguay       39  51  1.181818  1.545455\n",
       "Iceland        0   0  0.000000  0.000000\n",
       "Panama         0   0  0.000000  0.000000\n",
       "\n",
       "[32 rows x 4 columns]"
      ]
     },
     "execution_count": 104,
     "metadata": {},
     "output_type": "execute_result"
    }
   ],
   "source": [
    "data_new = {'GS':[0,0],\n",
    "           'GA':[0,0],\n",
    "           'Mean_GS':[0,0],\n",
    "           'Mean_GA':[0,0]}\n",
    "s_32_news = pd.DataFrame(data_new, columns = ['GS', 'GA', 'Mean_GS', 'Mean_GA'], index = ['Iceland','Panama'])\n",
    "s_32_scores = pd.concat([s_32_scores,s_32_news])\n",
    "s_32_scores.index.name = 'Team'\n",
    "s_32_scores"
   ]
  },
  {
   "cell_type": "markdown",
   "metadata": {
    "colab_type": "text",
    "id": "mMQM8Kv8A5jm"
   },
   "source": [
    "#### 1b. Use Poisson distribution to simulate the result of a match"
   ]
  },
  {
   "cell_type": "code",
   "execution_count": 105,
   "metadata": {
    "colab": {
     "autoexec": {
      "startup": false,
      "wait_interval": 0
     }
    },
    "colab_type": "code",
    "id": "viWr5_atA5jm"
   },
   "outputs": [],
   "source": [
    "# Random number for every match\n",
    "# More times, less random the factors are \n",
    "n_sim = 5\n",
    "\n",
    "def simulate_match(team_A, team_B, knockout=False):\n",
    "    \"\"\"simulates one match and returns the goals of the home teams and away teams\"\"\"\n",
    "    # Get the propratily of the goals\n",
    "    home_scoring_strength = (s_32_scores.loc[team_A, 'Mean_GS'] + s_32_scores.loc[team_B, 'Mean_GA']) / 2\n",
    "    away_scoring_strength = (s_32_scores.loc[team_A, 'Mean_GA'] + s_32_scores.loc[team_B, 'Mean_GS']) / 2\n",
    "    # simulate n matches\n",
    "    fs_A = sp.stats.mode(poisson.rvs(home_scoring_strength, size=n_sim))[0][0]\n",
    "    fs_B = sp.stats.mode(poisson.rvs(away_scoring_strength, size=n_sim))[0][0]\n",
    "    # print(team_A, fs_A, team_B, fs_B)\n",
    "    \n",
    "    # Knockout Promotion probability 50%：50%\n",
    "    if knockout:\n",
    "        if fs_A == fs_B:\n",
    "            return [team_A, team_B][sp.random.randint(0, 2)]\n",
    "        elif fs_A > fs_B:\n",
    "            return team_A\n",
    "        else:\n",
    "            return team_B\n",
    "    return fs_A, fs_B"
   ]
  },
  {
   "cell_type": "code",
   "execution_count": 106,
   "metadata": {
    "colab": {
     "autoexec": {
      "startup": false,
      "wait_interval": 0
     }
    },
    "colab_type": "code",
    "id": "s6kh4mhyA5jm"
   },
   "outputs": [
    {
     "data": {
      "text/plain": [
       "'France'"
      ]
     },
     "execution_count": 106,
     "metadata": {},
     "output_type": "execute_result"
    }
   ],
   "source": [
    "# Example with Knockout = True , if specified.\n",
    "simulate_match('Australia', 'France', True)"
   ]
  },
  {
   "cell_type": "code",
   "execution_count": 107,
   "metadata": {
    "colab": {
     "autoexec": {
      "startup": false,
      "wait_interval": 0
     }
    },
    "colab_type": "code",
    "id": "1hjK_t-qA5jo"
   },
   "outputs": [
    {
     "data": {
      "text/plain": [
       "(1, 2)"
      ]
     },
     "execution_count": 107,
     "metadata": {},
     "output_type": "execute_result"
    }
   ],
   "source": [
    "# Example with Knockout = False (default behaviour) to determine the scores.\n",
    "simulate_match('Australia', 'France')"
   ]
  },
  {
   "cell_type": "markdown",
   "metadata": {
    "colab_type": "text",
    "id": "MiGMU5WeA5jq"
   },
   "source": [
    "##### 2. Simulate X times, at the Group Stage to Predict Qualified Teams\n",
    "##### 2a. Set Up Framework"
   ]
  },
  {
   "cell_type": "code",
   "execution_count": 108,
   "metadata": {
    "colab": {
     "autoexec": {
      "startup": false,
      "wait_interval": 0
     }
    },
    "colab_type": "code",
    "id": "Uvr27kxMA5jr"
   },
   "outputs": [],
   "source": [
    "## GS（goals scored），GA （goals against），GD（goals difference）。P（points），GP（Games Played）\n",
    "class Group:\n",
    "    \"\"\"Simulate the stage 1\"\"\"\n",
    "    def __init__(self, group_teams, group_name, fixture):\n",
    "        self.group_teams = group_teams\n",
    "        self.group_name = group_name\n",
    "        self.table = pd.DataFrame(0,columns=['Team','GP', 'P', 'GS', 'GA', 'GD'], index=self.group_teams)\n",
    "        self.fixture = fixture\n",
    "        self.result = None\n",
    "        self.qualifiedTeams = []        \n",
    "    def play(self):\n",
    "        result = []\n",
    "        for [team_A, team_B] in self.fixture:\n",
    "            fs_A, fs_B = simulate_match(team_A, team_B)\n",
    "            self.table.loc[team_A, 'GP'] += 1\n",
    "            self.table.loc[team_B, 'GP'] += 1\n",
    "            self.table.loc[team_A, 'GS'] += fs_A\n",
    "            self.table.loc[team_B, 'GS'] += fs_B\n",
    "            self.table.loc[team_A, 'GA'] += fs_B\n",
    "            self.table.loc[team_B, 'GA'] += fs_A\n",
    "            if fs_A > fs_B:\n",
    "                self.table.loc[team_A, 'P'] += 3\n",
    "            elif fs_A == fs_B:\n",
    "                self.table.loc[team_A, 'P'] += 1\n",
    "                self.table.loc[team_B, 'P'] += 1\n",
    "            elif fs_A < fs_B:\n",
    "                self.table.loc[team_B, 'P'] += 1\n",
    "            else:\n",
    "                raise ValueError('Simulation is error！')\n",
    "            result.append([team_A, team_B, fs_A, fs_B])\n",
    "        self.result = pd.DataFrame(result, columns=['Home Team Name', 'Away Team Name', 'Home Team Goals', 'Away Team Goals'])\n",
    "        self.table['GD'] = self.table['GS'] - self.table['GA']\n",
    "        self.table['Team'] = self.group_teams                                     \n",
    "        self.table.sort_values(by=['P', 'GD', 'GS'], \n",
    "                               ascending=[False, False, False], inplace=True)    \n",
    "        self.qualifiedTeams.append(self.table.iat[0,0]) \n",
    "        self.qualifiedTeams.append(self.table.iat[1,0]) "
   ]
  },
  {
   "cell_type": "markdown",
   "metadata": {
    "colab_type": "text",
    "id": "Hb2LUfM6A5jt"
   },
   "source": [
    "#### 2b. Calculate Qualification Rate"
   ]
  },
  {
   "cell_type": "code",
   "execution_count": 109,
   "metadata": {
    "colab": {
     "autoexec": {
      "startup": false,
      "wait_interval": 0
     }
    },
    "colab_type": "code",
    "id": "5x05COn-A5jt"
   },
   "outputs": [],
   "source": [
    "def calculate_qualified_rate(df, times, group_teams, group_name, fixture):\n",
    "    obj = pd.Series([0,0,0,0], index = group_teams) \n",
    "    count = 0\n",
    "    while (count < times):\n",
    "       group_test = Group(group_teams,group_name,fixture)   \n",
    "       group_test.play()\n",
    "       tmp = group_test.qualifiedTeams[0]\n",
    "       obj[tmp] =   obj[tmp] + 1\n",
    "       tmp = group_test.qualifiedTeams[1]\n",
    "       obj[tmp] =   obj[tmp] + 1\n",
    "       count += 1\n",
    "    \n",
    "    ## Assign the data to dataframe\n",
    "    df['StageName'] = group_name\n",
    "    df['SimulateTimes'] = times\n",
    "    df['QualifiedTeam'] = obj.index.tolist()\n",
    "    df['WinTimes'] = obj.tolist()\n",
    "    df['QualifiedRate'] = df['WinTimes']/df['SimulateTimes']\n",
    "    return obj"
   ]
  },
  {
   "cell_type": "code",
   "execution_count": 110,
   "metadata": {
    "colab": {
     "autoexec": {
      "startup": false,
      "wait_interval": 0
     }
    },
    "colab_type": "code",
    "id": "FVd5C2uwA5jv"
   },
   "outputs": [],
   "source": [
    "def drawQualificationRate(df):       \n",
    "    df.set_index(df['QualifiedTeam'], inplace= True)\n",
    "    ymajorFormatter = FormatStrFormatter('%1.1f') \n",
    "    yminorLocator   = MultipleLocator(0.1) \n",
    "    plt.ylim(0.0, 1.0)        \n",
    "    df['QualifiedRate'].plot(kind='bar', figsize=(8,4),grid = True)   "
   ]
  },
  {
   "cell_type": "code",
   "execution_count": 111,
   "metadata": {
    "colab": {
     "autoexec": {
      "startup": false,
      "wait_interval": 0
     }
    },
    "colab_type": "code",
    "id": "mDDRlIzrA5jv"
   },
   "outputs": [],
   "source": [
    "data = {'StageName':['GroupA', 'GroupA', 'GroupA', 'GroupA'],\n",
    "        'SimulateTimes':[0, 0, 0, 0]}\n",
    "qualificationRate = pd.DataFrame(columns= ['StageName', 'SimulateTimes', 'QualifiedTeam', 'WinTimes', 'QualifiedRate'])\n",
    "simulat_times = 100"
   ]
  },
  {
   "cell_type": "code",
   "execution_count": 112,
   "metadata": {
    "colab": {
     "autoexec": {
      "startup": false,
      "wait_interval": 0
     }
    },
    "colab_type": "code",
    "id": "Rx9tDR_dA5j9"
   },
   "outputs": [],
   "source": [
    "#Simulate Knockout Rounds\n",
    "## Win（Wins），Lost （Losses），GP（Games Played）\n",
    "class Knockout:\n",
    "    \"\"\"Simulate the Elimination\"\"\"\n",
    "    def __init__(self, group_teams, group_name, fixture, times):\n",
    "        self.group_teams = group_teams\n",
    "        self.group_name = group_name\n",
    "        self.table = pd.DataFrame(0,columns=['GP', 'Win', 'Lost'], index=self.group_teams)\n",
    "        self.fixture = fixture\n",
    "        self.simulate_times = times\n",
    "   \n",
    "    def play(self):\n",
    "        result = []\n",
    "        count = 0\n",
    "        while(count < self.simulate_times):\n",
    "            for [team_A, team_B] in self.fixture:\n",
    "                win_Team = simulate_match(team_A, team_B, True)\n",
    "                self.table.loc[team_A, 'GP'] += 1\n",
    "                self.table.loc[team_B, 'GP'] += 1\n",
    "                if team_A == win_Team:\n",
    "                    self.table.loc[team_A, 'Win'] += 1\n",
    "                    self.table.loc[team_B, 'Lost'] += 1\n",
    "                elif team_B == win_Team:\n",
    "                    self.table.loc[team_B, 'Win'] += 1\n",
    "                    self.table.loc[team_A, 'Lost'] += 1\n",
    "                else:\n",
    "                    raise ValueError('Simulation is error！')            \n",
    "            count = count + 1\n",
    "\n",
    "        self.table.index.name = 'Team'"
   ]
  },
  {
   "cell_type": "markdown",
   "metadata": {
    "colab_type": "text",
    "id": "-WBVKFjSA5jx"
   },
   "source": [
    "##### 3a. Qualification Rate for Group A"
   ]
  },
  {
   "cell_type": "code",
   "execution_count": 113,
   "metadata": {
    "colab": {
     "autoexec": {
      "startup": false,
      "wait_interval": 0
     }
    },
    "colab_type": "code",
    "id": "i8gt72EeA5js"
   },
   "outputs": [
    {
     "data": {
      "text/html": [
       "<div>\n",
       "<style scoped>\n",
       "    .dataframe tbody tr th:only-of-type {\n",
       "        vertical-align: middle;\n",
       "    }\n",
       "\n",
       "    .dataframe tbody tr th {\n",
       "        vertical-align: top;\n",
       "    }\n",
       "\n",
       "    .dataframe thead th {\n",
       "        text-align: right;\n",
       "    }\n",
       "</style>\n",
       "<table border=\"1\" class=\"dataframe\">\n",
       "  <thead>\n",
       "    <tr style=\"text-align: right;\">\n",
       "      <th></th>\n",
       "      <th>Team</th>\n",
       "      <th>GP</th>\n",
       "      <th>P</th>\n",
       "      <th>GS</th>\n",
       "      <th>GA</th>\n",
       "      <th>GD</th>\n",
       "    </tr>\n",
       "  </thead>\n",
       "  <tbody>\n",
       "    <tr>\n",
       "      <th>Russia</th>\n",
       "      <td>Russia</td>\n",
       "      <td>3</td>\n",
       "      <td>9</td>\n",
       "      <td>7</td>\n",
       "      <td>1</td>\n",
       "      <td>6</td>\n",
       "    </tr>\n",
       "    <tr>\n",
       "      <th>Uruguay</th>\n",
       "      <td>Uruguay</td>\n",
       "      <td>3</td>\n",
       "      <td>2</td>\n",
       "      <td>3</td>\n",
       "      <td>5</td>\n",
       "      <td>-2</td>\n",
       "    </tr>\n",
       "    <tr>\n",
       "      <th>Saudi Arabia</th>\n",
       "      <td>Saudi Arabia</td>\n",
       "      <td>3</td>\n",
       "      <td>2</td>\n",
       "      <td>2</td>\n",
       "      <td>4</td>\n",
       "      <td>-2</td>\n",
       "    </tr>\n",
       "    <tr>\n",
       "      <th>Egypt</th>\n",
       "      <td>Egypt</td>\n",
       "      <td>3</td>\n",
       "      <td>1</td>\n",
       "      <td>1</td>\n",
       "      <td>3</td>\n",
       "      <td>-2</td>\n",
       "    </tr>\n",
       "  </tbody>\n",
       "</table>\n",
       "</div>"
      ],
      "text/plain": [
       "                      Team  GP  P  GS  GA  GD\n",
       "Russia              Russia   3  9   7   1   6\n",
       "Uruguay            Uruguay   3  2   3   5  -2\n",
       "Saudi Arabia  Saudi Arabia   3  2   2   4  -2\n",
       "Egypt                Egypt   3  1   1   3  -2"
      ]
     },
     "execution_count": 113,
     "metadata": {},
     "output_type": "execute_result"
    }
   ],
   "source": [
    "#Group A：Russia, Egypt, Saudi Arabia, Uruguay\n",
    "fixture_A = [['Russia', 'Saudi Arabia'], \n",
    "             ['Egypt', 'Uruguay'], \n",
    "             ['Russia', 'Egypt'], \n",
    "             ['Uruguay', 'Saudi Arabia'], \n",
    "             ['Saudi Arabia', 'Egypt'], \n",
    "             ['Russia', 'Uruguay']]\n",
    "group_A = ['Russia', 'Egypt', 'Saudi Arabia', 'Uruguay']\n",
    "\n",
    "group_a = Group(group_A,'Group A',fixture_A)\n",
    "\n",
    "group_a.play()\n",
    "group_a.table"
   ]
  },
  {
   "cell_type": "code",
   "execution_count": 114,
   "metadata": {
    "colab": {
     "autoexec": {
      "startup": false,
      "wait_interval": 0
     }
    },
    "colab_type": "code",
    "id": "_2mPTcDZA5jz"
   },
   "outputs": [],
   "source": [
    "qualificationRateA = pd.DataFrame(data, columns= ['StageName', 'SimulateTimes', 'QualifiedTeam', 'WinTimes', 'QualifiedRate'])\n",
    "obj = calculate_qualified_rate(qualificationRateA,simulat_times, group_A,'Group A',fixture_A)"
   ]
  },
  {
   "cell_type": "code",
   "execution_count": 115,
   "metadata": {
    "colab": {
     "autoexec": {
      "startup": false,
      "wait_interval": 0
     }
    },
    "colab_type": "code",
    "id": "8PtGxwlfA5j0"
   },
   "outputs": [
    {
     "data": {
      "image/png": "[encoded data removed]",
      "text/plain": [
       "<Figure size 576x288 with 1 Axes>"
      ]
     },
     "metadata": {},
     "output_type": "display_data"
    }
   ],
   "source": [
    "drawQualificationRate(qualificationRateA)"
   ]
  },
  {
   "cell_type": "code",
   "execution_count": 116,
   "metadata": {
    "colab": {
     "autoexec": {
      "startup": false,
      "wait_interval": 0
     }
    },
    "colab_type": "code",
    "id": "il_i0oSuSLWE"
   },
   "outputs": [],
   "source": [
    "movingOn = pd.DataFrame()\n",
    "movingOnA = qualificationRateA.sort_values(by='QualifiedRate',ascending=False).head(2)\n",
    "movingOn = pd.concat([movingOn,movingOnA], ignore_index=True)"
   ]
  },
  {
   "cell_type": "markdown",
   "metadata": {
    "colab_type": "text",
    "id": "W7oNP4odA5j0"
   },
   "source": [
    "##### 3b. Qualification Rate for Group B -- Group H"
   ]
  },
  {
   "cell_type": "code",
   "execution_count": 117,
   "metadata": {
    "colab": {
     "autoexec": {
      "startup": false,
      "wait_interval": 0
     }
    },
    "colab_type": "code",
    "id": "7AxCq5IFA5j2"
   },
   "outputs": [],
   "source": [
    "#Group B： Morocco, Spain, Portugal, Iran\n",
    "fixture_B = [['Morocco', 'Portugal'], \n",
    "             ['Spain', 'Iran'], \n",
    "             ['Morocco', 'Spain'], \n",
    "             ['Iran', 'Portugal'], \n",
    "             ['Portugal', 'Spain'], \n",
    "             ['Morocco', 'Iran']]\n",
    "group_B = ['Morocco', 'Spain', 'Portugal', 'Iran']\n",
    "\n",
    "qualificationRateB = pd.DataFrame(data, columns= ['StageName', 'SimulateTimes', 'QualifiedTeam', 'WinTimes', 'QualifiedRate'])\n",
    "obj = calculate_qualified_rate(qualificationRateB,simulat_times, group_B,'Group B',fixture_B)\n",
    "\n",
    "movingOnB = qualificationRateB.sort_values(by='QualifiedRate',ascending=False).head(2)\n",
    "movingOn  = pd.concat([movingOn,movingOnB], ignore_index=True)"
   ]
  },
  {
   "cell_type": "code",
   "execution_count": 118,
   "metadata": {
    "colab": {
     "autoexec": {
      "startup": false,
      "wait_interval": 0
     }
    },
    "colab_type": "code",
    "id": "4e7pTe7WA5j2"
   },
   "outputs": [],
   "source": [
    "#Group C: France, Australia, Peru, Denmark\n",
    "fixture_C = [['France', 'Australia'], \n",
    "             ['Peru', 'Denmark'], \n",
    "             ['France', 'Peru'], \n",
    "             ['Denmark', 'Australia'], \n",
    "             ['Australia', 'Peru'], \n",
    "             ['France', 'Denmark']]\n",
    "group_C = ['France', 'Australia', 'Peru', 'Denmark']\n",
    "\n",
    "qualificationRateC = pd.DataFrame(data, columns= ['StageName', 'SimulateTimes', 'QualifiedTeam', 'WinTimes', 'QualifiedRate'])\n",
    "obj = calculate_qualified_rate(qualificationRateC, simulat_times, group_C,'Group C',fixture_C)\n",
    "\n",
    "movingOnC = qualificationRateC.sort_values(by='QualifiedRate',ascending=False).head(2)\n",
    "movingOn  = pd.concat([movingOn,movingOnC], ignore_index=True)"
   ]
  },
  {
   "cell_type": "code",
   "execution_count": 119,
   "metadata": {
    "colab": {
     "autoexec": {
      "startup": false,
      "wait_interval": 0
     }
    },
    "colab_type": "code",
    "id": "6C7jPuu0A5j3"
   },
   "outputs": [],
   "source": [
    "#Group D: Argentina, Iceland, Croatia, Nigeria\n",
    "fixture_D = [['Argentina', 'Iceland'], \n",
    "             ['Croatia', 'Nigeria'], \n",
    "             ['Argentina', 'Croatia'], \n",
    "             ['Nigeria', 'Iceland'], \n",
    "             ['Iceland', 'Croatia'], \n",
    "             ['Argentina', 'Nigeria']]\n",
    "group_D = ['Argentina', 'Iceland', 'Croatia', 'Nigeria']\n",
    "\n",
    "qualificationRateD = pd.DataFrame(data, columns= ['StageName', 'SimulateTimes', 'QualifiedTeam', 'WinTimes', 'QualifiedRate'])\n",
    "obj = calculate_qualified_rate(qualificationRateD, simulat_times, group_D,'Group D',fixture_D)\n",
    "\n",
    "movingOnD = qualificationRateD.sort_values(by='QualifiedRate',ascending=False).head(2)\n",
    "movingOn  = pd.concat([movingOn,movingOnD], ignore_index=True)"
   ]
  },
  {
   "cell_type": "code",
   "execution_count": 120,
   "metadata": {
    "colab": {
     "autoexec": {
      "startup": false,
      "wait_interval": 0
     }
    },
    "colab_type": "code",
    "id": "gTNz89_6A5j4"
   },
   "outputs": [],
   "source": [
    "#Group E: Brazil, Costa Rica, Serbia, Switzerland\n",
    "fixture_E = [['Brazil', 'Costa Rica'], \n",
    "             ['Serbia', 'Switzerland'], \n",
    "             ['Brazil', 'Serbia'], \n",
    "             ['Switzerland', 'Costa Rica'], \n",
    "             ['Costa Rica', 'Serbia'], \n",
    "             ['Brazil', 'Switzerland']]\n",
    "group_E = ['Brazil', 'Costa Rica', 'Serbia', 'Switzerland']\n",
    "\n",
    "qualificationRateE = pd.DataFrame(data, columns= ['StageName', 'SimulateTimes', 'QualifiedTeam', 'WinTimes', 'QualifiedRate'])\n",
    "obj = calculate_qualified_rate(qualificationRateE, simulat_times, group_E,'Group E',fixture_E)\n",
    "\n",
    "movingOnE = qualificationRateE.sort_values(by='QualifiedRate',ascending=False).head(2)\n",
    "movingOn  = pd.concat([movingOn,movingOnE], ignore_index=True)"
   ]
  },
  {
   "cell_type": "code",
   "execution_count": 121,
   "metadata": {
    "colab": {
     "autoexec": {
      "startup": false,
      "wait_interval": 0
     }
    },
    "colab_type": "code",
    "id": "UffpjAUOA5j6"
   },
   "outputs": [],
   "source": [
    "#Group F: Germany, Mexico, Sweden, Korea Republic\n",
    "fixture_F = [['Germany', 'Mexico'], \n",
    "             ['Sweden', 'Korea Republic'], \n",
    "             ['Germany', 'Sweden'], \n",
    "             ['Korea Republic', 'Mexico'], \n",
    "             ['Mexico', 'Sweden'], \n",
    "             ['Germany', 'Korea Republic']]\n",
    "group_F = ['Germany', 'Mexico', 'Sweden', 'Korea Republic']\n",
    "\n",
    "qualificationRateF = pd.DataFrame(data, columns= ['StageName', 'SimulateTimes', 'QualifiedTeam', 'WinTimes', 'QualifiedRate'])\n",
    "obj = calculate_qualified_rate(qualificationRateF, simulat_times, group_F,'Group F',fixture_F)\n",
    "\n",
    "movingOnF = qualificationRateF.sort_values(by='QualifiedRate',ascending=False).head(2)\n",
    "movingOn  = pd.concat([movingOn,movingOnF], ignore_index=True)"
   ]
  },
  {
   "cell_type": "code",
   "execution_count": 122,
   "metadata": {
    "colab": {
     "autoexec": {
      "startup": false,
      "wait_interval": 0
     }
    },
    "colab_type": "code",
    "id": "hQD3zSiKA5j7"
   },
   "outputs": [],
   "source": [
    "#Group G: Belgium, Panama, Tunisia, England\n",
    "fixture_G = [['Belgium', 'Panama'], \n",
    "             ['Tunisia', 'England'], \n",
    "             ['Belgium', 'Tunisia'], \n",
    "             ['England', 'Panama'], \n",
    "             ['Panama', 'Tunisia'], \n",
    "             ['Belgium', 'England']]\n",
    "group_G = ['Belgium', 'Panama', 'Tunisia', 'England']\n",
    "\n",
    "qualificationRateG = pd.DataFrame(data, columns= ['StageName', 'SimulateTimes', 'QualifiedTeam', 'WinTimes', 'QualifiedRate'])\n",
    "obj = calculate_qualified_rate(qualificationRateG, simulat_times, group_G,'Group G',fixture_G)\n",
    "\n",
    "qualificationRate = pd.concat([qualificationRate,qualificationRateG], ignore_index=True)\n",
    "movingOnG = qualificationRateG.sort_values(by='QualifiedRate',ascending=False).head(2)\n",
    "movingOn  = pd.concat([movingOn,movingOnG], ignore_index=True)"
   ]
  },
  {
   "cell_type": "code",
   "execution_count": 123,
   "metadata": {
    "colab": {
     "autoexec": {
      "startup": false,
      "wait_interval": 0
     }
    },
    "colab_type": "code",
    "id": "tB8Afl9WA5j8"
   },
   "outputs": [],
   "source": [
    "#Group H: Poland, Senegal, Colombia, Japan    \n",
    "fixture_H = [['Poland', 'Senegal'], \n",
    "             ['Colombia', 'Japan'], \n",
    "             ['Poland', 'Colombia'], \n",
    "             ['Japan', 'Senegal'], \n",
    "             ['Senegal', 'Colombia'], \n",
    "             ['Poland', 'Japan']]\n",
    "group_H = ['Poland', 'Senegal', 'Colombia', 'Japan']\n",
    "\n",
    "qualificationRateH = pd.DataFrame(data, columns= ['StageName', 'SimulateTimes', 'QualifiedTeam', 'WinTimes', 'QualifiedRate'])\n",
    "obj = calculate_qualified_rate(qualificationRateH, simulat_times, group_H,'Group E',fixture_H)\n",
    "\n",
    "movingOnH = qualificationRateH.sort_values(by='QualifiedRate',ascending=False).head(2)\n",
    "movingOn  = pd.concat([movingOn,movingOnH], ignore_index=True)"
   ]
  },
  {
   "cell_type": "code",
   "execution_count": 124,
   "metadata": {
    "colab": {
     "autoexec": {
      "startup": false,
      "wait_interval": 0
     }
    },
    "colab_type": "code",
    "id": "JVgVUgTBSLWP"
   },
   "outputs": [
    {
     "name": "stdout",
     "output_type": "stream",
     "text": [
      "Most likely to move on to round of 16:\n"
     ]
    },
    {
     "data": {
      "text/html": [
       "<div>\n",
       "<style scoped>\n",
       "    .dataframe tbody tr th:only-of-type {\n",
       "        vertical-align: middle;\n",
       "    }\n",
       "\n",
       "    .dataframe tbody tr th {\n",
       "        vertical-align: top;\n",
       "    }\n",
       "\n",
       "    .dataframe thead th {\n",
       "        text-align: right;\n",
       "    }\n",
       "</style>\n",
       "<table border=\"1\" class=\"dataframe\">\n",
       "  <thead>\n",
       "    <tr style=\"text-align: right;\">\n",
       "      <th></th>\n",
       "      <th>StageName</th>\n",
       "      <th>SimulateTimes</th>\n",
       "      <th>QualifiedTeam</th>\n",
       "      <th>WinTimes</th>\n",
       "      <th>QualifiedRate</th>\n",
       "    </tr>\n",
       "  </thead>\n",
       "  <tbody>\n",
       "    <tr>\n",
       "      <th>0</th>\n",
       "      <td>Group A</td>\n",
       "      <td>100</td>\n",
       "      <td>Russia</td>\n",
       "      <td>80</td>\n",
       "      <td>0.80</td>\n",
       "    </tr>\n",
       "    <tr>\n",
       "      <th>1</th>\n",
       "      <td>Group A</td>\n",
       "      <td>100</td>\n",
       "      <td>Uruguay</td>\n",
       "      <td>63</td>\n",
       "      <td>0.63</td>\n",
       "    </tr>\n",
       "    <tr>\n",
       "      <th>2</th>\n",
       "      <td>Group B</td>\n",
       "      <td>100</td>\n",
       "      <td>Spain</td>\n",
       "      <td>75</td>\n",
       "      <td>0.75</td>\n",
       "    </tr>\n",
       "    <tr>\n",
       "      <th>3</th>\n",
       "      <td>Group B</td>\n",
       "      <td>100</td>\n",
       "      <td>Morocco</td>\n",
       "      <td>57</td>\n",
       "      <td>0.57</td>\n",
       "    </tr>\n",
       "    <tr>\n",
       "      <th>4</th>\n",
       "      <td>Group C</td>\n",
       "      <td>100</td>\n",
       "      <td>France</td>\n",
       "      <td>82</td>\n",
       "      <td>0.82</td>\n",
       "    </tr>\n",
       "    <tr>\n",
       "      <th>5</th>\n",
       "      <td>Group C</td>\n",
       "      <td>100</td>\n",
       "      <td>Denmark</td>\n",
       "      <td>67</td>\n",
       "      <td>0.67</td>\n",
       "    </tr>\n",
       "    <tr>\n",
       "      <th>6</th>\n",
       "      <td>Group D</td>\n",
       "      <td>100</td>\n",
       "      <td>Argentina</td>\n",
       "      <td>84</td>\n",
       "      <td>0.84</td>\n",
       "    </tr>\n",
       "    <tr>\n",
       "      <th>7</th>\n",
       "      <td>Group D</td>\n",
       "      <td>100</td>\n",
       "      <td>Iceland</td>\n",
       "      <td>44</td>\n",
       "      <td>0.44</td>\n",
       "    </tr>\n",
       "    <tr>\n",
       "      <th>8</th>\n",
       "      <td>Group E</td>\n",
       "      <td>100</td>\n",
       "      <td>Brazil</td>\n",
       "      <td>90</td>\n",
       "      <td>0.90</td>\n",
       "    </tr>\n",
       "    <tr>\n",
       "      <th>9</th>\n",
       "      <td>Group E</td>\n",
       "      <td>100</td>\n",
       "      <td>Serbia</td>\n",
       "      <td>53</td>\n",
       "      <td>0.53</td>\n",
       "    </tr>\n",
       "    <tr>\n",
       "      <th>10</th>\n",
       "      <td>Group F</td>\n",
       "      <td>100</td>\n",
       "      <td>Germany</td>\n",
       "      <td>93</td>\n",
       "      <td>0.93</td>\n",
       "    </tr>\n",
       "    <tr>\n",
       "      <th>11</th>\n",
       "      <td>Group F</td>\n",
       "      <td>100</td>\n",
       "      <td>Sweden</td>\n",
       "      <td>51</td>\n",
       "      <td>0.51</td>\n",
       "    </tr>\n",
       "    <tr>\n",
       "      <th>12</th>\n",
       "      <td>Group G</td>\n",
       "      <td>100</td>\n",
       "      <td>Panama</td>\n",
       "      <td>60</td>\n",
       "      <td>0.60</td>\n",
       "    </tr>\n",
       "    <tr>\n",
       "      <th>13</th>\n",
       "      <td>Group G</td>\n",
       "      <td>100</td>\n",
       "      <td>England</td>\n",
       "      <td>59</td>\n",
       "      <td>0.59</td>\n",
       "    </tr>\n",
       "    <tr>\n",
       "      <th>14</th>\n",
       "      <td>Group E</td>\n",
       "      <td>100</td>\n",
       "      <td>Poland</td>\n",
       "      <td>60</td>\n",
       "      <td>0.60</td>\n",
       "    </tr>\n",
       "    <tr>\n",
       "      <th>15</th>\n",
       "      <td>Group E</td>\n",
       "      <td>100</td>\n",
       "      <td>Colombia</td>\n",
       "      <td>55</td>\n",
       "      <td>0.55</td>\n",
       "    </tr>\n",
       "  </tbody>\n",
       "</table>\n",
       "</div>"
      ],
      "text/plain": [
       "   StageName  SimulateTimes QualifiedTeam  WinTimes  QualifiedRate\n",
       "0    Group A            100        Russia        80           0.80\n",
       "1    Group A            100       Uruguay        63           0.63\n",
       "2    Group B            100         Spain        75           0.75\n",
       "3    Group B            100       Morocco        57           0.57\n",
       "4    Group C            100        France        82           0.82\n",
       "5    Group C            100       Denmark        67           0.67\n",
       "6    Group D            100     Argentina        84           0.84\n",
       "7    Group D            100       Iceland        44           0.44\n",
       "8    Group E            100        Brazil        90           0.90\n",
       "9    Group E            100        Serbia        53           0.53\n",
       "10   Group F            100       Germany        93           0.93\n",
       "11   Group F            100        Sweden        51           0.51\n",
       "12   Group G            100        Panama        60           0.60\n",
       "13   Group G            100       England        59           0.59\n",
       "14   Group E            100        Poland        60           0.60\n",
       "15   Group E            100      Colombia        55           0.55"
      ]
     },
     "metadata": {},
     "output_type": "display_data"
    }
   ],
   "source": [
    "print(\"Most likely to move on to round of 16:\")\n",
    "with pd.option_context('display.max_rows', None, 'display.max_columns', None):\n",
    "    display(movingOn)"
   ]
  },
  {
   "cell_type": "markdown",
   "metadata": {
    "colab_type": "text",
    "id": "U2LCD7sQA5j9"
   },
   "source": [
    "##### 3c. Predict Quarter, Semis, Finals, and Cup Winner"
   ]
  },
  {
   "cell_type": "code",
   "execution_count": 125,
   "metadata": {
    "colab": {
     "autoexec": {
      "startup": false,
      "wait_interval": 0
     }
    },
    "colab_type": "code",
    "id": "FWI2hvleA5j-"
   },
   "outputs": [
    {
     "name": "stdout",
     "output_type": "stream",
     "text": [
      "Quarter Finals\n"
     ]
    },
    {
     "data": {
      "text/html": [
       "<div>\n",
       "<style scoped>\n",
       "    .dataframe tbody tr th:only-of-type {\n",
       "        vertical-align: middle;\n",
       "    }\n",
       "\n",
       "    .dataframe tbody tr th {\n",
       "        vertical-align: top;\n",
       "    }\n",
       "\n",
       "    .dataframe thead th {\n",
       "        text-align: right;\n",
       "    }\n",
       "</style>\n",
       "<table border=\"1\" class=\"dataframe\">\n",
       "  <thead>\n",
       "    <tr style=\"text-align: right;\">\n",
       "      <th></th>\n",
       "      <th>GP</th>\n",
       "      <th>Win</th>\n",
       "      <th>Lost</th>\n",
       "    </tr>\n",
       "    <tr>\n",
       "      <th>Team</th>\n",
       "      <th></th>\n",
       "      <th></th>\n",
       "      <th></th>\n",
       "    </tr>\n",
       "  </thead>\n",
       "  <tbody>\n",
       "    <tr>\n",
       "      <th>France</th>\n",
       "      <td>100</td>\n",
       "      <td>54</td>\n",
       "      <td>46</td>\n",
       "    </tr>\n",
       "    <tr>\n",
       "      <th>Argentina</th>\n",
       "      <td>100</td>\n",
       "      <td>46</td>\n",
       "      <td>54</td>\n",
       "    </tr>\n",
       "    <tr>\n",
       "      <th>Uruguay</th>\n",
       "      <td>100</td>\n",
       "      <td>47</td>\n",
       "      <td>53</td>\n",
       "    </tr>\n",
       "    <tr>\n",
       "      <th>Portugal</th>\n",
       "      <td>100</td>\n",
       "      <td>53</td>\n",
       "      <td>47</td>\n",
       "    </tr>\n",
       "    <tr>\n",
       "      <th>Brazil</th>\n",
       "      <td>100</td>\n",
       "      <td>75</td>\n",
       "      <td>25</td>\n",
       "    </tr>\n",
       "    <tr>\n",
       "      <th>Mexico</th>\n",
       "      <td>100</td>\n",
       "      <td>25</td>\n",
       "      <td>75</td>\n",
       "    </tr>\n",
       "    <tr>\n",
       "      <th>Belgium</th>\n",
       "      <td>100</td>\n",
       "      <td>44</td>\n",
       "      <td>56</td>\n",
       "    </tr>\n",
       "    <tr>\n",
       "      <th>Japan</th>\n",
       "      <td>100</td>\n",
       "      <td>56</td>\n",
       "      <td>44</td>\n",
       "    </tr>\n",
       "    <tr>\n",
       "      <th>Spain</th>\n",
       "      <td>100</td>\n",
       "      <td>59</td>\n",
       "      <td>41</td>\n",
       "    </tr>\n",
       "    <tr>\n",
       "      <th>Russia</th>\n",
       "      <td>100</td>\n",
       "      <td>41</td>\n",
       "      <td>59</td>\n",
       "    </tr>\n",
       "    <tr>\n",
       "      <th>Croatia</th>\n",
       "      <td>100</td>\n",
       "      <td>28</td>\n",
       "      <td>72</td>\n",
       "    </tr>\n",
       "    <tr>\n",
       "      <th>Denmark</th>\n",
       "      <td>100</td>\n",
       "      <td>72</td>\n",
       "      <td>28</td>\n",
       "    </tr>\n",
       "    <tr>\n",
       "      <th>Sweden</th>\n",
       "      <td>100</td>\n",
       "      <td>60</td>\n",
       "      <td>40</td>\n",
       "    </tr>\n",
       "    <tr>\n",
       "      <th>Switzerland</th>\n",
       "      <td>100</td>\n",
       "      <td>40</td>\n",
       "      <td>60</td>\n",
       "    </tr>\n",
       "    <tr>\n",
       "      <th>Colombia</th>\n",
       "      <td>100</td>\n",
       "      <td>51</td>\n",
       "      <td>49</td>\n",
       "    </tr>\n",
       "    <tr>\n",
       "      <th>England</th>\n",
       "      <td>100</td>\n",
       "      <td>49</td>\n",
       "      <td>51</td>\n",
       "    </tr>\n",
       "  </tbody>\n",
       "</table>\n",
       "</div>"
      ],
      "text/plain": [
       "              GP  Win  Lost\n",
       "Team                       \n",
       "France       100   54    46\n",
       "Argentina    100   46    54\n",
       "Uruguay      100   47    53\n",
       "Portugal     100   53    47\n",
       "Brazil       100   75    25\n",
       "Mexico       100   25    75\n",
       "Belgium      100   44    56\n",
       "Japan        100   56    44\n",
       "Spain        100   59    41\n",
       "Russia       100   41    59\n",
       "Croatia      100   28    72\n",
       "Denmark      100   72    28\n",
       "Sweden       100   60    40\n",
       "Switzerland  100   40    60\n",
       "Colombia     100   51    49\n",
       "England      100   49    51"
      ]
     },
     "metadata": {},
     "output_type": "display_data"
    }
   ],
   "source": [
    "fixture_quarters = [['France', 'Argentina'], \n",
    "             ['Uruguay', 'Portugal'], \n",
    "             ['Brazil', 'Mexico'], \n",
    "             ['Belgium', 'Japan'], \n",
    "             ['Spain', 'Russia'], \n",
    "             ['Croatia', 'Denmark'],\n",
    "             ['Sweden', 'Switzerland'],\n",
    "             ['Colombia', 'England']]\n",
    "quarter_teams = ['France', 'Argentina', 'Uruguay', 'Portugal',\\\n",
    "                    'Brazil', 'Mexico','Belgium', 'Japan',\\\n",
    "                    'Spain', 'Russia','Croatia', 'Denmark',\\\n",
    "                   'Sweden', 'Switzerland','Colombia', 'England']\n",
    "\n",
    "games = Knockout(quarter_teams, 'Quarter Finals',fixture_quarters, 100)   \n",
    "games.play()\n",
    "print(\"Quarter Finals\")\n",
    "with pd.option_context('display.max_rows', None, 'display.max_columns', None):\n",
    "    display(games.table)"
   ]
  },
  {
   "cell_type": "code",
   "execution_count": 126,
   "metadata": {
    "colab": {
     "autoexec": {
      "startup": false,
      "wait_interval": 0
     }
    },
    "colab_type": "code",
    "id": "y9336XfsA5j_"
   },
   "outputs": [
    {
     "name": "stdout",
     "output_type": "stream",
     "text": [
      "Semi Finals\n"
     ]
    },
    {
     "data": {
      "text/html": [
       "<div>\n",
       "<style scoped>\n",
       "    .dataframe tbody tr th:only-of-type {\n",
       "        vertical-align: middle;\n",
       "    }\n",
       "\n",
       "    .dataframe tbody tr th {\n",
       "        vertical-align: top;\n",
       "    }\n",
       "\n",
       "    .dataframe thead th {\n",
       "        text-align: right;\n",
       "    }\n",
       "</style>\n",
       "<table border=\"1\" class=\"dataframe\">\n",
       "  <thead>\n",
       "    <tr style=\"text-align: right;\">\n",
       "      <th></th>\n",
       "      <th>GP</th>\n",
       "      <th>Win</th>\n",
       "      <th>Lost</th>\n",
       "    </tr>\n",
       "    <tr>\n",
       "      <th>Team</th>\n",
       "      <th></th>\n",
       "      <th></th>\n",
       "      <th></th>\n",
       "    </tr>\n",
       "  </thead>\n",
       "  <tbody>\n",
       "    <tr>\n",
       "      <th>France</th>\n",
       "      <td>100</td>\n",
       "      <td>66</td>\n",
       "      <td>34</td>\n",
       "    </tr>\n",
       "    <tr>\n",
       "      <th>Uruguay</th>\n",
       "      <td>100</td>\n",
       "      <td>34</td>\n",
       "      <td>66</td>\n",
       "    </tr>\n",
       "    <tr>\n",
       "      <th>Brazil</th>\n",
       "      <td>100</td>\n",
       "      <td>62</td>\n",
       "      <td>38</td>\n",
       "    </tr>\n",
       "    <tr>\n",
       "      <th>Belgium</th>\n",
       "      <td>100</td>\n",
       "      <td>38</td>\n",
       "      <td>62</td>\n",
       "    </tr>\n",
       "    <tr>\n",
       "      <th>Russia</th>\n",
       "      <td>100</td>\n",
       "      <td>47</td>\n",
       "      <td>53</td>\n",
       "    </tr>\n",
       "    <tr>\n",
       "      <th>Croatia</th>\n",
       "      <td>100</td>\n",
       "      <td>53</td>\n",
       "      <td>47</td>\n",
       "    </tr>\n",
       "    <tr>\n",
       "      <th>Sweden</th>\n",
       "      <td>100</td>\n",
       "      <td>40</td>\n",
       "      <td>60</td>\n",
       "    </tr>\n",
       "    <tr>\n",
       "      <th>England</th>\n",
       "      <td>100</td>\n",
       "      <td>60</td>\n",
       "      <td>40</td>\n",
       "    </tr>\n",
       "  </tbody>\n",
       "</table>\n",
       "</div>"
      ],
      "text/plain": [
       "          GP  Win  Lost\n",
       "Team                   \n",
       "France   100   66    34\n",
       "Uruguay  100   34    66\n",
       "Brazil   100   62    38\n",
       "Belgium  100   38    62\n",
       "Russia   100   47    53\n",
       "Croatia  100   53    47\n",
       "Sweden   100   40    60\n",
       "England  100   60    40"
      ]
     },
     "execution_count": 126,
     "metadata": {},
     "output_type": "execute_result"
    }
   ],
   "source": [
    "fixture_semi = [['France', 'Uruguay'], \n",
    "             ['Brazil', 'Belgium'], \n",
    "             ['Russia', 'Croatia'], \n",
    "             ['Sweden', 'England']]\n",
    "semi_teams = ['France', 'Uruguay', 'Brazil', 'Belgium','Russia', 'Croatia','Sweden', 'England']\n",
    "\n",
    "games = Knockout(semi_teams, 'Quarter Finals',fixture_semi, 100)   \n",
    "games.play()\n",
    "print(\"Semi Finals\")\n",
    "games.table"
   ]
  },
  {
   "cell_type": "code",
   "execution_count": 127,
   "metadata": {
    "colab": {
     "autoexec": {
      "startup": false,
      "wait_interval": 0
     }
    },
    "colab_type": "code",
    "id": "xBZfoKiAA5kE"
   },
   "outputs": [
    {
     "name": "stdout",
     "output_type": "stream",
     "text": [
      "Finals\n"
     ]
    },
    {
     "data": {
      "text/html": [
       "<div>\n",
       "<style scoped>\n",
       "    .dataframe tbody tr th:only-of-type {\n",
       "        vertical-align: middle;\n",
       "    }\n",
       "\n",
       "    .dataframe tbody tr th {\n",
       "        vertical-align: top;\n",
       "    }\n",
       "\n",
       "    .dataframe thead th {\n",
       "        text-align: right;\n",
       "    }\n",
       "</style>\n",
       "<table border=\"1\" class=\"dataframe\">\n",
       "  <thead>\n",
       "    <tr style=\"text-align: right;\">\n",
       "      <th></th>\n",
       "      <th>GP</th>\n",
       "      <th>Win</th>\n",
       "      <th>Lost</th>\n",
       "    </tr>\n",
       "    <tr>\n",
       "      <th>Team</th>\n",
       "      <th></th>\n",
       "      <th></th>\n",
       "      <th></th>\n",
       "    </tr>\n",
       "  </thead>\n",
       "  <tbody>\n",
       "    <tr>\n",
       "      <th>France</th>\n",
       "      <td>100</td>\n",
       "      <td>55</td>\n",
       "      <td>45</td>\n",
       "    </tr>\n",
       "    <tr>\n",
       "      <th>Belgium</th>\n",
       "      <td>100</td>\n",
       "      <td>45</td>\n",
       "      <td>55</td>\n",
       "    </tr>\n",
       "    <tr>\n",
       "      <th>Croatia</th>\n",
       "      <td>100</td>\n",
       "      <td>35</td>\n",
       "      <td>65</td>\n",
       "    </tr>\n",
       "    <tr>\n",
       "      <th>England</th>\n",
       "      <td>100</td>\n",
       "      <td>65</td>\n",
       "      <td>35</td>\n",
       "    </tr>\n",
       "  </tbody>\n",
       "</table>\n",
       "</div>"
      ],
      "text/plain": [
       "          GP  Win  Lost\n",
       "Team                   \n",
       "France   100   55    45\n",
       "Belgium  100   45    55\n",
       "Croatia  100   35    65\n",
       "England  100   65    35"
      ]
     },
     "execution_count": 127,
     "metadata": {},
     "output_type": "execute_result"
    }
   ],
   "source": [
    "fixture_final = [['France', 'Belgium'], \n",
    "             ['Croatia', 'England']]\n",
    "final_teams = ['France', 'Belgium', 'Croatia', 'England']\n",
    "games = Knockout(final_teams, 'Quarter Finals',fixture_final, 100)   \n",
    "games.play()\n",
    "print(\"Finals\")\n",
    "games.table"
   ]
  },
  {
   "cell_type": "code",
   "execution_count": 128,
   "metadata": {
    "colab": {
     "autoexec": {
      "startup": false,
      "wait_interval": 0
     }
    },
    "colab_type": "code",
    "id": "G-rwRlF-A5kG"
   },
   "outputs": [
    {
     "name": "stdout",
     "output_type": "stream",
     "text": [
      "Cup Winner\n"
     ]
    },
    {
     "data": {
      "text/html": [
       "<div>\n",
       "<style scoped>\n",
       "    .dataframe tbody tr th:only-of-type {\n",
       "        vertical-align: middle;\n",
       "    }\n",
       "\n",
       "    .dataframe tbody tr th {\n",
       "        vertical-align: top;\n",
       "    }\n",
       "\n",
       "    .dataframe thead th {\n",
       "        text-align: right;\n",
       "    }\n",
       "</style>\n",
       "<table border=\"1\" class=\"dataframe\">\n",
       "  <thead>\n",
       "    <tr style=\"text-align: right;\">\n",
       "      <th></th>\n",
       "      <th>GP</th>\n",
       "      <th>Win</th>\n",
       "      <th>Lost</th>\n",
       "    </tr>\n",
       "    <tr>\n",
       "      <th>Team</th>\n",
       "      <th></th>\n",
       "      <th></th>\n",
       "      <th></th>\n",
       "    </tr>\n",
       "  </thead>\n",
       "  <tbody>\n",
       "    <tr>\n",
       "      <th>France</th>\n",
       "      <td>100</td>\n",
       "      <td>55</td>\n",
       "      <td>45</td>\n",
       "    </tr>\n",
       "    <tr>\n",
       "      <th>Croatia</th>\n",
       "      <td>100</td>\n",
       "      <td>45</td>\n",
       "      <td>55</td>\n",
       "    </tr>\n",
       "  </tbody>\n",
       "</table>\n",
       "</div>"
      ],
      "text/plain": [
       "          GP  Win  Lost\n",
       "Team                   \n",
       "France   100   55    45\n",
       "Croatia  100   45    55"
      ]
     },
     "execution_count": 128,
     "metadata": {},
     "output_type": "execute_result"
    }
   ],
   "source": [
    "fixture_winner= [['France', 'Croatia']]\n",
    "winner = ['France', 'Croatia']\n",
    "games = Knockout(winner, 'Quarter Finals',fixture_winner, 100)   \n",
    "games.play()\n",
    "print(\"Cup Winner\")\n",
    "games.table"
   ]
  },
  {
   "cell_type": "markdown",
   "metadata": {
    "colab": {
     "autoexec": {
      "startup": false,
      "wait_interval": 0
     }
    },
    "colab_type": "code",
    "id": "EQSjp4LmA5kH"
   },
   "source": [
    "<h5 style='color:gray'>END OF CUP ANALYSIS</h5>\n",
    "***"
   ]
  },
  {
   "cell_type": "markdown",
   "metadata": {
    "colab": {
     "autoexec": {
      "startup": false,
      "wait_interval": 0
     }
    },
    "colab_type": "code",
    "id": "WE96IkGyA5kI"
   },
   "source": [
    "<h1 style='color:gray'> END OF NOTEBOOK </h1>\n",
    "<h5>Jevonne Peters, Muhammad Kalim, Xiaming Gu</h5>"
   ]
  }
 ],
 "metadata": {
  "colab": {
   "default_view": {},
   "name": "World_Cup_Jupyter_Notebook.ipynb",
   "provenance": [],
   "version": "0.3.2",
   "views": {}
  },
  "kernelspec": {
   "display_name": "Python 3",
   "language": "python",
   "name": "python3"
  },
  "language_info": {
   "codemirror_mode": {
    "name": "ipython",
    "version": 3
   },
   "file_extension": ".py",
   "mimetype": "text/x-python",
   "name": "python",
   "nbconvert_exporter": "python",
   "pygments_lexer": "ipython3",
   "version": "3.6.5"
  }
 },
 "nbformat": 4,
 "nbformat_minor": 1
}
